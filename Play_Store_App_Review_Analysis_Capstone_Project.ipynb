{
  "nbformat": 4,
  "nbformat_minor": 0,
  "metadata": {
    "kernelspec": {
      "display_name": "Python 3",
      "language": "python",
      "name": "python3"
    },
    "language_info": {
      "codemirror_mode": {
        "name": "ipython",
        "version": 3
      },
      "file_extension": ".py",
      "mimetype": "text/x-python",
      "name": "python",
      "nbconvert_exporter": "python",
      "pygments_lexer": "ipython3",
      "version": "3.6.6"
    },
    "colab": {
      "name": "Play Store App Review Analysis Capstone Project.ipynb",
      "provenance": [],
      "collapsed_sections": [],
      "include_colab_link": true
    }
  },
  "cells": [
    {
      "cell_type": "markdown",
      "metadata": {
        "id": "view-in-github",
        "colab_type": "text"
      },
      "source": [
        "<a href=\"https://colab.research.google.com/github/MadhurAwasthi/Play-store-EDA/blob/main/Play_Store_App_Review_Analysis_Capstone_Project.ipynb\" target=\"_parent\"><img src=\"https://colab.research.google.com/assets/colab-badge.svg\" alt=\"Open In Colab\"/></a>"
      ]
    },
    {
      "cell_type": "markdown",
      "metadata": {
        "id": "Y06xIdG26kRF"
      },
      "source": [
        "## <b> The Play Store apps data has enormous potential to drive app-making businesses to success. Actionable insights can be drawn for developers to work on and capture the Android market. </b>\n",
        "\n",
        "## <b> Each app (row) has values for catergory, rating, size, and more. Another dataset contains customer reviews of the android apps.</b>\n",
        "\n",
        "## <b> Explore and analyze the data to discover key factors responsible for app engagement and success. </b>"
      ]
    },
    {
      "cell_type": "markdown",
      "source": [
        "##**INTRODUCTION :**\n",
        "This project is all about Exploratory Data Analysis of play store apps data through which we are going to get insight of data and discover key components,factors responsible for the engagement and success of an application.This analysed data could be used by investors,developers to develop engaging and profitable apps ."
      ],
      "metadata": {
        "id": "ftcuuLWeatSg"
      }
    },
    {
      "cell_type": "markdown",
      "source": [
        "\n",
        "## **The whole project consists of following steps**\n",
        "\n",
        "*  Importing the data\n",
        "*  Exploring the data\n",
        "*  Cleaning the data\n",
        "*  Merging the data\n",
        "*  Analysis and Visualization\n",
        "*  Conclusion"
      ],
      "metadata": {
        "id": "H0tTrQQxAN8q"
      }
    },
    {
      "cell_type": "markdown",
      "source": [
        "**Imports**: Importing the required libraries "
      ],
      "metadata": {
        "id": "86eBzOgYoL3X"
      }
    },
    {
      "cell_type": "code",
      "source": [
        "#imports Some importance libries\n",
        "import numpy as np\n",
        "import pandas as pd\n",
        "import seaborn as sns\n",
        "import matplotlib.pyplot as plt\n",
        "import ast\n",
        "%matplotlib inline"
      ],
      "metadata": {
        "id": "3VD7WH0Aasef"
      },
      "execution_count": 5,
      "outputs": []
    },
    {
      "cell_type": "markdown",
      "source": [
        "# Importing the data"
      ],
      "metadata": {
        "id": "H9OH4RYVUbwT"
      }
    },
    {
      "cell_type": "code",
      "source": [
        "# mounting google drive\n",
        "from google.colab import drive\n",
        "drive.mount('/content/drive')"
      ],
      "metadata": {
        "id": "pOa-j-BVcBwv",
        "colab": {
          "base_uri": "https://localhost:8080/"
        },
        "outputId": "9d7932ec-ad30-458a-9b5d-dbe0b851c1fd"
      },
      "execution_count": 6,
      "outputs": [
        {
          "output_type": "stream",
          "name": "stdout",
          "text": [
            "Drive already mounted at /content/drive; to attempt to forcibly remount, call drive.mount(\"/content/drive\", force_remount=True).\n"
          ]
        }
      ]
    },
    {
      "cell_type": "code",
      "source": [
        "# Loading the dataset as a pandas data frame.\n",
        "playstore_df = pd.read_csv('/content/drive/MyDrive/CAPSTON PROJECT EDA/CAPSTON PROJECT EDA/Play Store Data.csv')\n",
        "review_df=pd.read_csv('/content/drive/MyDrive/CAPSTON PROJECT EDA/CAPSTON PROJECT EDA/User Reviews.csv')"
      ],
      "metadata": {
        "id": "jkkTN-xZpGgl"
      },
      "execution_count": 7,
      "outputs": []
    },
    {
      "cell_type": "markdown",
      "source": [
        "##**Exploring the data**  : In this section we will explore the data and take a glance of the data "
      ],
      "metadata": {
        "id": "lc2Jx-lgVt1G"
      }
    },
    {
      "cell_type": "markdown",
      "source": [
        "**Exploring 1st data frame (Playstore_df)**"
      ],
      "metadata": {
        "id": "Omwm67trZATV"
      }
    },
    {
      "cell_type": "code",
      "source": [
        "# look at shape of dataframe\n",
        "playstore_df.shape"
      ],
      "metadata": {
        "id": "fUOo594MtzW2",
        "colab": {
          "base_uri": "https://localhost:8080/"
        },
        "outputId": "690ed584-c8eb-4421-e34e-67ae9748db7d"
      },
      "execution_count": 8,
      "outputs": [
        {
          "output_type": "execute_result",
          "data": {
            "text/plain": [
              "(10841, 13)"
            ]
          },
          "metadata": {},
          "execution_count": 8
        }
      ]
    },
    {
      "cell_type": "markdown",
      "source": [
        "It has 10841 rows and 13 columns"
      ],
      "metadata": {
        "id": "hlrbPcgHbQxi"
      }
    },
    {
      "cell_type": "code",
      "source": [
        "# look at the first first few records in the apps dataframe\n",
        "playstore_df.head(10)\n"
      ],
      "metadata": {
        "id": "_ioL6sfQssEe",
        "colab": {
          "base_uri": "https://localhost:8080/",
          "height": 511
        },
        "outputId": "cc3497f4-4fd5-4166-f519-8619df6c1987"
      },
      "execution_count": 9,
      "outputs": [
        {
          "output_type": "execute_result",
          "data": {
            "text/plain": [
              "                                                 App        Category  Rating  \\\n",
              "0     Photo Editor & Candy Camera & Grid & ScrapBook  ART_AND_DESIGN     4.1   \n",
              "1                                Coloring book moana  ART_AND_DESIGN     3.9   \n",
              "2  U Launcher Lite – FREE Live Cool Themes, Hide ...  ART_AND_DESIGN     4.7   \n",
              "3                              Sketch - Draw & Paint  ART_AND_DESIGN     4.5   \n",
              "4              Pixel Draw - Number Art Coloring Book  ART_AND_DESIGN     4.3   \n",
              "5                         Paper flowers instructions  ART_AND_DESIGN     4.4   \n",
              "6            Smoke Effect Photo Maker - Smoke Editor  ART_AND_DESIGN     3.8   \n",
              "7                                   Infinite Painter  ART_AND_DESIGN     4.1   \n",
              "8                               Garden Coloring Book  ART_AND_DESIGN     4.4   \n",
              "9                      Kids Paint Free - Drawing Fun  ART_AND_DESIGN     4.7   \n",
              "\n",
              "  Reviews  Size     Installs  Type Price Content Rating  \\\n",
              "0     159   19M      10,000+  Free     0       Everyone   \n",
              "1     967   14M     500,000+  Free     0       Everyone   \n",
              "2   87510  8.7M   5,000,000+  Free     0       Everyone   \n",
              "3  215644   25M  50,000,000+  Free     0           Teen   \n",
              "4     967  2.8M     100,000+  Free     0       Everyone   \n",
              "5     167  5.6M      50,000+  Free     0       Everyone   \n",
              "6     178   19M      50,000+  Free     0       Everyone   \n",
              "7   36815   29M   1,000,000+  Free     0       Everyone   \n",
              "8   13791   33M   1,000,000+  Free     0       Everyone   \n",
              "9     121  3.1M      10,000+  Free     0       Everyone   \n",
              "\n",
              "                      Genres        Last Updated         Current Ver  \\\n",
              "0               Art & Design     January 7, 2018               1.0.0   \n",
              "1  Art & Design;Pretend Play    January 15, 2018               2.0.0   \n",
              "2               Art & Design      August 1, 2018               1.2.4   \n",
              "3               Art & Design        June 8, 2018  Varies with device   \n",
              "4    Art & Design;Creativity       June 20, 2018                 1.1   \n",
              "5               Art & Design      March 26, 2017                 1.0   \n",
              "6               Art & Design      April 26, 2018                 1.1   \n",
              "7               Art & Design       June 14, 2018            6.1.61.1   \n",
              "8               Art & Design  September 20, 2017               2.9.2   \n",
              "9    Art & Design;Creativity        July 3, 2018                 2.8   \n",
              "\n",
              "    Android Ver  \n",
              "0  4.0.3 and up  \n",
              "1  4.0.3 and up  \n",
              "2  4.0.3 and up  \n",
              "3    4.2 and up  \n",
              "4    4.4 and up  \n",
              "5    2.3 and up  \n",
              "6  4.0.3 and up  \n",
              "7    4.2 and up  \n",
              "8    3.0 and up  \n",
              "9  4.0.3 and up  "
            ],
            "text/html": [
              "\n",
              "  <div id=\"df-0811cb27-0c81-461c-a9c2-59a1a295663c\">\n",
              "    <div class=\"colab-df-container\">\n",
              "      <div>\n",
              "<style scoped>\n",
              "    .dataframe tbody tr th:only-of-type {\n",
              "        vertical-align: middle;\n",
              "    }\n",
              "\n",
              "    .dataframe tbody tr th {\n",
              "        vertical-align: top;\n",
              "    }\n",
              "\n",
              "    .dataframe thead th {\n",
              "        text-align: right;\n",
              "    }\n",
              "</style>\n",
              "<table border=\"1\" class=\"dataframe\">\n",
              "  <thead>\n",
              "    <tr style=\"text-align: right;\">\n",
              "      <th></th>\n",
              "      <th>App</th>\n",
              "      <th>Category</th>\n",
              "      <th>Rating</th>\n",
              "      <th>Reviews</th>\n",
              "      <th>Size</th>\n",
              "      <th>Installs</th>\n",
              "      <th>Type</th>\n",
              "      <th>Price</th>\n",
              "      <th>Content Rating</th>\n",
              "      <th>Genres</th>\n",
              "      <th>Last Updated</th>\n",
              "      <th>Current Ver</th>\n",
              "      <th>Android Ver</th>\n",
              "    </tr>\n",
              "  </thead>\n",
              "  <tbody>\n",
              "    <tr>\n",
              "      <th>0</th>\n",
              "      <td>Photo Editor &amp; Candy Camera &amp; Grid &amp; ScrapBook</td>\n",
              "      <td>ART_AND_DESIGN</td>\n",
              "      <td>4.1</td>\n",
              "      <td>159</td>\n",
              "      <td>19M</td>\n",
              "      <td>10,000+</td>\n",
              "      <td>Free</td>\n",
              "      <td>0</td>\n",
              "      <td>Everyone</td>\n",
              "      <td>Art &amp; Design</td>\n",
              "      <td>January 7, 2018</td>\n",
              "      <td>1.0.0</td>\n",
              "      <td>4.0.3 and up</td>\n",
              "    </tr>\n",
              "    <tr>\n",
              "      <th>1</th>\n",
              "      <td>Coloring book moana</td>\n",
              "      <td>ART_AND_DESIGN</td>\n",
              "      <td>3.9</td>\n",
              "      <td>967</td>\n",
              "      <td>14M</td>\n",
              "      <td>500,000+</td>\n",
              "      <td>Free</td>\n",
              "      <td>0</td>\n",
              "      <td>Everyone</td>\n",
              "      <td>Art &amp; Design;Pretend Play</td>\n",
              "      <td>January 15, 2018</td>\n",
              "      <td>2.0.0</td>\n",
              "      <td>4.0.3 and up</td>\n",
              "    </tr>\n",
              "    <tr>\n",
              "      <th>2</th>\n",
              "      <td>U Launcher Lite – FREE Live Cool Themes, Hide ...</td>\n",
              "      <td>ART_AND_DESIGN</td>\n",
              "      <td>4.7</td>\n",
              "      <td>87510</td>\n",
              "      <td>8.7M</td>\n",
              "      <td>5,000,000+</td>\n",
              "      <td>Free</td>\n",
              "      <td>0</td>\n",
              "      <td>Everyone</td>\n",
              "      <td>Art &amp; Design</td>\n",
              "      <td>August 1, 2018</td>\n",
              "      <td>1.2.4</td>\n",
              "      <td>4.0.3 and up</td>\n",
              "    </tr>\n",
              "    <tr>\n",
              "      <th>3</th>\n",
              "      <td>Sketch - Draw &amp; Paint</td>\n",
              "      <td>ART_AND_DESIGN</td>\n",
              "      <td>4.5</td>\n",
              "      <td>215644</td>\n",
              "      <td>25M</td>\n",
              "      <td>50,000,000+</td>\n",
              "      <td>Free</td>\n",
              "      <td>0</td>\n",
              "      <td>Teen</td>\n",
              "      <td>Art &amp; Design</td>\n",
              "      <td>June 8, 2018</td>\n",
              "      <td>Varies with device</td>\n",
              "      <td>4.2 and up</td>\n",
              "    </tr>\n",
              "    <tr>\n",
              "      <th>4</th>\n",
              "      <td>Pixel Draw - Number Art Coloring Book</td>\n",
              "      <td>ART_AND_DESIGN</td>\n",
              "      <td>4.3</td>\n",
              "      <td>967</td>\n",
              "      <td>2.8M</td>\n",
              "      <td>100,000+</td>\n",
              "      <td>Free</td>\n",
              "      <td>0</td>\n",
              "      <td>Everyone</td>\n",
              "      <td>Art &amp; Design;Creativity</td>\n",
              "      <td>June 20, 2018</td>\n",
              "      <td>1.1</td>\n",
              "      <td>4.4 and up</td>\n",
              "    </tr>\n",
              "    <tr>\n",
              "      <th>5</th>\n",
              "      <td>Paper flowers instructions</td>\n",
              "      <td>ART_AND_DESIGN</td>\n",
              "      <td>4.4</td>\n",
              "      <td>167</td>\n",
              "      <td>5.6M</td>\n",
              "      <td>50,000+</td>\n",
              "      <td>Free</td>\n",
              "      <td>0</td>\n",
              "      <td>Everyone</td>\n",
              "      <td>Art &amp; Design</td>\n",
              "      <td>March 26, 2017</td>\n",
              "      <td>1.0</td>\n",
              "      <td>2.3 and up</td>\n",
              "    </tr>\n",
              "    <tr>\n",
              "      <th>6</th>\n",
              "      <td>Smoke Effect Photo Maker - Smoke Editor</td>\n",
              "      <td>ART_AND_DESIGN</td>\n",
              "      <td>3.8</td>\n",
              "      <td>178</td>\n",
              "      <td>19M</td>\n",
              "      <td>50,000+</td>\n",
              "      <td>Free</td>\n",
              "      <td>0</td>\n",
              "      <td>Everyone</td>\n",
              "      <td>Art &amp; Design</td>\n",
              "      <td>April 26, 2018</td>\n",
              "      <td>1.1</td>\n",
              "      <td>4.0.3 and up</td>\n",
              "    </tr>\n",
              "    <tr>\n",
              "      <th>7</th>\n",
              "      <td>Infinite Painter</td>\n",
              "      <td>ART_AND_DESIGN</td>\n",
              "      <td>4.1</td>\n",
              "      <td>36815</td>\n",
              "      <td>29M</td>\n",
              "      <td>1,000,000+</td>\n",
              "      <td>Free</td>\n",
              "      <td>0</td>\n",
              "      <td>Everyone</td>\n",
              "      <td>Art &amp; Design</td>\n",
              "      <td>June 14, 2018</td>\n",
              "      <td>6.1.61.1</td>\n",
              "      <td>4.2 and up</td>\n",
              "    </tr>\n",
              "    <tr>\n",
              "      <th>8</th>\n",
              "      <td>Garden Coloring Book</td>\n",
              "      <td>ART_AND_DESIGN</td>\n",
              "      <td>4.4</td>\n",
              "      <td>13791</td>\n",
              "      <td>33M</td>\n",
              "      <td>1,000,000+</td>\n",
              "      <td>Free</td>\n",
              "      <td>0</td>\n",
              "      <td>Everyone</td>\n",
              "      <td>Art &amp; Design</td>\n",
              "      <td>September 20, 2017</td>\n",
              "      <td>2.9.2</td>\n",
              "      <td>3.0 and up</td>\n",
              "    </tr>\n",
              "    <tr>\n",
              "      <th>9</th>\n",
              "      <td>Kids Paint Free - Drawing Fun</td>\n",
              "      <td>ART_AND_DESIGN</td>\n",
              "      <td>4.7</td>\n",
              "      <td>121</td>\n",
              "      <td>3.1M</td>\n",
              "      <td>10,000+</td>\n",
              "      <td>Free</td>\n",
              "      <td>0</td>\n",
              "      <td>Everyone</td>\n",
              "      <td>Art &amp; Design;Creativity</td>\n",
              "      <td>July 3, 2018</td>\n",
              "      <td>2.8</td>\n",
              "      <td>4.0.3 and up</td>\n",
              "    </tr>\n",
              "  </tbody>\n",
              "</table>\n",
              "</div>\n",
              "      <button class=\"colab-df-convert\" onclick=\"convertToInteractive('df-0811cb27-0c81-461c-a9c2-59a1a295663c')\"\n",
              "              title=\"Convert this dataframe to an interactive table.\"\n",
              "              style=\"display:none;\">\n",
              "        \n",
              "  <svg xmlns=\"http://www.w3.org/2000/svg\" height=\"24px\"viewBox=\"0 0 24 24\"\n",
              "       width=\"24px\">\n",
              "    <path d=\"M0 0h24v24H0V0z\" fill=\"none\"/>\n",
              "    <path d=\"M18.56 5.44l.94 2.06.94-2.06 2.06-.94-2.06-.94-.94-2.06-.94 2.06-2.06.94zm-11 1L8.5 8.5l.94-2.06 2.06-.94-2.06-.94L8.5 2.5l-.94 2.06-2.06.94zm10 10l.94 2.06.94-2.06 2.06-.94-2.06-.94-.94-2.06-.94 2.06-2.06.94z\"/><path d=\"M17.41 7.96l-1.37-1.37c-.4-.4-.92-.59-1.43-.59-.52 0-1.04.2-1.43.59L10.3 9.45l-7.72 7.72c-.78.78-.78 2.05 0 2.83L4 21.41c.39.39.9.59 1.41.59.51 0 1.02-.2 1.41-.59l7.78-7.78 2.81-2.81c.8-.78.8-2.07 0-2.86zM5.41 20L4 18.59l7.72-7.72 1.47 1.35L5.41 20z\"/>\n",
              "  </svg>\n",
              "      </button>\n",
              "      \n",
              "  <style>\n",
              "    .colab-df-container {\n",
              "      display:flex;\n",
              "      flex-wrap:wrap;\n",
              "      gap: 12px;\n",
              "    }\n",
              "\n",
              "    .colab-df-convert {\n",
              "      background-color: #E8F0FE;\n",
              "      border: none;\n",
              "      border-radius: 50%;\n",
              "      cursor: pointer;\n",
              "      display: none;\n",
              "      fill: #1967D2;\n",
              "      height: 32px;\n",
              "      padding: 0 0 0 0;\n",
              "      width: 32px;\n",
              "    }\n",
              "\n",
              "    .colab-df-convert:hover {\n",
              "      background-color: #E2EBFA;\n",
              "      box-shadow: 0px 1px 2px rgba(60, 64, 67, 0.3), 0px 1px 3px 1px rgba(60, 64, 67, 0.15);\n",
              "      fill: #174EA6;\n",
              "    }\n",
              "\n",
              "    [theme=dark] .colab-df-convert {\n",
              "      background-color: #3B4455;\n",
              "      fill: #D2E3FC;\n",
              "    }\n",
              "\n",
              "    [theme=dark] .colab-df-convert:hover {\n",
              "      background-color: #434B5C;\n",
              "      box-shadow: 0px 1px 3px 1px rgba(0, 0, 0, 0.15);\n",
              "      filter: drop-shadow(0px 1px 2px rgba(0, 0, 0, 0.3));\n",
              "      fill: #FFFFFF;\n",
              "    }\n",
              "  </style>\n",
              "\n",
              "      <script>\n",
              "        const buttonEl =\n",
              "          document.querySelector('#df-0811cb27-0c81-461c-a9c2-59a1a295663c button.colab-df-convert');\n",
              "        buttonEl.style.display =\n",
              "          google.colab.kernel.accessAllowed ? 'block' : 'none';\n",
              "\n",
              "        async function convertToInteractive(key) {\n",
              "          const element = document.querySelector('#df-0811cb27-0c81-461c-a9c2-59a1a295663c');\n",
              "          const dataTable =\n",
              "            await google.colab.kernel.invokeFunction('convertToInteractive',\n",
              "                                                     [key], {});\n",
              "          if (!dataTable) return;\n",
              "\n",
              "          const docLinkHtml = 'Like what you see? Visit the ' +\n",
              "            '<a target=\"_blank\" href=https://colab.research.google.com/notebooks/data_table.ipynb>data table notebook</a>'\n",
              "            + ' to learn more about interactive tables.';\n",
              "          element.innerHTML = '';\n",
              "          dataTable['output_type'] = 'display_data';\n",
              "          await google.colab.output.renderOutput(dataTable, element);\n",
              "          const docLink = document.createElement('div');\n",
              "          docLink.innerHTML = docLinkHtml;\n",
              "          element.appendChild(docLink);\n",
              "        }\n",
              "      </script>\n",
              "    </div>\n",
              "  </div>\n",
              "  "
            ]
          },
          "metadata": {},
          "execution_count": 9
        }
      ]
    },
    {
      "cell_type": "code",
      "source": [
        "# last few records\n",
        "playstore_df.tail()"
      ],
      "metadata": {
        "id": "ktFspXObt0FH",
        "colab": {
          "base_uri": "https://localhost:8080/",
          "height": 320
        },
        "outputId": "4a8c28b0-59bd-4746-90bf-be2cfe93a789"
      },
      "execution_count": 10,
      "outputs": [
        {
          "output_type": "execute_result",
          "data": {
            "text/plain": [
              "                                                 App             Category  \\\n",
              "10836                               Sya9a Maroc - FR               FAMILY   \n",
              "10837               Fr. Mike Schmitz Audio Teachings               FAMILY   \n",
              "10838                         Parkinson Exercices FR              MEDICAL   \n",
              "10839                  The SCP Foundation DB fr nn5n  BOOKS_AND_REFERENCE   \n",
              "10840  iHoroscope - 2018 Daily Horoscope & Astrology            LIFESTYLE   \n",
              "\n",
              "       Rating Reviews                Size     Installs  Type Price  \\\n",
              "10836     4.5      38                 53M       5,000+  Free     0   \n",
              "10837     5.0       4                3.6M         100+  Free     0   \n",
              "10838     NaN       3                9.5M       1,000+  Free     0   \n",
              "10839     4.5     114  Varies with device       1,000+  Free     0   \n",
              "10840     4.5  398307                 19M  10,000,000+  Free     0   \n",
              "\n",
              "      Content Rating             Genres      Last Updated         Current Ver  \\\n",
              "10836       Everyone          Education     July 25, 2017                1.48   \n",
              "10837       Everyone          Education      July 6, 2018                 1.0   \n",
              "10838       Everyone            Medical  January 20, 2017                 1.0   \n",
              "10839     Mature 17+  Books & Reference  January 19, 2015  Varies with device   \n",
              "10840       Everyone          Lifestyle     July 25, 2018  Varies with device   \n",
              "\n",
              "              Android Ver  \n",
              "10836          4.1 and up  \n",
              "10837          4.1 and up  \n",
              "10838          2.2 and up  \n",
              "10839  Varies with device  \n",
              "10840  Varies with device  "
            ],
            "text/html": [
              "\n",
              "  <div id=\"df-7f4da33d-3383-47cd-ba8c-1de3908f7c7c\">\n",
              "    <div class=\"colab-df-container\">\n",
              "      <div>\n",
              "<style scoped>\n",
              "    .dataframe tbody tr th:only-of-type {\n",
              "        vertical-align: middle;\n",
              "    }\n",
              "\n",
              "    .dataframe tbody tr th {\n",
              "        vertical-align: top;\n",
              "    }\n",
              "\n",
              "    .dataframe thead th {\n",
              "        text-align: right;\n",
              "    }\n",
              "</style>\n",
              "<table border=\"1\" class=\"dataframe\">\n",
              "  <thead>\n",
              "    <tr style=\"text-align: right;\">\n",
              "      <th></th>\n",
              "      <th>App</th>\n",
              "      <th>Category</th>\n",
              "      <th>Rating</th>\n",
              "      <th>Reviews</th>\n",
              "      <th>Size</th>\n",
              "      <th>Installs</th>\n",
              "      <th>Type</th>\n",
              "      <th>Price</th>\n",
              "      <th>Content Rating</th>\n",
              "      <th>Genres</th>\n",
              "      <th>Last Updated</th>\n",
              "      <th>Current Ver</th>\n",
              "      <th>Android Ver</th>\n",
              "    </tr>\n",
              "  </thead>\n",
              "  <tbody>\n",
              "    <tr>\n",
              "      <th>10836</th>\n",
              "      <td>Sya9a Maroc - FR</td>\n",
              "      <td>FAMILY</td>\n",
              "      <td>4.5</td>\n",
              "      <td>38</td>\n",
              "      <td>53M</td>\n",
              "      <td>5,000+</td>\n",
              "      <td>Free</td>\n",
              "      <td>0</td>\n",
              "      <td>Everyone</td>\n",
              "      <td>Education</td>\n",
              "      <td>July 25, 2017</td>\n",
              "      <td>1.48</td>\n",
              "      <td>4.1 and up</td>\n",
              "    </tr>\n",
              "    <tr>\n",
              "      <th>10837</th>\n",
              "      <td>Fr. Mike Schmitz Audio Teachings</td>\n",
              "      <td>FAMILY</td>\n",
              "      <td>5.0</td>\n",
              "      <td>4</td>\n",
              "      <td>3.6M</td>\n",
              "      <td>100+</td>\n",
              "      <td>Free</td>\n",
              "      <td>0</td>\n",
              "      <td>Everyone</td>\n",
              "      <td>Education</td>\n",
              "      <td>July 6, 2018</td>\n",
              "      <td>1.0</td>\n",
              "      <td>4.1 and up</td>\n",
              "    </tr>\n",
              "    <tr>\n",
              "      <th>10838</th>\n",
              "      <td>Parkinson Exercices FR</td>\n",
              "      <td>MEDICAL</td>\n",
              "      <td>NaN</td>\n",
              "      <td>3</td>\n",
              "      <td>9.5M</td>\n",
              "      <td>1,000+</td>\n",
              "      <td>Free</td>\n",
              "      <td>0</td>\n",
              "      <td>Everyone</td>\n",
              "      <td>Medical</td>\n",
              "      <td>January 20, 2017</td>\n",
              "      <td>1.0</td>\n",
              "      <td>2.2 and up</td>\n",
              "    </tr>\n",
              "    <tr>\n",
              "      <th>10839</th>\n",
              "      <td>The SCP Foundation DB fr nn5n</td>\n",
              "      <td>BOOKS_AND_REFERENCE</td>\n",
              "      <td>4.5</td>\n",
              "      <td>114</td>\n",
              "      <td>Varies with device</td>\n",
              "      <td>1,000+</td>\n",
              "      <td>Free</td>\n",
              "      <td>0</td>\n",
              "      <td>Mature 17+</td>\n",
              "      <td>Books &amp; Reference</td>\n",
              "      <td>January 19, 2015</td>\n",
              "      <td>Varies with device</td>\n",
              "      <td>Varies with device</td>\n",
              "    </tr>\n",
              "    <tr>\n",
              "      <th>10840</th>\n",
              "      <td>iHoroscope - 2018 Daily Horoscope &amp; Astrology</td>\n",
              "      <td>LIFESTYLE</td>\n",
              "      <td>4.5</td>\n",
              "      <td>398307</td>\n",
              "      <td>19M</td>\n",
              "      <td>10,000,000+</td>\n",
              "      <td>Free</td>\n",
              "      <td>0</td>\n",
              "      <td>Everyone</td>\n",
              "      <td>Lifestyle</td>\n",
              "      <td>July 25, 2018</td>\n",
              "      <td>Varies with device</td>\n",
              "      <td>Varies with device</td>\n",
              "    </tr>\n",
              "  </tbody>\n",
              "</table>\n",
              "</div>\n",
              "      <button class=\"colab-df-convert\" onclick=\"convertToInteractive('df-7f4da33d-3383-47cd-ba8c-1de3908f7c7c')\"\n",
              "              title=\"Convert this dataframe to an interactive table.\"\n",
              "              style=\"display:none;\">\n",
              "        \n",
              "  <svg xmlns=\"http://www.w3.org/2000/svg\" height=\"24px\"viewBox=\"0 0 24 24\"\n",
              "       width=\"24px\">\n",
              "    <path d=\"M0 0h24v24H0V0z\" fill=\"none\"/>\n",
              "    <path d=\"M18.56 5.44l.94 2.06.94-2.06 2.06-.94-2.06-.94-.94-2.06-.94 2.06-2.06.94zm-11 1L8.5 8.5l.94-2.06 2.06-.94-2.06-.94L8.5 2.5l-.94 2.06-2.06.94zm10 10l.94 2.06.94-2.06 2.06-.94-2.06-.94-.94-2.06-.94 2.06-2.06.94z\"/><path d=\"M17.41 7.96l-1.37-1.37c-.4-.4-.92-.59-1.43-.59-.52 0-1.04.2-1.43.59L10.3 9.45l-7.72 7.72c-.78.78-.78 2.05 0 2.83L4 21.41c.39.39.9.59 1.41.59.51 0 1.02-.2 1.41-.59l7.78-7.78 2.81-2.81c.8-.78.8-2.07 0-2.86zM5.41 20L4 18.59l7.72-7.72 1.47 1.35L5.41 20z\"/>\n",
              "  </svg>\n",
              "      </button>\n",
              "      \n",
              "  <style>\n",
              "    .colab-df-container {\n",
              "      display:flex;\n",
              "      flex-wrap:wrap;\n",
              "      gap: 12px;\n",
              "    }\n",
              "\n",
              "    .colab-df-convert {\n",
              "      background-color: #E8F0FE;\n",
              "      border: none;\n",
              "      border-radius: 50%;\n",
              "      cursor: pointer;\n",
              "      display: none;\n",
              "      fill: #1967D2;\n",
              "      height: 32px;\n",
              "      padding: 0 0 0 0;\n",
              "      width: 32px;\n",
              "    }\n",
              "\n",
              "    .colab-df-convert:hover {\n",
              "      background-color: #E2EBFA;\n",
              "      box-shadow: 0px 1px 2px rgba(60, 64, 67, 0.3), 0px 1px 3px 1px rgba(60, 64, 67, 0.15);\n",
              "      fill: #174EA6;\n",
              "    }\n",
              "\n",
              "    [theme=dark] .colab-df-convert {\n",
              "      background-color: #3B4455;\n",
              "      fill: #D2E3FC;\n",
              "    }\n",
              "\n",
              "    [theme=dark] .colab-df-convert:hover {\n",
              "      background-color: #434B5C;\n",
              "      box-shadow: 0px 1px 3px 1px rgba(0, 0, 0, 0.15);\n",
              "      filter: drop-shadow(0px 1px 2px rgba(0, 0, 0, 0.3));\n",
              "      fill: #FFFFFF;\n",
              "    }\n",
              "  </style>\n",
              "\n",
              "      <script>\n",
              "        const buttonEl =\n",
              "          document.querySelector('#df-7f4da33d-3383-47cd-ba8c-1de3908f7c7c button.colab-df-convert');\n",
              "        buttonEl.style.display =\n",
              "          google.colab.kernel.accessAllowed ? 'block' : 'none';\n",
              "\n",
              "        async function convertToInteractive(key) {\n",
              "          const element = document.querySelector('#df-7f4da33d-3383-47cd-ba8c-1de3908f7c7c');\n",
              "          const dataTable =\n",
              "            await google.colab.kernel.invokeFunction('convertToInteractive',\n",
              "                                                     [key], {});\n",
              "          if (!dataTable) return;\n",
              "\n",
              "          const docLinkHtml = 'Like what you see? Visit the ' +\n",
              "            '<a target=\"_blank\" href=https://colab.research.google.com/notebooks/data_table.ipynb>data table notebook</a>'\n",
              "            + ' to learn more about interactive tables.';\n",
              "          element.innerHTML = '';\n",
              "          dataTable['output_type'] = 'display_data';\n",
              "          await google.colab.output.renderOutput(dataTable, element);\n",
              "          const docLink = document.createElement('div');\n",
              "          docLink.innerHTML = docLinkHtml;\n",
              "          element.appendChild(docLink);\n",
              "        }\n",
              "      </script>\n",
              "    </div>\n",
              "  </div>\n",
              "  "
            ]
          },
          "metadata": {},
          "execution_count": 10
        }
      ]
    },
    {
      "cell_type": "code",
      "source": [
        "# look at the info of the dataframe\n",
        "playstore_df.info()"
      ],
      "metadata": {
        "id": "fWWvmHcczfOf",
        "colab": {
          "base_uri": "https://localhost:8080/"
        },
        "outputId": "4f6a8cbb-887e-469f-81d0-2d7113c2d776"
      },
      "execution_count": 11,
      "outputs": [
        {
          "output_type": "stream",
          "name": "stdout",
          "text": [
            "<class 'pandas.core.frame.DataFrame'>\n",
            "RangeIndex: 10841 entries, 0 to 10840\n",
            "Data columns (total 13 columns):\n",
            " #   Column          Non-Null Count  Dtype  \n",
            "---  ------          --------------  -----  \n",
            " 0   App             10841 non-null  object \n",
            " 1   Category        10841 non-null  object \n",
            " 2   Rating          9367 non-null   float64\n",
            " 3   Reviews         10841 non-null  object \n",
            " 4   Size            10841 non-null  object \n",
            " 5   Installs        10841 non-null  object \n",
            " 6   Type            10840 non-null  object \n",
            " 7   Price           10841 non-null  object \n",
            " 8   Content Rating  10840 non-null  object \n",
            " 9   Genres          10841 non-null  object \n",
            " 10  Last Updated    10841 non-null  object \n",
            " 11  Current Ver     10833 non-null  object \n",
            " 12  Android Ver     10838 non-null  object \n",
            "dtypes: float64(1), object(12)\n",
            "memory usage: 1.1+ MB\n"
          ]
        }
      ]
    },
    {
      "cell_type": "markdown",
      "source": [
        "By looking at the info of (playstore_df) we found some of the values are null and most columns datatype is object"
      ],
      "metadata": {
        "id": "wA2A1ar8X22W"
      }
    },
    {
      "cell_type": "markdown",
      "source": [
        "#**Description of App Dataset columns**\n",
        "\n",
        "1.    App : The name of the app\n",
        "2.    Category : The category of the app\n",
        "3.    Rating : The rating of the app in the Play Store\n",
        "4.    Reviews : The number of reviews of the app\n",
        "5.    Size : The size of the app\n",
        "6.    Install : The number of installs of the app\n",
        "7.    Type : The type of the app (Free/Paid)\n",
        "8.    price: The price of the app (0 if it is Free)\n",
        "9.    Content Rating :The appropiate target audience of the app\n",
        "10.   Genres: The genre of the app\n",
        "11.   Last Updated : The date when the app was last updated\n",
        "12.   Current Ver : The current version of the app\n",
        "13.   Android Ver : The minimum Android version required to run the app"
      ],
      "metadata": {
        "id": "ALPFh3eE3hGr"
      }
    },
    {
      "cell_type": "markdown",
      "source": [
        "**Let us explore 2nd dataframe (review_df)**"
      ],
      "metadata": {
        "id": "TLbbc9_aZaU4"
      }
    },
    {
      "cell_type": "code",
      "source": [
        "# find shape of dataframe \n",
        "review_df.shape"
      ],
      "metadata": {
        "id": "s-oUNQBeZnzI",
        "colab": {
          "base_uri": "https://localhost:8080/"
        },
        "outputId": "885727c6-fc96-4d83-911c-b8c5acc0c38a"
      },
      "execution_count": 12,
      "outputs": [
        {
          "output_type": "execute_result",
          "data": {
            "text/plain": [
              "(64295, 5)"
            ]
          },
          "metadata": {},
          "execution_count": 12
        }
      ]
    },
    {
      "cell_type": "markdown",
      "source": [
        "It has 64295 rows and 5 columns"
      ],
      "metadata": {
        "id": "FcDTQhu7beQO"
      }
    },
    {
      "cell_type": "code",
      "source": [
        "review_df.head()"
      ],
      "metadata": {
        "id": "l4eOIJO2ZnpZ",
        "colab": {
          "base_uri": "https://localhost:8080/",
          "height": 206
        },
        "outputId": "9b221296-3c84-4244-983b-60e950bf67ae"
      },
      "execution_count": 13,
      "outputs": [
        {
          "output_type": "execute_result",
          "data": {
            "text/plain": [
              "                     App                                  Translated_Review  \\\n",
              "0  10 Best Foods for You  I like eat delicious food. That's I'm cooking ...   \n",
              "1  10 Best Foods for You    This help eating healthy exercise regular basis   \n",
              "2  10 Best Foods for You                                                NaN   \n",
              "3  10 Best Foods for You         Works great especially going grocery store   \n",
              "4  10 Best Foods for You                                       Best idea us   \n",
              "\n",
              "  Sentiment  Sentiment_Polarity  Sentiment_Subjectivity  \n",
              "0  Positive                1.00                0.533333  \n",
              "1  Positive                0.25                0.288462  \n",
              "2       NaN                 NaN                     NaN  \n",
              "3  Positive                0.40                0.875000  \n",
              "4  Positive                1.00                0.300000  "
            ],
            "text/html": [
              "\n",
              "  <div id=\"df-33a751f7-d1d1-412f-96fc-acb7985f887d\">\n",
              "    <div class=\"colab-df-container\">\n",
              "      <div>\n",
              "<style scoped>\n",
              "    .dataframe tbody tr th:only-of-type {\n",
              "        vertical-align: middle;\n",
              "    }\n",
              "\n",
              "    .dataframe tbody tr th {\n",
              "        vertical-align: top;\n",
              "    }\n",
              "\n",
              "    .dataframe thead th {\n",
              "        text-align: right;\n",
              "    }\n",
              "</style>\n",
              "<table border=\"1\" class=\"dataframe\">\n",
              "  <thead>\n",
              "    <tr style=\"text-align: right;\">\n",
              "      <th></th>\n",
              "      <th>App</th>\n",
              "      <th>Translated_Review</th>\n",
              "      <th>Sentiment</th>\n",
              "      <th>Sentiment_Polarity</th>\n",
              "      <th>Sentiment_Subjectivity</th>\n",
              "    </tr>\n",
              "  </thead>\n",
              "  <tbody>\n",
              "    <tr>\n",
              "      <th>0</th>\n",
              "      <td>10 Best Foods for You</td>\n",
              "      <td>I like eat delicious food. That's I'm cooking ...</td>\n",
              "      <td>Positive</td>\n",
              "      <td>1.00</td>\n",
              "      <td>0.533333</td>\n",
              "    </tr>\n",
              "    <tr>\n",
              "      <th>1</th>\n",
              "      <td>10 Best Foods for You</td>\n",
              "      <td>This help eating healthy exercise regular basis</td>\n",
              "      <td>Positive</td>\n",
              "      <td>0.25</td>\n",
              "      <td>0.288462</td>\n",
              "    </tr>\n",
              "    <tr>\n",
              "      <th>2</th>\n",
              "      <td>10 Best Foods for You</td>\n",
              "      <td>NaN</td>\n",
              "      <td>NaN</td>\n",
              "      <td>NaN</td>\n",
              "      <td>NaN</td>\n",
              "    </tr>\n",
              "    <tr>\n",
              "      <th>3</th>\n",
              "      <td>10 Best Foods for You</td>\n",
              "      <td>Works great especially going grocery store</td>\n",
              "      <td>Positive</td>\n",
              "      <td>0.40</td>\n",
              "      <td>0.875000</td>\n",
              "    </tr>\n",
              "    <tr>\n",
              "      <th>4</th>\n",
              "      <td>10 Best Foods for You</td>\n",
              "      <td>Best idea us</td>\n",
              "      <td>Positive</td>\n",
              "      <td>1.00</td>\n",
              "      <td>0.300000</td>\n",
              "    </tr>\n",
              "  </tbody>\n",
              "</table>\n",
              "</div>\n",
              "      <button class=\"colab-df-convert\" onclick=\"convertToInteractive('df-33a751f7-d1d1-412f-96fc-acb7985f887d')\"\n",
              "              title=\"Convert this dataframe to an interactive table.\"\n",
              "              style=\"display:none;\">\n",
              "        \n",
              "  <svg xmlns=\"http://www.w3.org/2000/svg\" height=\"24px\"viewBox=\"0 0 24 24\"\n",
              "       width=\"24px\">\n",
              "    <path d=\"M0 0h24v24H0V0z\" fill=\"none\"/>\n",
              "    <path d=\"M18.56 5.44l.94 2.06.94-2.06 2.06-.94-2.06-.94-.94-2.06-.94 2.06-2.06.94zm-11 1L8.5 8.5l.94-2.06 2.06-.94-2.06-.94L8.5 2.5l-.94 2.06-2.06.94zm10 10l.94 2.06.94-2.06 2.06-.94-2.06-.94-.94-2.06-.94 2.06-2.06.94z\"/><path d=\"M17.41 7.96l-1.37-1.37c-.4-.4-.92-.59-1.43-.59-.52 0-1.04.2-1.43.59L10.3 9.45l-7.72 7.72c-.78.78-.78 2.05 0 2.83L4 21.41c.39.39.9.59 1.41.59.51 0 1.02-.2 1.41-.59l7.78-7.78 2.81-2.81c.8-.78.8-2.07 0-2.86zM5.41 20L4 18.59l7.72-7.72 1.47 1.35L5.41 20z\"/>\n",
              "  </svg>\n",
              "      </button>\n",
              "      \n",
              "  <style>\n",
              "    .colab-df-container {\n",
              "      display:flex;\n",
              "      flex-wrap:wrap;\n",
              "      gap: 12px;\n",
              "    }\n",
              "\n",
              "    .colab-df-convert {\n",
              "      background-color: #E8F0FE;\n",
              "      border: none;\n",
              "      border-radius: 50%;\n",
              "      cursor: pointer;\n",
              "      display: none;\n",
              "      fill: #1967D2;\n",
              "      height: 32px;\n",
              "      padding: 0 0 0 0;\n",
              "      width: 32px;\n",
              "    }\n",
              "\n",
              "    .colab-df-convert:hover {\n",
              "      background-color: #E2EBFA;\n",
              "      box-shadow: 0px 1px 2px rgba(60, 64, 67, 0.3), 0px 1px 3px 1px rgba(60, 64, 67, 0.15);\n",
              "      fill: #174EA6;\n",
              "    }\n",
              "\n",
              "    [theme=dark] .colab-df-convert {\n",
              "      background-color: #3B4455;\n",
              "      fill: #D2E3FC;\n",
              "    }\n",
              "\n",
              "    [theme=dark] .colab-df-convert:hover {\n",
              "      background-color: #434B5C;\n",
              "      box-shadow: 0px 1px 3px 1px rgba(0, 0, 0, 0.15);\n",
              "      filter: drop-shadow(0px 1px 2px rgba(0, 0, 0, 0.3));\n",
              "      fill: #FFFFFF;\n",
              "    }\n",
              "  </style>\n",
              "\n",
              "      <script>\n",
              "        const buttonEl =\n",
              "          document.querySelector('#df-33a751f7-d1d1-412f-96fc-acb7985f887d button.colab-df-convert');\n",
              "        buttonEl.style.display =\n",
              "          google.colab.kernel.accessAllowed ? 'block' : 'none';\n",
              "\n",
              "        async function convertToInteractive(key) {\n",
              "          const element = document.querySelector('#df-33a751f7-d1d1-412f-96fc-acb7985f887d');\n",
              "          const dataTable =\n",
              "            await google.colab.kernel.invokeFunction('convertToInteractive',\n",
              "                                                     [key], {});\n",
              "          if (!dataTable) return;\n",
              "\n",
              "          const docLinkHtml = 'Like what you see? Visit the ' +\n",
              "            '<a target=\"_blank\" href=https://colab.research.google.com/notebooks/data_table.ipynb>data table notebook</a>'\n",
              "            + ' to learn more about interactive tables.';\n",
              "          element.innerHTML = '';\n",
              "          dataTable['output_type'] = 'display_data';\n",
              "          await google.colab.output.renderOutput(dataTable, element);\n",
              "          const docLink = document.createElement('div');\n",
              "          docLink.innerHTML = docLinkHtml;\n",
              "          element.appendChild(docLink);\n",
              "        }\n",
              "      </script>\n",
              "    </div>\n",
              "  </div>\n",
              "  "
            ]
          },
          "metadata": {},
          "execution_count": 13
        }
      ]
    },
    {
      "cell_type": "code",
      "source": [
        "review_df.tail()"
      ],
      "metadata": {
        "id": "V7fRhS7VZn9_",
        "colab": {
          "base_uri": "https://localhost:8080/",
          "height": 206
        },
        "outputId": "2937ddcb-4050-4dba-f890-3b897118984a"
      },
      "execution_count": 14,
      "outputs": [
        {
          "output_type": "execute_result",
          "data": {
            "text/plain": [
              "                               App Translated_Review Sentiment  \\\n",
              "64290  Houzz Interior Design Ideas               NaN       NaN   \n",
              "64291  Houzz Interior Design Ideas               NaN       NaN   \n",
              "64292  Houzz Interior Design Ideas               NaN       NaN   \n",
              "64293  Houzz Interior Design Ideas               NaN       NaN   \n",
              "64294  Houzz Interior Design Ideas               NaN       NaN   \n",
              "\n",
              "       Sentiment_Polarity  Sentiment_Subjectivity  \n",
              "64290                 NaN                     NaN  \n",
              "64291                 NaN                     NaN  \n",
              "64292                 NaN                     NaN  \n",
              "64293                 NaN                     NaN  \n",
              "64294                 NaN                     NaN  "
            ],
            "text/html": [
              "\n",
              "  <div id=\"df-c0bc9b2b-b8cb-40c8-981f-74404d931baf\">\n",
              "    <div class=\"colab-df-container\">\n",
              "      <div>\n",
              "<style scoped>\n",
              "    .dataframe tbody tr th:only-of-type {\n",
              "        vertical-align: middle;\n",
              "    }\n",
              "\n",
              "    .dataframe tbody tr th {\n",
              "        vertical-align: top;\n",
              "    }\n",
              "\n",
              "    .dataframe thead th {\n",
              "        text-align: right;\n",
              "    }\n",
              "</style>\n",
              "<table border=\"1\" class=\"dataframe\">\n",
              "  <thead>\n",
              "    <tr style=\"text-align: right;\">\n",
              "      <th></th>\n",
              "      <th>App</th>\n",
              "      <th>Translated_Review</th>\n",
              "      <th>Sentiment</th>\n",
              "      <th>Sentiment_Polarity</th>\n",
              "      <th>Sentiment_Subjectivity</th>\n",
              "    </tr>\n",
              "  </thead>\n",
              "  <tbody>\n",
              "    <tr>\n",
              "      <th>64290</th>\n",
              "      <td>Houzz Interior Design Ideas</td>\n",
              "      <td>NaN</td>\n",
              "      <td>NaN</td>\n",
              "      <td>NaN</td>\n",
              "      <td>NaN</td>\n",
              "    </tr>\n",
              "    <tr>\n",
              "      <th>64291</th>\n",
              "      <td>Houzz Interior Design Ideas</td>\n",
              "      <td>NaN</td>\n",
              "      <td>NaN</td>\n",
              "      <td>NaN</td>\n",
              "      <td>NaN</td>\n",
              "    </tr>\n",
              "    <tr>\n",
              "      <th>64292</th>\n",
              "      <td>Houzz Interior Design Ideas</td>\n",
              "      <td>NaN</td>\n",
              "      <td>NaN</td>\n",
              "      <td>NaN</td>\n",
              "      <td>NaN</td>\n",
              "    </tr>\n",
              "    <tr>\n",
              "      <th>64293</th>\n",
              "      <td>Houzz Interior Design Ideas</td>\n",
              "      <td>NaN</td>\n",
              "      <td>NaN</td>\n",
              "      <td>NaN</td>\n",
              "      <td>NaN</td>\n",
              "    </tr>\n",
              "    <tr>\n",
              "      <th>64294</th>\n",
              "      <td>Houzz Interior Design Ideas</td>\n",
              "      <td>NaN</td>\n",
              "      <td>NaN</td>\n",
              "      <td>NaN</td>\n",
              "      <td>NaN</td>\n",
              "    </tr>\n",
              "  </tbody>\n",
              "</table>\n",
              "</div>\n",
              "      <button class=\"colab-df-convert\" onclick=\"convertToInteractive('df-c0bc9b2b-b8cb-40c8-981f-74404d931baf')\"\n",
              "              title=\"Convert this dataframe to an interactive table.\"\n",
              "              style=\"display:none;\">\n",
              "        \n",
              "  <svg xmlns=\"http://www.w3.org/2000/svg\" height=\"24px\"viewBox=\"0 0 24 24\"\n",
              "       width=\"24px\">\n",
              "    <path d=\"M0 0h24v24H0V0z\" fill=\"none\"/>\n",
              "    <path d=\"M18.56 5.44l.94 2.06.94-2.06 2.06-.94-2.06-.94-.94-2.06-.94 2.06-2.06.94zm-11 1L8.5 8.5l.94-2.06 2.06-.94-2.06-.94L8.5 2.5l-.94 2.06-2.06.94zm10 10l.94 2.06.94-2.06 2.06-.94-2.06-.94-.94-2.06-.94 2.06-2.06.94z\"/><path d=\"M17.41 7.96l-1.37-1.37c-.4-.4-.92-.59-1.43-.59-.52 0-1.04.2-1.43.59L10.3 9.45l-7.72 7.72c-.78.78-.78 2.05 0 2.83L4 21.41c.39.39.9.59 1.41.59.51 0 1.02-.2 1.41-.59l7.78-7.78 2.81-2.81c.8-.78.8-2.07 0-2.86zM5.41 20L4 18.59l7.72-7.72 1.47 1.35L5.41 20z\"/>\n",
              "  </svg>\n",
              "      </button>\n",
              "      \n",
              "  <style>\n",
              "    .colab-df-container {\n",
              "      display:flex;\n",
              "      flex-wrap:wrap;\n",
              "      gap: 12px;\n",
              "    }\n",
              "\n",
              "    .colab-df-convert {\n",
              "      background-color: #E8F0FE;\n",
              "      border: none;\n",
              "      border-radius: 50%;\n",
              "      cursor: pointer;\n",
              "      display: none;\n",
              "      fill: #1967D2;\n",
              "      height: 32px;\n",
              "      padding: 0 0 0 0;\n",
              "      width: 32px;\n",
              "    }\n",
              "\n",
              "    .colab-df-convert:hover {\n",
              "      background-color: #E2EBFA;\n",
              "      box-shadow: 0px 1px 2px rgba(60, 64, 67, 0.3), 0px 1px 3px 1px rgba(60, 64, 67, 0.15);\n",
              "      fill: #174EA6;\n",
              "    }\n",
              "\n",
              "    [theme=dark] .colab-df-convert {\n",
              "      background-color: #3B4455;\n",
              "      fill: #D2E3FC;\n",
              "    }\n",
              "\n",
              "    [theme=dark] .colab-df-convert:hover {\n",
              "      background-color: #434B5C;\n",
              "      box-shadow: 0px 1px 3px 1px rgba(0, 0, 0, 0.15);\n",
              "      filter: drop-shadow(0px 1px 2px rgba(0, 0, 0, 0.3));\n",
              "      fill: #FFFFFF;\n",
              "    }\n",
              "  </style>\n",
              "\n",
              "      <script>\n",
              "        const buttonEl =\n",
              "          document.querySelector('#df-c0bc9b2b-b8cb-40c8-981f-74404d931baf button.colab-df-convert');\n",
              "        buttonEl.style.display =\n",
              "          google.colab.kernel.accessAllowed ? 'block' : 'none';\n",
              "\n",
              "        async function convertToInteractive(key) {\n",
              "          const element = document.querySelector('#df-c0bc9b2b-b8cb-40c8-981f-74404d931baf');\n",
              "          const dataTable =\n",
              "            await google.colab.kernel.invokeFunction('convertToInteractive',\n",
              "                                                     [key], {});\n",
              "          if (!dataTable) return;\n",
              "\n",
              "          const docLinkHtml = 'Like what you see? Visit the ' +\n",
              "            '<a target=\"_blank\" href=https://colab.research.google.com/notebooks/data_table.ipynb>data table notebook</a>'\n",
              "            + ' to learn more about interactive tables.';\n",
              "          element.innerHTML = '';\n",
              "          dataTable['output_type'] = 'display_data';\n",
              "          await google.colab.output.renderOutput(dataTable, element);\n",
              "          const docLink = document.createElement('div');\n",
              "          docLink.innerHTML = docLinkHtml;\n",
              "          element.appendChild(docLink);\n",
              "        }\n",
              "      </script>\n",
              "    </div>\n",
              "  </div>\n",
              "  "
            ]
          },
          "metadata": {},
          "execution_count": 14
        }
      ]
    },
    {
      "cell_type": "code",
      "source": [
        "review_df.info()"
      ],
      "metadata": {
        "id": "52Fo53LJb01C",
        "colab": {
          "base_uri": "https://localhost:8080/"
        },
        "outputId": "13053c44-1e4b-446c-e285-f0978664c9bb"
      },
      "execution_count": 15,
      "outputs": [
        {
          "output_type": "stream",
          "name": "stdout",
          "text": [
            "<class 'pandas.core.frame.DataFrame'>\n",
            "RangeIndex: 64295 entries, 0 to 64294\n",
            "Data columns (total 5 columns):\n",
            " #   Column                  Non-Null Count  Dtype  \n",
            "---  ------                  --------------  -----  \n",
            " 0   App                     64295 non-null  object \n",
            " 1   Translated_Review       37427 non-null  object \n",
            " 2   Sentiment               37432 non-null  object \n",
            " 3   Sentiment_Polarity      37432 non-null  float64\n",
            " 4   Sentiment_Subjectivity  37432 non-null  float64\n",
            "dtypes: float64(2), object(3)\n",
            "memory usage: 2.5+ MB\n"
          ]
        }
      ]
    },
    {
      "cell_type": "markdown",
      "source": [
        "By looking at review dataframe info we found it has many null values and only 3 columns namely(Sentiment,Sentiment_polarity,Sentiment_subjectivity) having same\n",
        "number of non null values "
      ],
      "metadata": {
        "id": "3hwnJPIdcBZ_"
      }
    },
    {
      "cell_type": "code",
      "source": [
        ""
      ],
      "metadata": {
        "id": "cADzPf9cMFzU"
      },
      "execution_count": 15,
      "outputs": []
    },
    {
      "cell_type": "markdown",
      "source": [
        "# **Description of reviews dataframe columns**\n",
        "App : The name of the app\n",
        "\n",
        "---\n",
        "\n",
        "\n",
        "Transleted_Review: Given review by users\n",
        "\n",
        "---\n",
        "\n",
        "\n",
        "Sentiment: The sentiment of user regarding the app\n",
        "\n",
        "---\n",
        "\n",
        "\n",
        "Sentiment_Polarity : numerical rating of sentiment[-1 to 1]\n",
        "\n",
        "---\n",
        "Sentiment_subjectivity :personal opinion, emotion or judgment[0 to 1]\n"
      ],
      "metadata": {
        "id": "6pbZYf68dD4I"
      }
    },
    {
      "cell_type": "markdown",
      "source": [
        "# **Data Cleaning and data Preparation**:In this section we will remove null values,redundant and unnecessary data which could hinder the data analysis process and prepare data ready for analysing."
      ],
      "metadata": {
        "id": "7PpYiwIN73Yl"
      }
    },
    {
      "cell_type": "markdown",
      "source": [
        "**cleaning 1st data frame(playstore_df)**"
      ],
      "metadata": {
        "id": "B2VRPyhlALuE"
      }
    },
    {
      "cell_type": "code",
      "source": [
        "# finding the duplicates in playstore_df\n",
        "playstore_df.duplicated(keep='last').sum()"
      ],
      "metadata": {
        "id": "w9DlPv4tAUCR",
        "colab": {
          "base_uri": "https://localhost:8080/"
        },
        "outputId": "3f436f91-f974-4967-803a-ece0c05bc3ce"
      },
      "execution_count": 16,
      "outputs": [
        {
          "output_type": "execute_result",
          "data": {
            "text/plain": [
              "483"
            ]
          },
          "metadata": {},
          "execution_count": 16
        }
      ]
    },
    {
      "cell_type": "code",
      "source": [
        "#there are 483 duplicate rows so let us remove them\n",
        "playstore_df.drop_duplicates(keep='last',inplace=True)"
      ],
      "metadata": {
        "id": "GOyv-qObDgTJ"
      },
      "execution_count": 17,
      "outputs": []
    },
    {
      "cell_type": "code",
      "source": [
        "# let us us see if there are more duplicates\n",
        "playstore_df.duplicated(subset=['App','Category','Rating']).sum()\n",
        "\n",
        "# 680 rows having same app and rating"
      ],
      "metadata": {
        "id": "EEE7V3znJzyL",
        "colab": {
          "base_uri": "https://localhost:8080/"
        },
        "outputId": "746257df-a603-4656-cf13-96c7a2dbf8db"
      },
      "execution_count": 18,
      "outputs": [
        {
          "output_type": "execute_result",
          "data": {
            "text/plain": [
              "603"
            ]
          },
          "metadata": {},
          "execution_count": 18
        }
      ]
    },
    {
      "cell_type": "code",
      "source": [
        "# now let us remove these duplicates\n",
        "playstore_df.drop_duplicates(subset=['App','Rating', 'Category'],keep='last',inplace=True)"
      ],
      "metadata": {
        "id": "vcyzEoS9Goxe"
      },
      "execution_count": 19,
      "outputs": []
    },
    {
      "cell_type": "code",
      "source": [
        "# we have seen that \"Rating\" column consists of huge amount of null values let us check it further\n",
        "playstore_df[playstore_df['Rating'].isna()].count()"
      ],
      "metadata": {
        "id": "tQ65v7LxHL8W",
        "colab": {
          "base_uri": "https://localhost:8080/"
        },
        "outputId": "277e209d-b4e3-48d7-b7dc-8b2a73fb3f90"
      },
      "execution_count": 20,
      "outputs": [
        {
          "output_type": "execute_result",
          "data": {
            "text/plain": [
              "App               1465\n",
              "Category          1465\n",
              "Rating               0\n",
              "Reviews           1465\n",
              "Size              1465\n",
              "Installs          1465\n",
              "Type              1464\n",
              "Price             1465\n",
              "Content Rating    1465\n",
              "Genres            1465\n",
              "Last Updated      1465\n",
              "Current Ver       1461\n",
              "Android Ver       1465\n",
              "dtype: int64"
            ]
          },
          "metadata": {},
          "execution_count": 20
        }
      ]
    },
    {
      "cell_type": "markdown",
      "source": [
        "total 1464 rows having null 'Rating'"
      ],
      "metadata": {
        "id": "esqgbteZLr8n"
      }
    },
    {
      "cell_type": "code",
      "source": [
        "# let us see it\n",
        "playstore_df[playstore_df['Rating'].isna()].head(50)"
      ],
      "metadata": {
        "id": "Jvo_T3Z2MJa0",
        "colab": {
          "base_uri": "https://localhost:8080/",
          "height": 1000
        },
        "outputId": "2fd1d1af-e27c-4b75-d16e-81139cfcca92"
      },
      "execution_count": 21,
      "outputs": [
        {
          "output_type": "execute_result",
          "data": {
            "text/plain": [
              "                                                   App             Category  \\\n",
              "23                              Mcqueen Coloring pages       ART_AND_DESIGN   \n",
              "113                          Wrinkles and rejuvenation               BEAUTY   \n",
              "123                             Manicure - nail design               BEAUTY   \n",
              "126                       Skin Care and Natural Beauty               BEAUTY   \n",
              "129                Secrets of beauty, youth and health               BEAUTY   \n",
              "130                 Recipes and tips for losing weight               BEAUTY   \n",
              "134                      Lady adviser (beauty, health)               BEAUTY   \n",
              "163                         Anonymous caller detection  BOOKS_AND_REFERENCE   \n",
              "180                SH-02J Owner's Manual (Android 8.0)  BOOKS_AND_REFERENCE   \n",
              "185                     URBANO V 02 instruction manual  BOOKS_AND_REFERENCE   \n",
              "227                                     Y! Mobile menu             BUSINESS   \n",
              "321  【Ranobbe complete free】 Novelba - Free app tha...               COMICS   \n",
              "478                                  Truth or Dare Pro               DATING   \n",
              "479    Private Dating, Hide App- Blue for PrivacyHider               DATING   \n",
              "480                               Ad Blocker for SayHi               DATING   \n",
              "617           Meet With Strangers: Video Chat & Dating               DATING   \n",
              "620           Ost. Zombies Cast - New Music and Lyrics               DATING   \n",
              "621                                 Dating White Girls               DATING   \n",
              "623                                       Geeks Dating               DATING   \n",
              "624                        Live chat - free video chat               DATING   \n",
              "626                Fishing Brain & Boating Maps Marine               DATING   \n",
              "627                                 CAM5678 Video Chat               DATING   \n",
              "628                            Video chat live advices               DATING   \n",
              "629                                     chat live chat               DATING   \n",
              "630                                  Pet Lovers Dating               DATING   \n",
              "631          Friend Find: free chat + flirt dating app               DATING   \n",
              "632                                       Latin Dating               DATING   \n",
              "635                                        Wifi Mingle               DATING   \n",
              "637                    Soy Luna - Top Music And Lyrics               DATING   \n",
              "638                          When Will You Get Married               DATING   \n",
              "639                              HOW TO ASK A GIRL OUT               DATING   \n",
              "641                         The DJ - Match with People               DATING   \n",
              "642                                     Toronto Dating               DATING   \n",
              "643                       i miss you quotes and photos               DATING   \n",
              "644                           JoJo Siwa Top Hits Music               DATING   \n",
              "647                         Chat Click - Dating Search               DATING   \n",
              "648                                     Iraq love chat               DATING   \n",
              "649                        Healthy Relationships Guide               DATING   \n",
              "650                                          following               DATING   \n",
              "651                                      Gods by Night               DATING   \n",
              "652                                            PlusOne               DATING   \n",
              "653  Love Calendar - Couple Sharing Calendar & Coup...               DATING   \n",
              "658                                          Soul Mate               DATING   \n",
              "659                           Diamond Engagement Rings               DATING   \n",
              "660                                Dating Tips For Men               DATING   \n",
              "666                                  Random Video Chat               DATING   \n",
              "669                                         Find Lover               DATING   \n",
              "683               Random Video Chat App With Strangers               DATING   \n",
              "698     Chat Mexico: meet people, flirt and friendship               DATING   \n",
              "704                        Ai La Trieu Phu - ALTP Free            EDUCATION   \n",
              "\n",
              "     Rating Reviews   Size  Installs  Type  Price Content Rating  \\\n",
              "23      NaN      61   7.0M  100,000+  Free      0       Everyone   \n",
              "113     NaN     182   5.7M  100,000+  Free      0   Everyone 10+   \n",
              "123     NaN     119   3.7M   50,000+  Free      0       Everyone   \n",
              "126     NaN     654   7.4M  100,000+  Free      0           Teen   \n",
              "129     NaN      77   2.9M   10,000+  Free      0     Mature 17+   \n",
              "130     NaN      35   3.1M   10,000+  Free      0   Everyone 10+   \n",
              "134     NaN      30   9.9M   10,000+  Free      0     Mature 17+   \n",
              "163     NaN     161   2.7M   10,000+  Free      0       Everyone   \n",
              "180     NaN       2   7.2M   50,000+  Free      0       Everyone   \n",
              "185     NaN     114   7.3M  100,000+  Free      0       Everyone   \n",
              "227     NaN       9   1.2M  100,000+  Free      0       Everyone   \n",
              "321     NaN    1330    22M   50,000+  Free      0       Everyone   \n",
              "478     NaN       0    20M       50+  Paid  $1.49           Teen   \n",
              "479     NaN       0    18k      100+  Paid  $2.99       Everyone   \n",
              "480     NaN       4   1.2M      100+  Paid  $3.99           Teen   \n",
              "617     NaN       2   3.7M      500+  Free      0     Mature 17+   \n",
              "620     NaN       1   4.6M      100+  Free      0           Teen   \n",
              "621     NaN       0   3.6M       50+  Free      0     Mature 17+   \n",
              "623     NaN       0    13M       50+  Free      0     Mature 17+   \n",
              "624     NaN       1   8.7M      500+  Free      0     Mature 17+   \n",
              "626     NaN       3   6.9M      500+  Free      0       Everyone   \n",
              "627     NaN       0    39M      500+  Free      0     Mature 17+   \n",
              "628     NaN       0   8.0M      100+  Free      0       Everyone   \n",
              "629     NaN      24   3.9M    1,000+  Free      0     Mature 17+   \n",
              "630     NaN       0    14M       10+  Free      0     Mature 17+   \n",
              "631     NaN      23    11M      100+  Free      0     Mature 17+   \n",
              "632     NaN       0    13M       10+  Free      0     Mature 17+   \n",
              "635     NaN       0  10.0M       10+  Free      0       Everyone   \n",
              "637     NaN       1   5.0M      100+  Free      0           Teen   \n",
              "638     NaN       2   3.6M       10+  Free      0       Everyone   \n",
              "639     NaN       0    19M       10+  Free      0       Everyone   \n",
              "641     NaN       0   9.8M       50+  Free      0     Mature 17+   \n",
              "642     NaN       0    14M      100+  Free      0     Mature 17+   \n",
              "643     NaN       0   5.0M      100+  Free      0       Everyone   \n",
              "644     NaN       0   4.9M       10+  Free      0           Teen   \n",
              "647     NaN       4   3.8M      500+  Free      0     Mature 17+   \n",
              "648     NaN      14   5.0M       50+  Free      0           Teen   \n",
              "649     NaN       0   8.2M        1+  Free      0       Everyone   \n",
              "650     NaN       1    21M       10+  Free      0     Mature 17+   \n",
              "651     NaN     104    12M    1,000+  Free      0     Mature 17+   \n",
              "652     NaN       0    10M        1+  Free      0     Mature 17+   \n",
              "653     NaN      14   3.3M       50+  Free      0       Everyone   \n",
              "658     NaN       0   4.4M       10+  Free      0     Mature 17+   \n",
              "659     NaN       0   3.5M        5+  Free      0       Everyone   \n",
              "660     NaN       0   7.8M       10+  Free      0       Everyone   \n",
              "666     NaN       3    16M    1,000+  Free      0     Mature 17+   \n",
              "669     NaN      21   4.7M    1,000+  Free      0     Mature 17+   \n",
              "683     NaN       3   4.8M    1,000+  Free      0     Mature 17+   \n",
              "698     NaN       8   9.3M    5,000+  Free      0     Mature 17+   \n",
              "704     NaN     776    24M  100,000+  Free      0       Everyone   \n",
              "\n",
              "                              Genres        Last Updated Current Ver  \\\n",
              "23   Art & Design;Action & Adventure       March 7, 2018       1.0.0   \n",
              "113                           Beauty  September 20, 2017         8.0   \n",
              "123                           Beauty       July 23, 2018         1.3   \n",
              "126                           Beauty       July 17, 2018        1.15   \n",
              "129                           Beauty      August 8, 2017         2.0   \n",
              "130                           Beauty   December 11, 2017         2.0   \n",
              "134                           Beauty    January 24, 2018         3.0   \n",
              "163                Books & Reference       July 13, 2018         1.0   \n",
              "180                Books & Reference       June 15, 2018         3.0   \n",
              "185                Books & Reference      August 7, 2015         1.1   \n",
              "227                         Business       April 9, 2018       1.0.5   \n",
              "321                           Comics        July 3, 2018       6.1.1   \n",
              "478                           Dating   September 1, 2017         1.0   \n",
              "479                           Dating       July 25, 2017       1.0.1   \n",
              "480                           Dating      August 2, 2018         1.2   \n",
              "617                           Dating       July 16, 2018          1.   \n",
              "620                           Dating       July 20, 2018         1.0   \n",
              "621                           Dating       July 20, 2018         1.0   \n",
              "623                           Dating       July 10, 2018         1.0   \n",
              "624                           Dating       July 23, 2018        3.52   \n",
              "626                           Dating       July 23, 2018         1.0   \n",
              "627                           Dating       July 13, 2018       5.5.8   \n",
              "628                           Dating       July 10, 2018         1.0   \n",
              "629                           Dating       July 26, 2018         1.0   \n",
              "630                           Dating        July 9, 2018         1.0   \n",
              "631                           Dating       July 31, 2018         1.0   \n",
              "632                           Dating        July 9, 2018         1.0   \n",
              "635                           Dating       July 27, 2018         1.3   \n",
              "637                           Dating       July 24, 2018         1.0   \n",
              "638                           Dating       July 14, 2018         1.0   \n",
              "639                           Dating       July 16, 2018         1.0   \n",
              "641                           Dating      August 2, 2018         1.2   \n",
              "642                           Dating       July 12, 2018         1.0   \n",
              "643                           Dating       July 22, 2018       1.0.7   \n",
              "644                           Dating       July 26, 2018         1.0   \n",
              "647                           Dating       July 11, 2018         1.0   \n",
              "648                           Dating      August 3, 2018         8.2   \n",
              "649                           Dating       July 31, 2018         2.0   \n",
              "650                           Dating       July 24, 2018       1.0.3   \n",
              "651                           Dating       July 22, 2018   3.5.4.2.3   \n",
              "652                           Dating       July 17, 2018       1.1.1   \n",
              "653                           Dating       July 30, 2018         1.6   \n",
              "658                           Dating       July 19, 2018       4.5.0   \n",
              "659                           Dating       July 12, 2018         6.1   \n",
              "660                           Dating        July 9, 2018         3.0   \n",
              "666                           Dating       July 15, 2018        4.20   \n",
              "669                           Dating       July 27, 2018       1.0.2   \n",
              "683                           Dating       July 17, 2018          1.   \n",
              "698                           Dating        July 2, 2018         3.7   \n",
              "704                        Education       July 23, 2018         1.5   \n",
              "\n",
              "      Android Ver  \n",
              "23     4.1 and up  \n",
              "113    3.0 and up  \n",
              "123    4.1 and up  \n",
              "126    4.1 and up  \n",
              "129    2.3 and up  \n",
              "130    3.0 and up  \n",
              "134    3.0 and up  \n",
              "163    2.3 and up  \n",
              "180    6.0 and up  \n",
              "185    5.1 and up  \n",
              "227    6.0 and up  \n",
              "321    4.2 and up  \n",
              "478    4.0 and up  \n",
              "479    4.0 and up  \n",
              "480  4.0.3 and up  \n",
              "617    4.0 and up  \n",
              "620  4.0.3 and up  \n",
              "621    4.0 and up  \n",
              "623    4.1 and up  \n",
              "624  4.0.3 and up  \n",
              "626  4.0.3 and up  \n",
              "627  4.0.3 and up  \n",
              "628    3.0 and up  \n",
              "629    4.0 and up  \n",
              "630    4.1 and up  \n",
              "631    4.4 and up  \n",
              "632    4.1 and up  \n",
              "635    4.4 and up  \n",
              "637  4.0.3 and up  \n",
              "638  4.0.3 and up  \n",
              "639  4.0.3 and up  \n",
              "641    4.1 and up  \n",
              "642    4.1 and up  \n",
              "643    4.0 and up  \n",
              "644  4.0.3 and up  \n",
              "647    3.0 and up  \n",
              "648  4.0.3 and up  \n",
              "649  4.0.3 and up  \n",
              "650    4.2 and up  \n",
              "651    4.1 and up  \n",
              "652    4.2 and up  \n",
              "653    4.1 and up  \n",
              "658  4.0.3 and up  \n",
              "659    4.0 and up  \n",
              "660  4.0.3 and up  \n",
              "666  4.0.3 and up  \n",
              "669  4.0.3 and up  \n",
              "683    4.0 and up  \n",
              "698  4.0.3 and up  \n",
              "704    4.0 and up  "
            ],
            "text/html": [
              "\n",
              "  <div id=\"df-8d81d9a7-f842-475c-bdda-2d1beee79a11\">\n",
              "    <div class=\"colab-df-container\">\n",
              "      <div>\n",
              "<style scoped>\n",
              "    .dataframe tbody tr th:only-of-type {\n",
              "        vertical-align: middle;\n",
              "    }\n",
              "\n",
              "    .dataframe tbody tr th {\n",
              "        vertical-align: top;\n",
              "    }\n",
              "\n",
              "    .dataframe thead th {\n",
              "        text-align: right;\n",
              "    }\n",
              "</style>\n",
              "<table border=\"1\" class=\"dataframe\">\n",
              "  <thead>\n",
              "    <tr style=\"text-align: right;\">\n",
              "      <th></th>\n",
              "      <th>App</th>\n",
              "      <th>Category</th>\n",
              "      <th>Rating</th>\n",
              "      <th>Reviews</th>\n",
              "      <th>Size</th>\n",
              "      <th>Installs</th>\n",
              "      <th>Type</th>\n",
              "      <th>Price</th>\n",
              "      <th>Content Rating</th>\n",
              "      <th>Genres</th>\n",
              "      <th>Last Updated</th>\n",
              "      <th>Current Ver</th>\n",
              "      <th>Android Ver</th>\n",
              "    </tr>\n",
              "  </thead>\n",
              "  <tbody>\n",
              "    <tr>\n",
              "      <th>23</th>\n",
              "      <td>Mcqueen Coloring pages</td>\n",
              "      <td>ART_AND_DESIGN</td>\n",
              "      <td>NaN</td>\n",
              "      <td>61</td>\n",
              "      <td>7.0M</td>\n",
              "      <td>100,000+</td>\n",
              "      <td>Free</td>\n",
              "      <td>0</td>\n",
              "      <td>Everyone</td>\n",
              "      <td>Art &amp; Design;Action &amp; Adventure</td>\n",
              "      <td>March 7, 2018</td>\n",
              "      <td>1.0.0</td>\n",
              "      <td>4.1 and up</td>\n",
              "    </tr>\n",
              "    <tr>\n",
              "      <th>113</th>\n",
              "      <td>Wrinkles and rejuvenation</td>\n",
              "      <td>BEAUTY</td>\n",
              "      <td>NaN</td>\n",
              "      <td>182</td>\n",
              "      <td>5.7M</td>\n",
              "      <td>100,000+</td>\n",
              "      <td>Free</td>\n",
              "      <td>0</td>\n",
              "      <td>Everyone 10+</td>\n",
              "      <td>Beauty</td>\n",
              "      <td>September 20, 2017</td>\n",
              "      <td>8.0</td>\n",
              "      <td>3.0 and up</td>\n",
              "    </tr>\n",
              "    <tr>\n",
              "      <th>123</th>\n",
              "      <td>Manicure - nail design</td>\n",
              "      <td>BEAUTY</td>\n",
              "      <td>NaN</td>\n",
              "      <td>119</td>\n",
              "      <td>3.7M</td>\n",
              "      <td>50,000+</td>\n",
              "      <td>Free</td>\n",
              "      <td>0</td>\n",
              "      <td>Everyone</td>\n",
              "      <td>Beauty</td>\n",
              "      <td>July 23, 2018</td>\n",
              "      <td>1.3</td>\n",
              "      <td>4.1 and up</td>\n",
              "    </tr>\n",
              "    <tr>\n",
              "      <th>126</th>\n",
              "      <td>Skin Care and Natural Beauty</td>\n",
              "      <td>BEAUTY</td>\n",
              "      <td>NaN</td>\n",
              "      <td>654</td>\n",
              "      <td>7.4M</td>\n",
              "      <td>100,000+</td>\n",
              "      <td>Free</td>\n",
              "      <td>0</td>\n",
              "      <td>Teen</td>\n",
              "      <td>Beauty</td>\n",
              "      <td>July 17, 2018</td>\n",
              "      <td>1.15</td>\n",
              "      <td>4.1 and up</td>\n",
              "    </tr>\n",
              "    <tr>\n",
              "      <th>129</th>\n",
              "      <td>Secrets of beauty, youth and health</td>\n",
              "      <td>BEAUTY</td>\n",
              "      <td>NaN</td>\n",
              "      <td>77</td>\n",
              "      <td>2.9M</td>\n",
              "      <td>10,000+</td>\n",
              "      <td>Free</td>\n",
              "      <td>0</td>\n",
              "      <td>Mature 17+</td>\n",
              "      <td>Beauty</td>\n",
              "      <td>August 8, 2017</td>\n",
              "      <td>2.0</td>\n",
              "      <td>2.3 and up</td>\n",
              "    </tr>\n",
              "    <tr>\n",
              "      <th>130</th>\n",
              "      <td>Recipes and tips for losing weight</td>\n",
              "      <td>BEAUTY</td>\n",
              "      <td>NaN</td>\n",
              "      <td>35</td>\n",
              "      <td>3.1M</td>\n",
              "      <td>10,000+</td>\n",
              "      <td>Free</td>\n",
              "      <td>0</td>\n",
              "      <td>Everyone 10+</td>\n",
              "      <td>Beauty</td>\n",
              "      <td>December 11, 2017</td>\n",
              "      <td>2.0</td>\n",
              "      <td>3.0 and up</td>\n",
              "    </tr>\n",
              "    <tr>\n",
              "      <th>134</th>\n",
              "      <td>Lady adviser (beauty, health)</td>\n",
              "      <td>BEAUTY</td>\n",
              "      <td>NaN</td>\n",
              "      <td>30</td>\n",
              "      <td>9.9M</td>\n",
              "      <td>10,000+</td>\n",
              "      <td>Free</td>\n",
              "      <td>0</td>\n",
              "      <td>Mature 17+</td>\n",
              "      <td>Beauty</td>\n",
              "      <td>January 24, 2018</td>\n",
              "      <td>3.0</td>\n",
              "      <td>3.0 and up</td>\n",
              "    </tr>\n",
              "    <tr>\n",
              "      <th>163</th>\n",
              "      <td>Anonymous caller detection</td>\n",
              "      <td>BOOKS_AND_REFERENCE</td>\n",
              "      <td>NaN</td>\n",
              "      <td>161</td>\n",
              "      <td>2.7M</td>\n",
              "      <td>10,000+</td>\n",
              "      <td>Free</td>\n",
              "      <td>0</td>\n",
              "      <td>Everyone</td>\n",
              "      <td>Books &amp; Reference</td>\n",
              "      <td>July 13, 2018</td>\n",
              "      <td>1.0</td>\n",
              "      <td>2.3 and up</td>\n",
              "    </tr>\n",
              "    <tr>\n",
              "      <th>180</th>\n",
              "      <td>SH-02J Owner's Manual (Android 8.0)</td>\n",
              "      <td>BOOKS_AND_REFERENCE</td>\n",
              "      <td>NaN</td>\n",
              "      <td>2</td>\n",
              "      <td>7.2M</td>\n",
              "      <td>50,000+</td>\n",
              "      <td>Free</td>\n",
              "      <td>0</td>\n",
              "      <td>Everyone</td>\n",
              "      <td>Books &amp; Reference</td>\n",
              "      <td>June 15, 2018</td>\n",
              "      <td>3.0</td>\n",
              "      <td>6.0 and up</td>\n",
              "    </tr>\n",
              "    <tr>\n",
              "      <th>185</th>\n",
              "      <td>URBANO V 02 instruction manual</td>\n",
              "      <td>BOOKS_AND_REFERENCE</td>\n",
              "      <td>NaN</td>\n",
              "      <td>114</td>\n",
              "      <td>7.3M</td>\n",
              "      <td>100,000+</td>\n",
              "      <td>Free</td>\n",
              "      <td>0</td>\n",
              "      <td>Everyone</td>\n",
              "      <td>Books &amp; Reference</td>\n",
              "      <td>August 7, 2015</td>\n",
              "      <td>1.1</td>\n",
              "      <td>5.1 and up</td>\n",
              "    </tr>\n",
              "    <tr>\n",
              "      <th>227</th>\n",
              "      <td>Y! Mobile menu</td>\n",
              "      <td>BUSINESS</td>\n",
              "      <td>NaN</td>\n",
              "      <td>9</td>\n",
              "      <td>1.2M</td>\n",
              "      <td>100,000+</td>\n",
              "      <td>Free</td>\n",
              "      <td>0</td>\n",
              "      <td>Everyone</td>\n",
              "      <td>Business</td>\n",
              "      <td>April 9, 2018</td>\n",
              "      <td>1.0.5</td>\n",
              "      <td>6.0 and up</td>\n",
              "    </tr>\n",
              "    <tr>\n",
              "      <th>321</th>\n",
              "      <td>【Ranobbe complete free】 Novelba - Free app tha...</td>\n",
              "      <td>COMICS</td>\n",
              "      <td>NaN</td>\n",
              "      <td>1330</td>\n",
              "      <td>22M</td>\n",
              "      <td>50,000+</td>\n",
              "      <td>Free</td>\n",
              "      <td>0</td>\n",
              "      <td>Everyone</td>\n",
              "      <td>Comics</td>\n",
              "      <td>July 3, 2018</td>\n",
              "      <td>6.1.1</td>\n",
              "      <td>4.2 and up</td>\n",
              "    </tr>\n",
              "    <tr>\n",
              "      <th>478</th>\n",
              "      <td>Truth or Dare Pro</td>\n",
              "      <td>DATING</td>\n",
              "      <td>NaN</td>\n",
              "      <td>0</td>\n",
              "      <td>20M</td>\n",
              "      <td>50+</td>\n",
              "      <td>Paid</td>\n",
              "      <td>$1.49</td>\n",
              "      <td>Teen</td>\n",
              "      <td>Dating</td>\n",
              "      <td>September 1, 2017</td>\n",
              "      <td>1.0</td>\n",
              "      <td>4.0 and up</td>\n",
              "    </tr>\n",
              "    <tr>\n",
              "      <th>479</th>\n",
              "      <td>Private Dating, Hide App- Blue for PrivacyHider</td>\n",
              "      <td>DATING</td>\n",
              "      <td>NaN</td>\n",
              "      <td>0</td>\n",
              "      <td>18k</td>\n",
              "      <td>100+</td>\n",
              "      <td>Paid</td>\n",
              "      <td>$2.99</td>\n",
              "      <td>Everyone</td>\n",
              "      <td>Dating</td>\n",
              "      <td>July 25, 2017</td>\n",
              "      <td>1.0.1</td>\n",
              "      <td>4.0 and up</td>\n",
              "    </tr>\n",
              "    <tr>\n",
              "      <th>480</th>\n",
              "      <td>Ad Blocker for SayHi</td>\n",
              "      <td>DATING</td>\n",
              "      <td>NaN</td>\n",
              "      <td>4</td>\n",
              "      <td>1.2M</td>\n",
              "      <td>100+</td>\n",
              "      <td>Paid</td>\n",
              "      <td>$3.99</td>\n",
              "      <td>Teen</td>\n",
              "      <td>Dating</td>\n",
              "      <td>August 2, 2018</td>\n",
              "      <td>1.2</td>\n",
              "      <td>4.0.3 and up</td>\n",
              "    </tr>\n",
              "    <tr>\n",
              "      <th>617</th>\n",
              "      <td>Meet With Strangers: Video Chat &amp; Dating</td>\n",
              "      <td>DATING</td>\n",
              "      <td>NaN</td>\n",
              "      <td>2</td>\n",
              "      <td>3.7M</td>\n",
              "      <td>500+</td>\n",
              "      <td>Free</td>\n",
              "      <td>0</td>\n",
              "      <td>Mature 17+</td>\n",
              "      <td>Dating</td>\n",
              "      <td>July 16, 2018</td>\n",
              "      <td>1.</td>\n",
              "      <td>4.0 and up</td>\n",
              "    </tr>\n",
              "    <tr>\n",
              "      <th>620</th>\n",
              "      <td>Ost. Zombies Cast - New Music and Lyrics</td>\n",
              "      <td>DATING</td>\n",
              "      <td>NaN</td>\n",
              "      <td>1</td>\n",
              "      <td>4.6M</td>\n",
              "      <td>100+</td>\n",
              "      <td>Free</td>\n",
              "      <td>0</td>\n",
              "      <td>Teen</td>\n",
              "      <td>Dating</td>\n",
              "      <td>July 20, 2018</td>\n",
              "      <td>1.0</td>\n",
              "      <td>4.0.3 and up</td>\n",
              "    </tr>\n",
              "    <tr>\n",
              "      <th>621</th>\n",
              "      <td>Dating White Girls</td>\n",
              "      <td>DATING</td>\n",
              "      <td>NaN</td>\n",
              "      <td>0</td>\n",
              "      <td>3.6M</td>\n",
              "      <td>50+</td>\n",
              "      <td>Free</td>\n",
              "      <td>0</td>\n",
              "      <td>Mature 17+</td>\n",
              "      <td>Dating</td>\n",
              "      <td>July 20, 2018</td>\n",
              "      <td>1.0</td>\n",
              "      <td>4.0 and up</td>\n",
              "    </tr>\n",
              "    <tr>\n",
              "      <th>623</th>\n",
              "      <td>Geeks Dating</td>\n",
              "      <td>DATING</td>\n",
              "      <td>NaN</td>\n",
              "      <td>0</td>\n",
              "      <td>13M</td>\n",
              "      <td>50+</td>\n",
              "      <td>Free</td>\n",
              "      <td>0</td>\n",
              "      <td>Mature 17+</td>\n",
              "      <td>Dating</td>\n",
              "      <td>July 10, 2018</td>\n",
              "      <td>1.0</td>\n",
              "      <td>4.1 and up</td>\n",
              "    </tr>\n",
              "    <tr>\n",
              "      <th>624</th>\n",
              "      <td>Live chat - free video chat</td>\n",
              "      <td>DATING</td>\n",
              "      <td>NaN</td>\n",
              "      <td>1</td>\n",
              "      <td>8.7M</td>\n",
              "      <td>500+</td>\n",
              "      <td>Free</td>\n",
              "      <td>0</td>\n",
              "      <td>Mature 17+</td>\n",
              "      <td>Dating</td>\n",
              "      <td>July 23, 2018</td>\n",
              "      <td>3.52</td>\n",
              "      <td>4.0.3 and up</td>\n",
              "    </tr>\n",
              "    <tr>\n",
              "      <th>626</th>\n",
              "      <td>Fishing Brain &amp; Boating Maps Marine</td>\n",
              "      <td>DATING</td>\n",
              "      <td>NaN</td>\n",
              "      <td>3</td>\n",
              "      <td>6.9M</td>\n",
              "      <td>500+</td>\n",
              "      <td>Free</td>\n",
              "      <td>0</td>\n",
              "      <td>Everyone</td>\n",
              "      <td>Dating</td>\n",
              "      <td>July 23, 2018</td>\n",
              "      <td>1.0</td>\n",
              "      <td>4.0.3 and up</td>\n",
              "    </tr>\n",
              "    <tr>\n",
              "      <th>627</th>\n",
              "      <td>CAM5678 Video Chat</td>\n",
              "      <td>DATING</td>\n",
              "      <td>NaN</td>\n",
              "      <td>0</td>\n",
              "      <td>39M</td>\n",
              "      <td>500+</td>\n",
              "      <td>Free</td>\n",
              "      <td>0</td>\n",
              "      <td>Mature 17+</td>\n",
              "      <td>Dating</td>\n",
              "      <td>July 13, 2018</td>\n",
              "      <td>5.5.8</td>\n",
              "      <td>4.0.3 and up</td>\n",
              "    </tr>\n",
              "    <tr>\n",
              "      <th>628</th>\n",
              "      <td>Video chat live advices</td>\n",
              "      <td>DATING</td>\n",
              "      <td>NaN</td>\n",
              "      <td>0</td>\n",
              "      <td>8.0M</td>\n",
              "      <td>100+</td>\n",
              "      <td>Free</td>\n",
              "      <td>0</td>\n",
              "      <td>Everyone</td>\n",
              "      <td>Dating</td>\n",
              "      <td>July 10, 2018</td>\n",
              "      <td>1.0</td>\n",
              "      <td>3.0 and up</td>\n",
              "    </tr>\n",
              "    <tr>\n",
              "      <th>629</th>\n",
              "      <td>chat live chat</td>\n",
              "      <td>DATING</td>\n",
              "      <td>NaN</td>\n",
              "      <td>24</td>\n",
              "      <td>3.9M</td>\n",
              "      <td>1,000+</td>\n",
              "      <td>Free</td>\n",
              "      <td>0</td>\n",
              "      <td>Mature 17+</td>\n",
              "      <td>Dating</td>\n",
              "      <td>July 26, 2018</td>\n",
              "      <td>1.0</td>\n",
              "      <td>4.0 and up</td>\n",
              "    </tr>\n",
              "    <tr>\n",
              "      <th>630</th>\n",
              "      <td>Pet Lovers Dating</td>\n",
              "      <td>DATING</td>\n",
              "      <td>NaN</td>\n",
              "      <td>0</td>\n",
              "      <td>14M</td>\n",
              "      <td>10+</td>\n",
              "      <td>Free</td>\n",
              "      <td>0</td>\n",
              "      <td>Mature 17+</td>\n",
              "      <td>Dating</td>\n",
              "      <td>July 9, 2018</td>\n",
              "      <td>1.0</td>\n",
              "      <td>4.1 and up</td>\n",
              "    </tr>\n",
              "    <tr>\n",
              "      <th>631</th>\n",
              "      <td>Friend Find: free chat + flirt dating app</td>\n",
              "      <td>DATING</td>\n",
              "      <td>NaN</td>\n",
              "      <td>23</td>\n",
              "      <td>11M</td>\n",
              "      <td>100+</td>\n",
              "      <td>Free</td>\n",
              "      <td>0</td>\n",
              "      <td>Mature 17+</td>\n",
              "      <td>Dating</td>\n",
              "      <td>July 31, 2018</td>\n",
              "      <td>1.0</td>\n",
              "      <td>4.4 and up</td>\n",
              "    </tr>\n",
              "    <tr>\n",
              "      <th>632</th>\n",
              "      <td>Latin Dating</td>\n",
              "      <td>DATING</td>\n",
              "      <td>NaN</td>\n",
              "      <td>0</td>\n",
              "      <td>13M</td>\n",
              "      <td>10+</td>\n",
              "      <td>Free</td>\n",
              "      <td>0</td>\n",
              "      <td>Mature 17+</td>\n",
              "      <td>Dating</td>\n",
              "      <td>July 9, 2018</td>\n",
              "      <td>1.0</td>\n",
              "      <td>4.1 and up</td>\n",
              "    </tr>\n",
              "    <tr>\n",
              "      <th>635</th>\n",
              "      <td>Wifi Mingle</td>\n",
              "      <td>DATING</td>\n",
              "      <td>NaN</td>\n",
              "      <td>0</td>\n",
              "      <td>10.0M</td>\n",
              "      <td>10+</td>\n",
              "      <td>Free</td>\n",
              "      <td>0</td>\n",
              "      <td>Everyone</td>\n",
              "      <td>Dating</td>\n",
              "      <td>July 27, 2018</td>\n",
              "      <td>1.3</td>\n",
              "      <td>4.4 and up</td>\n",
              "    </tr>\n",
              "    <tr>\n",
              "      <th>637</th>\n",
              "      <td>Soy Luna - Top Music And Lyrics</td>\n",
              "      <td>DATING</td>\n",
              "      <td>NaN</td>\n",
              "      <td>1</td>\n",
              "      <td>5.0M</td>\n",
              "      <td>100+</td>\n",
              "      <td>Free</td>\n",
              "      <td>0</td>\n",
              "      <td>Teen</td>\n",
              "      <td>Dating</td>\n",
              "      <td>July 24, 2018</td>\n",
              "      <td>1.0</td>\n",
              "      <td>4.0.3 and up</td>\n",
              "    </tr>\n",
              "    <tr>\n",
              "      <th>638</th>\n",
              "      <td>When Will You Get Married</td>\n",
              "      <td>DATING</td>\n",
              "      <td>NaN</td>\n",
              "      <td>2</td>\n",
              "      <td>3.6M</td>\n",
              "      <td>10+</td>\n",
              "      <td>Free</td>\n",
              "      <td>0</td>\n",
              "      <td>Everyone</td>\n",
              "      <td>Dating</td>\n",
              "      <td>July 14, 2018</td>\n",
              "      <td>1.0</td>\n",
              "      <td>4.0.3 and up</td>\n",
              "    </tr>\n",
              "    <tr>\n",
              "      <th>639</th>\n",
              "      <td>HOW TO ASK A GIRL OUT</td>\n",
              "      <td>DATING</td>\n",
              "      <td>NaN</td>\n",
              "      <td>0</td>\n",
              "      <td>19M</td>\n",
              "      <td>10+</td>\n",
              "      <td>Free</td>\n",
              "      <td>0</td>\n",
              "      <td>Everyone</td>\n",
              "      <td>Dating</td>\n",
              "      <td>July 16, 2018</td>\n",
              "      <td>1.0</td>\n",
              "      <td>4.0.3 and up</td>\n",
              "    </tr>\n",
              "    <tr>\n",
              "      <th>641</th>\n",
              "      <td>The DJ - Match with People</td>\n",
              "      <td>DATING</td>\n",
              "      <td>NaN</td>\n",
              "      <td>0</td>\n",
              "      <td>9.8M</td>\n",
              "      <td>50+</td>\n",
              "      <td>Free</td>\n",
              "      <td>0</td>\n",
              "      <td>Mature 17+</td>\n",
              "      <td>Dating</td>\n",
              "      <td>August 2, 2018</td>\n",
              "      <td>1.2</td>\n",
              "      <td>4.1 and up</td>\n",
              "    </tr>\n",
              "    <tr>\n",
              "      <th>642</th>\n",
              "      <td>Toronto Dating</td>\n",
              "      <td>DATING</td>\n",
              "      <td>NaN</td>\n",
              "      <td>0</td>\n",
              "      <td>14M</td>\n",
              "      <td>100+</td>\n",
              "      <td>Free</td>\n",
              "      <td>0</td>\n",
              "      <td>Mature 17+</td>\n",
              "      <td>Dating</td>\n",
              "      <td>July 12, 2018</td>\n",
              "      <td>1.0</td>\n",
              "      <td>4.1 and up</td>\n",
              "    </tr>\n",
              "    <tr>\n",
              "      <th>643</th>\n",
              "      <td>i miss you quotes and photos</td>\n",
              "      <td>DATING</td>\n",
              "      <td>NaN</td>\n",
              "      <td>0</td>\n",
              "      <td>5.0M</td>\n",
              "      <td>100+</td>\n",
              "      <td>Free</td>\n",
              "      <td>0</td>\n",
              "      <td>Everyone</td>\n",
              "      <td>Dating</td>\n",
              "      <td>July 22, 2018</td>\n",
              "      <td>1.0.7</td>\n",
              "      <td>4.0 and up</td>\n",
              "    </tr>\n",
              "    <tr>\n",
              "      <th>644</th>\n",
              "      <td>JoJo Siwa Top Hits Music</td>\n",
              "      <td>DATING</td>\n",
              "      <td>NaN</td>\n",
              "      <td>0</td>\n",
              "      <td>4.9M</td>\n",
              "      <td>10+</td>\n",
              "      <td>Free</td>\n",
              "      <td>0</td>\n",
              "      <td>Teen</td>\n",
              "      <td>Dating</td>\n",
              "      <td>July 26, 2018</td>\n",
              "      <td>1.0</td>\n",
              "      <td>4.0.3 and up</td>\n",
              "    </tr>\n",
              "    <tr>\n",
              "      <th>647</th>\n",
              "      <td>Chat Click - Dating Search</td>\n",
              "      <td>DATING</td>\n",
              "      <td>NaN</td>\n",
              "      <td>4</td>\n",
              "      <td>3.8M</td>\n",
              "      <td>500+</td>\n",
              "      <td>Free</td>\n",
              "      <td>0</td>\n",
              "      <td>Mature 17+</td>\n",
              "      <td>Dating</td>\n",
              "      <td>July 11, 2018</td>\n",
              "      <td>1.0</td>\n",
              "      <td>3.0 and up</td>\n",
              "    </tr>\n",
              "    <tr>\n",
              "      <th>648</th>\n",
              "      <td>Iraq love chat</td>\n",
              "      <td>DATING</td>\n",
              "      <td>NaN</td>\n",
              "      <td>14</td>\n",
              "      <td>5.0M</td>\n",
              "      <td>50+</td>\n",
              "      <td>Free</td>\n",
              "      <td>0</td>\n",
              "      <td>Teen</td>\n",
              "      <td>Dating</td>\n",
              "      <td>August 3, 2018</td>\n",
              "      <td>8.2</td>\n",
              "      <td>4.0.3 and up</td>\n",
              "    </tr>\n",
              "    <tr>\n",
              "      <th>649</th>\n",
              "      <td>Healthy Relationships Guide</td>\n",
              "      <td>DATING</td>\n",
              "      <td>NaN</td>\n",
              "      <td>0</td>\n",
              "      <td>8.2M</td>\n",
              "      <td>1+</td>\n",
              "      <td>Free</td>\n",
              "      <td>0</td>\n",
              "      <td>Everyone</td>\n",
              "      <td>Dating</td>\n",
              "      <td>July 31, 2018</td>\n",
              "      <td>2.0</td>\n",
              "      <td>4.0.3 and up</td>\n",
              "    </tr>\n",
              "    <tr>\n",
              "      <th>650</th>\n",
              "      <td>following</td>\n",
              "      <td>DATING</td>\n",
              "      <td>NaN</td>\n",
              "      <td>1</td>\n",
              "      <td>21M</td>\n",
              "      <td>10+</td>\n",
              "      <td>Free</td>\n",
              "      <td>0</td>\n",
              "      <td>Mature 17+</td>\n",
              "      <td>Dating</td>\n",
              "      <td>July 24, 2018</td>\n",
              "      <td>1.0.3</td>\n",
              "      <td>4.2 and up</td>\n",
              "    </tr>\n",
              "    <tr>\n",
              "      <th>651</th>\n",
              "      <td>Gods by Night</td>\n",
              "      <td>DATING</td>\n",
              "      <td>NaN</td>\n",
              "      <td>104</td>\n",
              "      <td>12M</td>\n",
              "      <td>1,000+</td>\n",
              "      <td>Free</td>\n",
              "      <td>0</td>\n",
              "      <td>Mature 17+</td>\n",
              "      <td>Dating</td>\n",
              "      <td>July 22, 2018</td>\n",
              "      <td>3.5.4.2.3</td>\n",
              "      <td>4.1 and up</td>\n",
              "    </tr>\n",
              "    <tr>\n",
              "      <th>652</th>\n",
              "      <td>PlusOne</td>\n",
              "      <td>DATING</td>\n",
              "      <td>NaN</td>\n",
              "      <td>0</td>\n",
              "      <td>10M</td>\n",
              "      <td>1+</td>\n",
              "      <td>Free</td>\n",
              "      <td>0</td>\n",
              "      <td>Mature 17+</td>\n",
              "      <td>Dating</td>\n",
              "      <td>July 17, 2018</td>\n",
              "      <td>1.1.1</td>\n",
              "      <td>4.2 and up</td>\n",
              "    </tr>\n",
              "    <tr>\n",
              "      <th>653</th>\n",
              "      <td>Love Calendar - Couple Sharing Calendar &amp; Coup...</td>\n",
              "      <td>DATING</td>\n",
              "      <td>NaN</td>\n",
              "      <td>14</td>\n",
              "      <td>3.3M</td>\n",
              "      <td>50+</td>\n",
              "      <td>Free</td>\n",
              "      <td>0</td>\n",
              "      <td>Everyone</td>\n",
              "      <td>Dating</td>\n",
              "      <td>July 30, 2018</td>\n",
              "      <td>1.6</td>\n",
              "      <td>4.1 and up</td>\n",
              "    </tr>\n",
              "    <tr>\n",
              "      <th>658</th>\n",
              "      <td>Soul Mate</td>\n",
              "      <td>DATING</td>\n",
              "      <td>NaN</td>\n",
              "      <td>0</td>\n",
              "      <td>4.4M</td>\n",
              "      <td>10+</td>\n",
              "      <td>Free</td>\n",
              "      <td>0</td>\n",
              "      <td>Mature 17+</td>\n",
              "      <td>Dating</td>\n",
              "      <td>July 19, 2018</td>\n",
              "      <td>4.5.0</td>\n",
              "      <td>4.0.3 and up</td>\n",
              "    </tr>\n",
              "    <tr>\n",
              "      <th>659</th>\n",
              "      <td>Diamond Engagement Rings</td>\n",
              "      <td>DATING</td>\n",
              "      <td>NaN</td>\n",
              "      <td>0</td>\n",
              "      <td>3.5M</td>\n",
              "      <td>5+</td>\n",
              "      <td>Free</td>\n",
              "      <td>0</td>\n",
              "      <td>Everyone</td>\n",
              "      <td>Dating</td>\n",
              "      <td>July 12, 2018</td>\n",
              "      <td>6.1</td>\n",
              "      <td>4.0 and up</td>\n",
              "    </tr>\n",
              "    <tr>\n",
              "      <th>660</th>\n",
              "      <td>Dating Tips For Men</td>\n",
              "      <td>DATING</td>\n",
              "      <td>NaN</td>\n",
              "      <td>0</td>\n",
              "      <td>7.8M</td>\n",
              "      <td>10+</td>\n",
              "      <td>Free</td>\n",
              "      <td>0</td>\n",
              "      <td>Everyone</td>\n",
              "      <td>Dating</td>\n",
              "      <td>July 9, 2018</td>\n",
              "      <td>3.0</td>\n",
              "      <td>4.0.3 and up</td>\n",
              "    </tr>\n",
              "    <tr>\n",
              "      <th>666</th>\n",
              "      <td>Random Video Chat</td>\n",
              "      <td>DATING</td>\n",
              "      <td>NaN</td>\n",
              "      <td>3</td>\n",
              "      <td>16M</td>\n",
              "      <td>1,000+</td>\n",
              "      <td>Free</td>\n",
              "      <td>0</td>\n",
              "      <td>Mature 17+</td>\n",
              "      <td>Dating</td>\n",
              "      <td>July 15, 2018</td>\n",
              "      <td>4.20</td>\n",
              "      <td>4.0.3 and up</td>\n",
              "    </tr>\n",
              "    <tr>\n",
              "      <th>669</th>\n",
              "      <td>Find Lover</td>\n",
              "      <td>DATING</td>\n",
              "      <td>NaN</td>\n",
              "      <td>21</td>\n",
              "      <td>4.7M</td>\n",
              "      <td>1,000+</td>\n",
              "      <td>Free</td>\n",
              "      <td>0</td>\n",
              "      <td>Mature 17+</td>\n",
              "      <td>Dating</td>\n",
              "      <td>July 27, 2018</td>\n",
              "      <td>1.0.2</td>\n",
              "      <td>4.0.3 and up</td>\n",
              "    </tr>\n",
              "    <tr>\n",
              "      <th>683</th>\n",
              "      <td>Random Video Chat App With Strangers</td>\n",
              "      <td>DATING</td>\n",
              "      <td>NaN</td>\n",
              "      <td>3</td>\n",
              "      <td>4.8M</td>\n",
              "      <td>1,000+</td>\n",
              "      <td>Free</td>\n",
              "      <td>0</td>\n",
              "      <td>Mature 17+</td>\n",
              "      <td>Dating</td>\n",
              "      <td>July 17, 2018</td>\n",
              "      <td>1.</td>\n",
              "      <td>4.0 and up</td>\n",
              "    </tr>\n",
              "    <tr>\n",
              "      <th>698</th>\n",
              "      <td>Chat Mexico: meet people, flirt and friendship</td>\n",
              "      <td>DATING</td>\n",
              "      <td>NaN</td>\n",
              "      <td>8</td>\n",
              "      <td>9.3M</td>\n",
              "      <td>5,000+</td>\n",
              "      <td>Free</td>\n",
              "      <td>0</td>\n",
              "      <td>Mature 17+</td>\n",
              "      <td>Dating</td>\n",
              "      <td>July 2, 2018</td>\n",
              "      <td>3.7</td>\n",
              "      <td>4.0.3 and up</td>\n",
              "    </tr>\n",
              "    <tr>\n",
              "      <th>704</th>\n",
              "      <td>Ai La Trieu Phu - ALTP Free</td>\n",
              "      <td>EDUCATION</td>\n",
              "      <td>NaN</td>\n",
              "      <td>776</td>\n",
              "      <td>24M</td>\n",
              "      <td>100,000+</td>\n",
              "      <td>Free</td>\n",
              "      <td>0</td>\n",
              "      <td>Everyone</td>\n",
              "      <td>Education</td>\n",
              "      <td>July 23, 2018</td>\n",
              "      <td>1.5</td>\n",
              "      <td>4.0 and up</td>\n",
              "    </tr>\n",
              "  </tbody>\n",
              "</table>\n",
              "</div>\n",
              "      <button class=\"colab-df-convert\" onclick=\"convertToInteractive('df-8d81d9a7-f842-475c-bdda-2d1beee79a11')\"\n",
              "              title=\"Convert this dataframe to an interactive table.\"\n",
              "              style=\"display:none;\">\n",
              "        \n",
              "  <svg xmlns=\"http://www.w3.org/2000/svg\" height=\"24px\"viewBox=\"0 0 24 24\"\n",
              "       width=\"24px\">\n",
              "    <path d=\"M0 0h24v24H0V0z\" fill=\"none\"/>\n",
              "    <path d=\"M18.56 5.44l.94 2.06.94-2.06 2.06-.94-2.06-.94-.94-2.06-.94 2.06-2.06.94zm-11 1L8.5 8.5l.94-2.06 2.06-.94-2.06-.94L8.5 2.5l-.94 2.06-2.06.94zm10 10l.94 2.06.94-2.06 2.06-.94-2.06-.94-.94-2.06-.94 2.06-2.06.94z\"/><path d=\"M17.41 7.96l-1.37-1.37c-.4-.4-.92-.59-1.43-.59-.52 0-1.04.2-1.43.59L10.3 9.45l-7.72 7.72c-.78.78-.78 2.05 0 2.83L4 21.41c.39.39.9.59 1.41.59.51 0 1.02-.2 1.41-.59l7.78-7.78 2.81-2.81c.8-.78.8-2.07 0-2.86zM5.41 20L4 18.59l7.72-7.72 1.47 1.35L5.41 20z\"/>\n",
              "  </svg>\n",
              "      </button>\n",
              "      \n",
              "  <style>\n",
              "    .colab-df-container {\n",
              "      display:flex;\n",
              "      flex-wrap:wrap;\n",
              "      gap: 12px;\n",
              "    }\n",
              "\n",
              "    .colab-df-convert {\n",
              "      background-color: #E8F0FE;\n",
              "      border: none;\n",
              "      border-radius: 50%;\n",
              "      cursor: pointer;\n",
              "      display: none;\n",
              "      fill: #1967D2;\n",
              "      height: 32px;\n",
              "      padding: 0 0 0 0;\n",
              "      width: 32px;\n",
              "    }\n",
              "\n",
              "    .colab-df-convert:hover {\n",
              "      background-color: #E2EBFA;\n",
              "      box-shadow: 0px 1px 2px rgba(60, 64, 67, 0.3), 0px 1px 3px 1px rgba(60, 64, 67, 0.15);\n",
              "      fill: #174EA6;\n",
              "    }\n",
              "\n",
              "    [theme=dark] .colab-df-convert {\n",
              "      background-color: #3B4455;\n",
              "      fill: #D2E3FC;\n",
              "    }\n",
              "\n",
              "    [theme=dark] .colab-df-convert:hover {\n",
              "      background-color: #434B5C;\n",
              "      box-shadow: 0px 1px 3px 1px rgba(0, 0, 0, 0.15);\n",
              "      filter: drop-shadow(0px 1px 2px rgba(0, 0, 0, 0.3));\n",
              "      fill: #FFFFFF;\n",
              "    }\n",
              "  </style>\n",
              "\n",
              "      <script>\n",
              "        const buttonEl =\n",
              "          document.querySelector('#df-8d81d9a7-f842-475c-bdda-2d1beee79a11 button.colab-df-convert');\n",
              "        buttonEl.style.display =\n",
              "          google.colab.kernel.accessAllowed ? 'block' : 'none';\n",
              "\n",
              "        async function convertToInteractive(key) {\n",
              "          const element = document.querySelector('#df-8d81d9a7-f842-475c-bdda-2d1beee79a11');\n",
              "          const dataTable =\n",
              "            await google.colab.kernel.invokeFunction('convertToInteractive',\n",
              "                                                     [key], {});\n",
              "          if (!dataTable) return;\n",
              "\n",
              "          const docLinkHtml = 'Like what you see? Visit the ' +\n",
              "            '<a target=\"_blank\" href=https://colab.research.google.com/notebooks/data_table.ipynb>data table notebook</a>'\n",
              "            + ' to learn more about interactive tables.';\n",
              "          element.innerHTML = '';\n",
              "          dataTable['output_type'] = 'display_data';\n",
              "          await google.colab.output.renderOutput(dataTable, element);\n",
              "          const docLink = document.createElement('div');\n",
              "          docLink.innerHTML = docLinkHtml;\n",
              "          element.appendChild(docLink);\n",
              "        }\n",
              "      </script>\n",
              "    </div>\n",
              "  </div>\n",
              "  "
            ]
          },
          "metadata": {},
          "execution_count": 21
        }
      ]
    },
    {
      "cell_type": "markdown",
      "source": [
        "In rows where rating is null reviews and installs are also less."
      ],
      "metadata": {
        "id": "LOiTAb4xRv34"
      }
    },
    {
      "cell_type": "code",
      "source": [
        "# let us remove the rows where rating is null\n",
        "playstore_df.drop(playstore_df[playstore_df['Rating'].isna()].index, inplace=True)"
      ],
      "metadata": {
        "id": "h2Dew-tZP-Ha"
      },
      "execution_count": 22,
      "outputs": []
    },
    {
      "cell_type": "markdown",
      "source": [
        "Let us remove column which are of no use"
      ],
      "metadata": {
        "id": "R6opY1Q8UsKP"
      }
    },
    {
      "cell_type": "code",
      "source": [
        "playstore_df['Current Ver'].value_counts()"
      ],
      "metadata": {
        "id": "cLsxs4ZMdras",
        "colab": {
          "base_uri": "https://localhost:8080/"
        },
        "outputId": "49a98646-02d7-4951-a9bb-7ea2f5052c75"
      },
      "execution_count": 23,
      "outputs": [
        {
          "output_type": "execute_result",
          "data": {
            "text/plain": [
              "Varies with device    1030\n",
              "1.0                    449\n",
              "1.1                    191\n",
              "1.2                    125\n",
              "2.0                    117\n",
              "                      ... \n",
              "1.1.3.2                  1\n",
              "15.1.2                   1\n",
              "3.0.231.18141            1\n",
              "4.94.19                  1\n",
              "0.3.4                    1\n",
              "Name: Current Ver, Length: 2632, dtype: int64"
            ]
          },
          "metadata": {},
          "execution_count": 23
        }
      ]
    },
    {
      "cell_type": "code",
      "source": [
        "# Removing column 'Android Ver' and 'Current Ver'\n",
        "playstore_df.drop(['Android Ver','Current Ver'],axis=1,inplace=True)"
      ],
      "metadata": {
        "id": "i12wHwbKULOd"
      },
      "execution_count": 24,
      "outputs": []
    },
    {
      "cell_type": "code",
      "source": [
        "playstore_df.head()"
      ],
      "metadata": {
        "id": "xNEH0lx9Vg8u",
        "colab": {
          "base_uri": "https://localhost:8080/",
          "height": 206
        },
        "outputId": "f4e7b60d-f092-4dda-e7d6-494895d45733"
      },
      "execution_count": 25,
      "outputs": [
        {
          "output_type": "execute_result",
          "data": {
            "text/plain": [
              "                                                 App        Category  Rating  \\\n",
              "0     Photo Editor & Candy Camera & Grid & ScrapBook  ART_AND_DESIGN     4.1   \n",
              "1                                Coloring book moana  ART_AND_DESIGN     3.9   \n",
              "2  U Launcher Lite – FREE Live Cool Themes, Hide ...  ART_AND_DESIGN     4.7   \n",
              "3                              Sketch - Draw & Paint  ART_AND_DESIGN     4.5   \n",
              "4              Pixel Draw - Number Art Coloring Book  ART_AND_DESIGN     4.3   \n",
              "\n",
              "  Reviews  Size     Installs  Type Price Content Rating  \\\n",
              "0     159   19M      10,000+  Free     0       Everyone   \n",
              "1     967   14M     500,000+  Free     0       Everyone   \n",
              "2   87510  8.7M   5,000,000+  Free     0       Everyone   \n",
              "3  215644   25M  50,000,000+  Free     0           Teen   \n",
              "4     967  2.8M     100,000+  Free     0       Everyone   \n",
              "\n",
              "                      Genres      Last Updated  \n",
              "0               Art & Design   January 7, 2018  \n",
              "1  Art & Design;Pretend Play  January 15, 2018  \n",
              "2               Art & Design    August 1, 2018  \n",
              "3               Art & Design      June 8, 2018  \n",
              "4    Art & Design;Creativity     June 20, 2018  "
            ],
            "text/html": [
              "\n",
              "  <div id=\"df-499554da-979e-42ab-a69e-eeef3e30f308\">\n",
              "    <div class=\"colab-df-container\">\n",
              "      <div>\n",
              "<style scoped>\n",
              "    .dataframe tbody tr th:only-of-type {\n",
              "        vertical-align: middle;\n",
              "    }\n",
              "\n",
              "    .dataframe tbody tr th {\n",
              "        vertical-align: top;\n",
              "    }\n",
              "\n",
              "    .dataframe thead th {\n",
              "        text-align: right;\n",
              "    }\n",
              "</style>\n",
              "<table border=\"1\" class=\"dataframe\">\n",
              "  <thead>\n",
              "    <tr style=\"text-align: right;\">\n",
              "      <th></th>\n",
              "      <th>App</th>\n",
              "      <th>Category</th>\n",
              "      <th>Rating</th>\n",
              "      <th>Reviews</th>\n",
              "      <th>Size</th>\n",
              "      <th>Installs</th>\n",
              "      <th>Type</th>\n",
              "      <th>Price</th>\n",
              "      <th>Content Rating</th>\n",
              "      <th>Genres</th>\n",
              "      <th>Last Updated</th>\n",
              "    </tr>\n",
              "  </thead>\n",
              "  <tbody>\n",
              "    <tr>\n",
              "      <th>0</th>\n",
              "      <td>Photo Editor &amp; Candy Camera &amp; Grid &amp; ScrapBook</td>\n",
              "      <td>ART_AND_DESIGN</td>\n",
              "      <td>4.1</td>\n",
              "      <td>159</td>\n",
              "      <td>19M</td>\n",
              "      <td>10,000+</td>\n",
              "      <td>Free</td>\n",
              "      <td>0</td>\n",
              "      <td>Everyone</td>\n",
              "      <td>Art &amp; Design</td>\n",
              "      <td>January 7, 2018</td>\n",
              "    </tr>\n",
              "    <tr>\n",
              "      <th>1</th>\n",
              "      <td>Coloring book moana</td>\n",
              "      <td>ART_AND_DESIGN</td>\n",
              "      <td>3.9</td>\n",
              "      <td>967</td>\n",
              "      <td>14M</td>\n",
              "      <td>500,000+</td>\n",
              "      <td>Free</td>\n",
              "      <td>0</td>\n",
              "      <td>Everyone</td>\n",
              "      <td>Art &amp; Design;Pretend Play</td>\n",
              "      <td>January 15, 2018</td>\n",
              "    </tr>\n",
              "    <tr>\n",
              "      <th>2</th>\n",
              "      <td>U Launcher Lite – FREE Live Cool Themes, Hide ...</td>\n",
              "      <td>ART_AND_DESIGN</td>\n",
              "      <td>4.7</td>\n",
              "      <td>87510</td>\n",
              "      <td>8.7M</td>\n",
              "      <td>5,000,000+</td>\n",
              "      <td>Free</td>\n",
              "      <td>0</td>\n",
              "      <td>Everyone</td>\n",
              "      <td>Art &amp; Design</td>\n",
              "      <td>August 1, 2018</td>\n",
              "    </tr>\n",
              "    <tr>\n",
              "      <th>3</th>\n",
              "      <td>Sketch - Draw &amp; Paint</td>\n",
              "      <td>ART_AND_DESIGN</td>\n",
              "      <td>4.5</td>\n",
              "      <td>215644</td>\n",
              "      <td>25M</td>\n",
              "      <td>50,000,000+</td>\n",
              "      <td>Free</td>\n",
              "      <td>0</td>\n",
              "      <td>Teen</td>\n",
              "      <td>Art &amp; Design</td>\n",
              "      <td>June 8, 2018</td>\n",
              "    </tr>\n",
              "    <tr>\n",
              "      <th>4</th>\n",
              "      <td>Pixel Draw - Number Art Coloring Book</td>\n",
              "      <td>ART_AND_DESIGN</td>\n",
              "      <td>4.3</td>\n",
              "      <td>967</td>\n",
              "      <td>2.8M</td>\n",
              "      <td>100,000+</td>\n",
              "      <td>Free</td>\n",
              "      <td>0</td>\n",
              "      <td>Everyone</td>\n",
              "      <td>Art &amp; Design;Creativity</td>\n",
              "      <td>June 20, 2018</td>\n",
              "    </tr>\n",
              "  </tbody>\n",
              "</table>\n",
              "</div>\n",
              "      <button class=\"colab-df-convert\" onclick=\"convertToInteractive('df-499554da-979e-42ab-a69e-eeef3e30f308')\"\n",
              "              title=\"Convert this dataframe to an interactive table.\"\n",
              "              style=\"display:none;\">\n",
              "        \n",
              "  <svg xmlns=\"http://www.w3.org/2000/svg\" height=\"24px\"viewBox=\"0 0 24 24\"\n",
              "       width=\"24px\">\n",
              "    <path d=\"M0 0h24v24H0V0z\" fill=\"none\"/>\n",
              "    <path d=\"M18.56 5.44l.94 2.06.94-2.06 2.06-.94-2.06-.94-.94-2.06-.94 2.06-2.06.94zm-11 1L8.5 8.5l.94-2.06 2.06-.94-2.06-.94L8.5 2.5l-.94 2.06-2.06.94zm10 10l.94 2.06.94-2.06 2.06-.94-2.06-.94-.94-2.06-.94 2.06-2.06.94z\"/><path d=\"M17.41 7.96l-1.37-1.37c-.4-.4-.92-.59-1.43-.59-.52 0-1.04.2-1.43.59L10.3 9.45l-7.72 7.72c-.78.78-.78 2.05 0 2.83L4 21.41c.39.39.9.59 1.41.59.51 0 1.02-.2 1.41-.59l7.78-7.78 2.81-2.81c.8-.78.8-2.07 0-2.86zM5.41 20L4 18.59l7.72-7.72 1.47 1.35L5.41 20z\"/>\n",
              "  </svg>\n",
              "      </button>\n",
              "      \n",
              "  <style>\n",
              "    .colab-df-container {\n",
              "      display:flex;\n",
              "      flex-wrap:wrap;\n",
              "      gap: 12px;\n",
              "    }\n",
              "\n",
              "    .colab-df-convert {\n",
              "      background-color: #E8F0FE;\n",
              "      border: none;\n",
              "      border-radius: 50%;\n",
              "      cursor: pointer;\n",
              "      display: none;\n",
              "      fill: #1967D2;\n",
              "      height: 32px;\n",
              "      padding: 0 0 0 0;\n",
              "      width: 32px;\n",
              "    }\n",
              "\n",
              "    .colab-df-convert:hover {\n",
              "      background-color: #E2EBFA;\n",
              "      box-shadow: 0px 1px 2px rgba(60, 64, 67, 0.3), 0px 1px 3px 1px rgba(60, 64, 67, 0.15);\n",
              "      fill: #174EA6;\n",
              "    }\n",
              "\n",
              "    [theme=dark] .colab-df-convert {\n",
              "      background-color: #3B4455;\n",
              "      fill: #D2E3FC;\n",
              "    }\n",
              "\n",
              "    [theme=dark] .colab-df-convert:hover {\n",
              "      background-color: #434B5C;\n",
              "      box-shadow: 0px 1px 3px 1px rgba(0, 0, 0, 0.15);\n",
              "      filter: drop-shadow(0px 1px 2px rgba(0, 0, 0, 0.3));\n",
              "      fill: #FFFFFF;\n",
              "    }\n",
              "  </style>\n",
              "\n",
              "      <script>\n",
              "        const buttonEl =\n",
              "          document.querySelector('#df-499554da-979e-42ab-a69e-eeef3e30f308 button.colab-df-convert');\n",
              "        buttonEl.style.display =\n",
              "          google.colab.kernel.accessAllowed ? 'block' : 'none';\n",
              "\n",
              "        async function convertToInteractive(key) {\n",
              "          const element = document.querySelector('#df-499554da-979e-42ab-a69e-eeef3e30f308');\n",
              "          const dataTable =\n",
              "            await google.colab.kernel.invokeFunction('convertToInteractive',\n",
              "                                                     [key], {});\n",
              "          if (!dataTable) return;\n",
              "\n",
              "          const docLinkHtml = 'Like what you see? Visit the ' +\n",
              "            '<a target=\"_blank\" href=https://colab.research.google.com/notebooks/data_table.ipynb>data table notebook</a>'\n",
              "            + ' to learn more about interactive tables.';\n",
              "          element.innerHTML = '';\n",
              "          dataTable['output_type'] = 'display_data';\n",
              "          await google.colab.output.renderOutput(dataTable, element);\n",
              "          const docLink = document.createElement('div');\n",
              "          docLink.innerHTML = docLinkHtml;\n",
              "          element.appendChild(docLink);\n",
              "        }\n",
              "      </script>\n",
              "    </div>\n",
              "  </div>\n",
              "  "
            ]
          },
          "metadata": {},
          "execution_count": 25
        }
      ]
    },
    {
      "cell_type": "markdown",
      "source": [
        "Now lets see if there are any further null values "
      ],
      "metadata": {
        "id": "Al4kZPCOVz8-"
      }
    },
    {
      "cell_type": "code",
      "source": [
        "playstore_df.info()"
      ],
      "metadata": {
        "id": "BVUlR4FjWATM",
        "colab": {
          "base_uri": "https://localhost:8080/"
        },
        "outputId": "59546014-dd76-44a4-ce27-40068fda765b"
      },
      "execution_count": 26,
      "outputs": [
        {
          "output_type": "stream",
          "name": "stdout",
          "text": [
            "<class 'pandas.core.frame.DataFrame'>\n",
            "Int64Index: 8290 entries, 0 to 10840\n",
            "Data columns (total 11 columns):\n",
            " #   Column          Non-Null Count  Dtype  \n",
            "---  ------          --------------  -----  \n",
            " 0   App             8290 non-null   object \n",
            " 1   Category        8290 non-null   object \n",
            " 2   Rating          8290 non-null   float64\n",
            " 3   Reviews         8290 non-null   object \n",
            " 4   Size            8290 non-null   object \n",
            " 5   Installs        8290 non-null   object \n",
            " 6   Type            8290 non-null   object \n",
            " 7   Price           8290 non-null   object \n",
            " 8   Content Rating  8289 non-null   object \n",
            " 9   Genres          8290 non-null   object \n",
            " 10  Last Updated    8290 non-null   object \n",
            "dtypes: float64(1), object(10)\n",
            "memory usage: 777.2+ KB\n"
          ]
        }
      ]
    },
    {
      "cell_type": "markdown",
      "source": [
        "Only 'Content Rating' has 1 null value.\n",
        "All further null values are removed"
      ],
      "metadata": {
        "id": "Wc0aqILlWZsk"
      }
    },
    {
      "cell_type": "code",
      "source": [
        "# let us see this null values\n",
        "# see rows having 'Content Rating' null\n",
        "playstore_df[playstore_df['Content Rating'].isna()]"
      ],
      "metadata": {
        "id": "wJBgU5kWW7sk",
        "colab": {
          "base_uri": "https://localhost:8080/",
          "height": 81
        },
        "outputId": "9d9dbede-8f7c-4774-be81-b721f464653a"
      },
      "execution_count": 27,
      "outputs": [
        {
          "output_type": "execute_result",
          "data": {
            "text/plain": [
              "                                           App Category  Rating Reviews  \\\n",
              "10472  Life Made WI-Fi Touchscreen Photo Frame      1.9    19.0    3.0M   \n",
              "\n",
              "         Size Installs Type     Price Content Rating             Genres  \\\n",
              "10472  1,000+     Free    0  Everyone            NaN  February 11, 2018   \n",
              "\n",
              "      Last Updated  \n",
              "10472       1.0.19  "
            ],
            "text/html": [
              "\n",
              "  <div id=\"df-9d2bf531-5773-4cba-b4c4-74f2aa1636f3\">\n",
              "    <div class=\"colab-df-container\">\n",
              "      <div>\n",
              "<style scoped>\n",
              "    .dataframe tbody tr th:only-of-type {\n",
              "        vertical-align: middle;\n",
              "    }\n",
              "\n",
              "    .dataframe tbody tr th {\n",
              "        vertical-align: top;\n",
              "    }\n",
              "\n",
              "    .dataframe thead th {\n",
              "        text-align: right;\n",
              "    }\n",
              "</style>\n",
              "<table border=\"1\" class=\"dataframe\">\n",
              "  <thead>\n",
              "    <tr style=\"text-align: right;\">\n",
              "      <th></th>\n",
              "      <th>App</th>\n",
              "      <th>Category</th>\n",
              "      <th>Rating</th>\n",
              "      <th>Reviews</th>\n",
              "      <th>Size</th>\n",
              "      <th>Installs</th>\n",
              "      <th>Type</th>\n",
              "      <th>Price</th>\n",
              "      <th>Content Rating</th>\n",
              "      <th>Genres</th>\n",
              "      <th>Last Updated</th>\n",
              "    </tr>\n",
              "  </thead>\n",
              "  <tbody>\n",
              "    <tr>\n",
              "      <th>10472</th>\n",
              "      <td>Life Made WI-Fi Touchscreen Photo Frame</td>\n",
              "      <td>1.9</td>\n",
              "      <td>19.0</td>\n",
              "      <td>3.0M</td>\n",
              "      <td>1,000+</td>\n",
              "      <td>Free</td>\n",
              "      <td>0</td>\n",
              "      <td>Everyone</td>\n",
              "      <td>NaN</td>\n",
              "      <td>February 11, 2018</td>\n",
              "      <td>1.0.19</td>\n",
              "    </tr>\n",
              "  </tbody>\n",
              "</table>\n",
              "</div>\n",
              "      <button class=\"colab-df-convert\" onclick=\"convertToInteractive('df-9d2bf531-5773-4cba-b4c4-74f2aa1636f3')\"\n",
              "              title=\"Convert this dataframe to an interactive table.\"\n",
              "              style=\"display:none;\">\n",
              "        \n",
              "  <svg xmlns=\"http://www.w3.org/2000/svg\" height=\"24px\"viewBox=\"0 0 24 24\"\n",
              "       width=\"24px\">\n",
              "    <path d=\"M0 0h24v24H0V0z\" fill=\"none\"/>\n",
              "    <path d=\"M18.56 5.44l.94 2.06.94-2.06 2.06-.94-2.06-.94-.94-2.06-.94 2.06-2.06.94zm-11 1L8.5 8.5l.94-2.06 2.06-.94-2.06-.94L8.5 2.5l-.94 2.06-2.06.94zm10 10l.94 2.06.94-2.06 2.06-.94-2.06-.94-.94-2.06-.94 2.06-2.06.94z\"/><path d=\"M17.41 7.96l-1.37-1.37c-.4-.4-.92-.59-1.43-.59-.52 0-1.04.2-1.43.59L10.3 9.45l-7.72 7.72c-.78.78-.78 2.05 0 2.83L4 21.41c.39.39.9.59 1.41.59.51 0 1.02-.2 1.41-.59l7.78-7.78 2.81-2.81c.8-.78.8-2.07 0-2.86zM5.41 20L4 18.59l7.72-7.72 1.47 1.35L5.41 20z\"/>\n",
              "  </svg>\n",
              "      </button>\n",
              "      \n",
              "  <style>\n",
              "    .colab-df-container {\n",
              "      display:flex;\n",
              "      flex-wrap:wrap;\n",
              "      gap: 12px;\n",
              "    }\n",
              "\n",
              "    .colab-df-convert {\n",
              "      background-color: #E8F0FE;\n",
              "      border: none;\n",
              "      border-radius: 50%;\n",
              "      cursor: pointer;\n",
              "      display: none;\n",
              "      fill: #1967D2;\n",
              "      height: 32px;\n",
              "      padding: 0 0 0 0;\n",
              "      width: 32px;\n",
              "    }\n",
              "\n",
              "    .colab-df-convert:hover {\n",
              "      background-color: #E2EBFA;\n",
              "      box-shadow: 0px 1px 2px rgba(60, 64, 67, 0.3), 0px 1px 3px 1px rgba(60, 64, 67, 0.15);\n",
              "      fill: #174EA6;\n",
              "    }\n",
              "\n",
              "    [theme=dark] .colab-df-convert {\n",
              "      background-color: #3B4455;\n",
              "      fill: #D2E3FC;\n",
              "    }\n",
              "\n",
              "    [theme=dark] .colab-df-convert:hover {\n",
              "      background-color: #434B5C;\n",
              "      box-shadow: 0px 1px 3px 1px rgba(0, 0, 0, 0.15);\n",
              "      filter: drop-shadow(0px 1px 2px rgba(0, 0, 0, 0.3));\n",
              "      fill: #FFFFFF;\n",
              "    }\n",
              "  </style>\n",
              "\n",
              "      <script>\n",
              "        const buttonEl =\n",
              "          document.querySelector('#df-9d2bf531-5773-4cba-b4c4-74f2aa1636f3 button.colab-df-convert');\n",
              "        buttonEl.style.display =\n",
              "          google.colab.kernel.accessAllowed ? 'block' : 'none';\n",
              "\n",
              "        async function convertToInteractive(key) {\n",
              "          const element = document.querySelector('#df-9d2bf531-5773-4cba-b4c4-74f2aa1636f3');\n",
              "          const dataTable =\n",
              "            await google.colab.kernel.invokeFunction('convertToInteractive',\n",
              "                                                     [key], {});\n",
              "          if (!dataTable) return;\n",
              "\n",
              "          const docLinkHtml = 'Like what you see? Visit the ' +\n",
              "            '<a target=\"_blank\" href=https://colab.research.google.com/notebooks/data_table.ipynb>data table notebook</a>'\n",
              "            + ' to learn more about interactive tables.';\n",
              "          element.innerHTML = '';\n",
              "          dataTable['output_type'] = 'display_data';\n",
              "          await google.colab.output.renderOutput(dataTable, element);\n",
              "          const docLink = document.createElement('div');\n",
              "          docLink.innerHTML = docLinkHtml;\n",
              "          element.appendChild(docLink);\n",
              "        }\n",
              "      </script>\n",
              "    </div>\n",
              "  </div>\n",
              "  "
            ]
          },
          "metadata": {},
          "execution_count": 27
        }
      ]
    },
    {
      "cell_type": "code",
      "source": [
        "# The above row is having mismatch values so should be removed\n",
        "# lets remove it\n",
        "playstore_df.drop(playstore_df[playstore_df['Content Rating'].isna()].index, inplace=True)"
      ],
      "metadata": {
        "id": "y7pGGdvZXa_r"
      },
      "execution_count": 28,
      "outputs": []
    },
    {
      "cell_type": "markdown",
      "source": [
        "Now let us convert column values to analyzable format"
      ],
      "metadata": {
        "id": "AmyPSOEZeF2i"
      }
    },
    {
      "cell_type": "code",
      "source": [
        "# column 'Reviews' is object type lets convert to int\n",
        "playstore_df['Reviews']=playstore_df['Reviews'].astype(int)"
      ],
      "metadata": {
        "id": "2vdAYsSNX9m4"
      },
      "execution_count": 29,
      "outputs": []
    },
    {
      "cell_type": "code",
      "source": [
        "# column 'Last Updated' is object type lets convert to date type\n",
        "playstore_df['Last Updated']=playstore_df['Last Updated'].astype('datetime64[s]')"
      ],
      "metadata": {
        "id": "eMIe0eVaYwb9"
      },
      "execution_count": 30,
      "outputs": []
    },
    {
      "cell_type": "code",
      "source": [
        "# column size\n",
        "playstore_df['Size'].value_counts().tail(30)"
      ],
      "metadata": {
        "id": "uC0e4Sr4lrpn",
        "colab": {
          "base_uri": "https://localhost:8080/"
        },
        "outputId": "ee8e6253-770b-478c-b788-bfd6ad915406"
      },
      "execution_count": 31,
      "outputs": [
        {
          "output_type": "execute_result",
          "data": {
            "text/plain": [
              "585k    1\n",
              "982k    1\n",
              "782k    1\n",
              "459k    1\n",
              "61k     1\n",
              "412k    1\n",
              "283k    1\n",
              "655k    1\n",
              "714k    1\n",
              "93k     1\n",
              "872k    1\n",
              "121k    1\n",
              "322k    1\n",
              "976k    1\n",
              "206k    1\n",
              "954k    1\n",
              "444k    1\n",
              "717k    1\n",
              "210k    1\n",
              "609k    1\n",
              "308k    1\n",
              "306k    1\n",
              "175k    1\n",
              "350k    1\n",
              "383k    1\n",
              "454k    1\n",
              "812k    1\n",
              "442k    1\n",
              "842k    1\n",
              "619k    1\n",
              "Name: Size, dtype: int64"
            ]
          },
          "metadata": {},
          "execution_count": 31
        }
      ]
    },
    {
      "cell_type": "code",
      "source": [
        "# lets remove M and K and convert all data to mb\n",
        "playstore_df['Size']=playstore_df['Size'].apply(lambda x:float(str(x).replace('M','')) if 'M' in str(x) else x )\n",
        "playstore_df['Size']=playstore_df['Size'].apply(lambda x:float(str(x).replace('k',''))/1000 if 'k' in str(x) else x ) # div by 1000 to conv kb to mb"
      ],
      "metadata": {
        "id": "zkJERBRp6hjm"
      },
      "execution_count": 32,
      "outputs": []
    },
    {
      "cell_type": "code",
      "source": [
        "# column Price\n",
        "playstore_df['Price'].value_counts().tail(30)"
      ],
      "metadata": {
        "id": "fRyO8OAyAJtc",
        "colab": {
          "base_uri": "https://localhost:8080/"
        },
        "outputId": "f03c9cd2-0e2c-40a2-c983-0aeda61dd8cb"
      },
      "execution_count": 33,
      "outputs": [
        {
          "output_type": "execute_result",
          "data": {
            "text/plain": [
              "$2.56      1\n",
              "$3.28      1\n",
              "$1.97      1\n",
              "$2.90      1\n",
              "$2.95      1\n",
              "$4.60      1\n",
              "$1.75      1\n",
              "$400.00    1\n",
              "$389.99    1\n",
              "$18.99     1\n",
              "$1.50      1\n",
              "$15.99     1\n",
              "$79.99     1\n",
              "$9.00      1\n",
              "$33.99     1\n",
              "$39.99     1\n",
              "$3.88      1\n",
              "$3.02      1\n",
              "$1.76      1\n",
              "$4.84      1\n",
              "$4.77      1\n",
              "$1.61      1\n",
              "$2.50      1\n",
              "$1.59      1\n",
              "$6.49      1\n",
              "$1.29      1\n",
              "$299.99    1\n",
              "$379.99    1\n",
              "$37.99     1\n",
              "$1.20      1\n",
              "Name: Price, dtype: int64"
            ]
          },
          "metadata": {},
          "execution_count": 33
        }
      ]
    },
    {
      "cell_type": "code",
      "source": [
        "#removing '$' from price\n",
        "playstore_df['Price']=playstore_df['Price'].apply(lambda x:float(str(x).replace('$','')) if '$' in str(x) else x )\n",
        "playstore_df['Price']=playstore_df['Price'].astype(float)"
      ],
      "metadata": {
        "id": "Oj5f2LgzAP5i"
      },
      "execution_count": 34,
      "outputs": []
    },
    {
      "cell_type": "markdown",
      "source": [
        "While Analyzing the Dataset we can see that we do have some values which contains Varies with device intead of int let's see how many such values we do have."
      ],
      "metadata": {
        "id": "cZH0epPgKvin"
      }
    },
    {
      "cell_type": "code",
      "source": [
        "playstore_df['Size'][playstore_df['Size']=='Varies with device'].count()"
      ],
      "metadata": {
        "id": "70WspMzV-Oi8",
        "colab": {
          "base_uri": "https://localhost:8080/"
        },
        "outputId": "c5f9d89a-8572-4b04-c24d-a7028efb4245"
      },
      "execution_count": 35,
      "outputs": [
        {
          "output_type": "execute_result",
          "data": {
            "text/plain": [
              "1193"
            ]
          },
          "metadata": {},
          "execution_count": 35
        }
      ]
    },
    {
      "cell_type": "markdown",
      "source": [
        "After the analyzing Size columns in details we got to know that maximum applications of same categories have the approx same sizes so we can replace the NaN and varies with device values with the mean of Size according to category wise."
      ],
      "metadata": {
        "id": "bJdu3ZPgSUA7"
      }
    },
    {
      "cell_type": "code",
      "source": [
        "#Let's check how many apps we do have in each category\n",
        "playstore_df.groupby('Category').count()['App']"
      ],
      "metadata": {
        "id": "AP2cf5DbS7y-",
        "colab": {
          "base_uri": "https://localhost:8080/"
        },
        "outputId": "67d49c44-f86f-49b6-9b6c-2ce9ef5d968b"
      },
      "execution_count": 36,
      "outputs": [
        {
          "output_type": "execute_result",
          "data": {
            "text/plain": [
              "Category\n",
              "ART_AND_DESIGN           61\n",
              "AUTO_AND_VEHICLES        73\n",
              "BEAUTY                   42\n",
              "BOOKS_AND_REFERENCE     169\n",
              "BUSINESS                263\n",
              "COMICS                   54\n",
              "COMMUNICATION           257\n",
              "DATING                  134\n",
              "EDUCATION               118\n",
              "ENTERTAINMENT           102\n",
              "EVENTS                   45\n",
              "FAMILY                 1684\n",
              "FINANCE                 302\n",
              "FOOD_AND_DRINK           95\n",
              "GAME                    914\n",
              "HEALTH_AND_FITNESS      244\n",
              "HOUSE_AND_HOME           62\n",
              "LIBRARIES_AND_DEMO       64\n",
              "LIFESTYLE               301\n",
              "MAPS_AND_NAVIGATION     118\n",
              "MEDICAL                 293\n",
              "NEWS_AND_MAGAZINES      204\n",
              "PARENTING                50\n",
              "PERSONALIZATION         298\n",
              "PHOTOGRAPHY             265\n",
              "PRODUCTIVITY            301\n",
              "SHOPPING                181\n",
              "SOCIAL                  203\n",
              "SPORTS                  262\n",
              "TOOLS                   721\n",
              "TRAVEL_AND_LOCAL        187\n",
              "VIDEO_PLAYERS           150\n",
              "WEATHER                  72\n",
              "Name: App, dtype: int64"
            ]
          },
          "metadata": {},
          "execution_count": 36
        }
      ]
    },
    {
      "cell_type": "code",
      "source": [
        "# let's convert Varies with device to NaN values so that we can easily replace them\n",
        "playstore_df['Size'] = playstore_df.Size.replace('Varies with device' , np.NaN)\n",
        "# Let's calculate the mean values according to categories\n",
        "playstore_df.Size = playstore_df.groupby('Category')['Size'].apply(lambda x: x.fillna(x.mean()))"
      ],
      "metadata": {
        "id": "_2xkZMvAHsdY"
      },
      "execution_count": 37,
      "outputs": []
    },
    {
      "cell_type": "code",
      "source": [
        "#Let's see now if we have any null values in Size\n",
        "playstore_df['Size'].isna().sum()"
      ],
      "metadata": {
        "id": "rdGs9PlDJG0o",
        "colab": {
          "base_uri": "https://localhost:8080/"
        },
        "outputId": "19fbbae5-4ce1-4031-9c69-33c80c3c20b5"
      },
      "execution_count": 38,
      "outputs": [
        {
          "output_type": "execute_result",
          "data": {
            "text/plain": [
              "0"
            ]
          },
          "metadata": {},
          "execution_count": 38
        }
      ]
    },
    {
      "cell_type": "code",
      "source": [
        "playstore_df.head(10)"
      ],
      "metadata": {
        "id": "dS1lZrTI_BpM",
        "colab": {
          "base_uri": "https://localhost:8080/",
          "height": 363
        },
        "outputId": "13735950-d81a-4b43-954e-414311c913db"
      },
      "execution_count": 39,
      "outputs": [
        {
          "output_type": "execute_result",
          "data": {
            "text/plain": [
              "                                                 App        Category  Rating  \\\n",
              "0     Photo Editor & Candy Camera & Grid & ScrapBook  ART_AND_DESIGN     4.1   \n",
              "1                                Coloring book moana  ART_AND_DESIGN     3.9   \n",
              "2  U Launcher Lite – FREE Live Cool Themes, Hide ...  ART_AND_DESIGN     4.7   \n",
              "3                              Sketch - Draw & Paint  ART_AND_DESIGN     4.5   \n",
              "4              Pixel Draw - Number Art Coloring Book  ART_AND_DESIGN     4.3   \n",
              "5                         Paper flowers instructions  ART_AND_DESIGN     4.4   \n",
              "6            Smoke Effect Photo Maker - Smoke Editor  ART_AND_DESIGN     3.8   \n",
              "7                                   Infinite Painter  ART_AND_DESIGN     4.1   \n",
              "8                               Garden Coloring Book  ART_AND_DESIGN     4.4   \n",
              "9                      Kids Paint Free - Drawing Fun  ART_AND_DESIGN     4.7   \n",
              "\n",
              "   Reviews  Size     Installs  Type  Price Content Rating  \\\n",
              "0      159  19.0      10,000+  Free    0.0       Everyone   \n",
              "1      967  14.0     500,000+  Free    0.0       Everyone   \n",
              "2    87510   8.7   5,000,000+  Free    0.0       Everyone   \n",
              "3   215644  25.0  50,000,000+  Free    0.0           Teen   \n",
              "4      967   2.8     100,000+  Free    0.0       Everyone   \n",
              "5      167   5.6      50,000+  Free    0.0       Everyone   \n",
              "6      178  19.0      50,000+  Free    0.0       Everyone   \n",
              "7    36815  29.0   1,000,000+  Free    0.0       Everyone   \n",
              "8    13791  33.0   1,000,000+  Free    0.0       Everyone   \n",
              "9      121   3.1      10,000+  Free    0.0       Everyone   \n",
              "\n",
              "                      Genres Last Updated  \n",
              "0               Art & Design   2018-01-07  \n",
              "1  Art & Design;Pretend Play   2018-01-15  \n",
              "2               Art & Design   2018-08-01  \n",
              "3               Art & Design   2018-06-08  \n",
              "4    Art & Design;Creativity   2018-06-20  \n",
              "5               Art & Design   2017-03-26  \n",
              "6               Art & Design   2018-04-26  \n",
              "7               Art & Design   2018-06-14  \n",
              "8               Art & Design   2017-09-20  \n",
              "9    Art & Design;Creativity   2018-07-03  "
            ],
            "text/html": [
              "\n",
              "  <div id=\"df-09f68e14-63e6-4c6a-8568-9275a7590f79\">\n",
              "    <div class=\"colab-df-container\">\n",
              "      <div>\n",
              "<style scoped>\n",
              "    .dataframe tbody tr th:only-of-type {\n",
              "        vertical-align: middle;\n",
              "    }\n",
              "\n",
              "    .dataframe tbody tr th {\n",
              "        vertical-align: top;\n",
              "    }\n",
              "\n",
              "    .dataframe thead th {\n",
              "        text-align: right;\n",
              "    }\n",
              "</style>\n",
              "<table border=\"1\" class=\"dataframe\">\n",
              "  <thead>\n",
              "    <tr style=\"text-align: right;\">\n",
              "      <th></th>\n",
              "      <th>App</th>\n",
              "      <th>Category</th>\n",
              "      <th>Rating</th>\n",
              "      <th>Reviews</th>\n",
              "      <th>Size</th>\n",
              "      <th>Installs</th>\n",
              "      <th>Type</th>\n",
              "      <th>Price</th>\n",
              "      <th>Content Rating</th>\n",
              "      <th>Genres</th>\n",
              "      <th>Last Updated</th>\n",
              "    </tr>\n",
              "  </thead>\n",
              "  <tbody>\n",
              "    <tr>\n",
              "      <th>0</th>\n",
              "      <td>Photo Editor &amp; Candy Camera &amp; Grid &amp; ScrapBook</td>\n",
              "      <td>ART_AND_DESIGN</td>\n",
              "      <td>4.1</td>\n",
              "      <td>159</td>\n",
              "      <td>19.0</td>\n",
              "      <td>10,000+</td>\n",
              "      <td>Free</td>\n",
              "      <td>0.0</td>\n",
              "      <td>Everyone</td>\n",
              "      <td>Art &amp; Design</td>\n",
              "      <td>2018-01-07</td>\n",
              "    </tr>\n",
              "    <tr>\n",
              "      <th>1</th>\n",
              "      <td>Coloring book moana</td>\n",
              "      <td>ART_AND_DESIGN</td>\n",
              "      <td>3.9</td>\n",
              "      <td>967</td>\n",
              "      <td>14.0</td>\n",
              "      <td>500,000+</td>\n",
              "      <td>Free</td>\n",
              "      <td>0.0</td>\n",
              "      <td>Everyone</td>\n",
              "      <td>Art &amp; Design;Pretend Play</td>\n",
              "      <td>2018-01-15</td>\n",
              "    </tr>\n",
              "    <tr>\n",
              "      <th>2</th>\n",
              "      <td>U Launcher Lite – FREE Live Cool Themes, Hide ...</td>\n",
              "      <td>ART_AND_DESIGN</td>\n",
              "      <td>4.7</td>\n",
              "      <td>87510</td>\n",
              "      <td>8.7</td>\n",
              "      <td>5,000,000+</td>\n",
              "      <td>Free</td>\n",
              "      <td>0.0</td>\n",
              "      <td>Everyone</td>\n",
              "      <td>Art &amp; Design</td>\n",
              "      <td>2018-08-01</td>\n",
              "    </tr>\n",
              "    <tr>\n",
              "      <th>3</th>\n",
              "      <td>Sketch - Draw &amp; Paint</td>\n",
              "      <td>ART_AND_DESIGN</td>\n",
              "      <td>4.5</td>\n",
              "      <td>215644</td>\n",
              "      <td>25.0</td>\n",
              "      <td>50,000,000+</td>\n",
              "      <td>Free</td>\n",
              "      <td>0.0</td>\n",
              "      <td>Teen</td>\n",
              "      <td>Art &amp; Design</td>\n",
              "      <td>2018-06-08</td>\n",
              "    </tr>\n",
              "    <tr>\n",
              "      <th>4</th>\n",
              "      <td>Pixel Draw - Number Art Coloring Book</td>\n",
              "      <td>ART_AND_DESIGN</td>\n",
              "      <td>4.3</td>\n",
              "      <td>967</td>\n",
              "      <td>2.8</td>\n",
              "      <td>100,000+</td>\n",
              "      <td>Free</td>\n",
              "      <td>0.0</td>\n",
              "      <td>Everyone</td>\n",
              "      <td>Art &amp; Design;Creativity</td>\n",
              "      <td>2018-06-20</td>\n",
              "    </tr>\n",
              "    <tr>\n",
              "      <th>5</th>\n",
              "      <td>Paper flowers instructions</td>\n",
              "      <td>ART_AND_DESIGN</td>\n",
              "      <td>4.4</td>\n",
              "      <td>167</td>\n",
              "      <td>5.6</td>\n",
              "      <td>50,000+</td>\n",
              "      <td>Free</td>\n",
              "      <td>0.0</td>\n",
              "      <td>Everyone</td>\n",
              "      <td>Art &amp; Design</td>\n",
              "      <td>2017-03-26</td>\n",
              "    </tr>\n",
              "    <tr>\n",
              "      <th>6</th>\n",
              "      <td>Smoke Effect Photo Maker - Smoke Editor</td>\n",
              "      <td>ART_AND_DESIGN</td>\n",
              "      <td>3.8</td>\n",
              "      <td>178</td>\n",
              "      <td>19.0</td>\n",
              "      <td>50,000+</td>\n",
              "      <td>Free</td>\n",
              "      <td>0.0</td>\n",
              "      <td>Everyone</td>\n",
              "      <td>Art &amp; Design</td>\n",
              "      <td>2018-04-26</td>\n",
              "    </tr>\n",
              "    <tr>\n",
              "      <th>7</th>\n",
              "      <td>Infinite Painter</td>\n",
              "      <td>ART_AND_DESIGN</td>\n",
              "      <td>4.1</td>\n",
              "      <td>36815</td>\n",
              "      <td>29.0</td>\n",
              "      <td>1,000,000+</td>\n",
              "      <td>Free</td>\n",
              "      <td>0.0</td>\n",
              "      <td>Everyone</td>\n",
              "      <td>Art &amp; Design</td>\n",
              "      <td>2018-06-14</td>\n",
              "    </tr>\n",
              "    <tr>\n",
              "      <th>8</th>\n",
              "      <td>Garden Coloring Book</td>\n",
              "      <td>ART_AND_DESIGN</td>\n",
              "      <td>4.4</td>\n",
              "      <td>13791</td>\n",
              "      <td>33.0</td>\n",
              "      <td>1,000,000+</td>\n",
              "      <td>Free</td>\n",
              "      <td>0.0</td>\n",
              "      <td>Everyone</td>\n",
              "      <td>Art &amp; Design</td>\n",
              "      <td>2017-09-20</td>\n",
              "    </tr>\n",
              "    <tr>\n",
              "      <th>9</th>\n",
              "      <td>Kids Paint Free - Drawing Fun</td>\n",
              "      <td>ART_AND_DESIGN</td>\n",
              "      <td>4.7</td>\n",
              "      <td>121</td>\n",
              "      <td>3.1</td>\n",
              "      <td>10,000+</td>\n",
              "      <td>Free</td>\n",
              "      <td>0.0</td>\n",
              "      <td>Everyone</td>\n",
              "      <td>Art &amp; Design;Creativity</td>\n",
              "      <td>2018-07-03</td>\n",
              "    </tr>\n",
              "  </tbody>\n",
              "</table>\n",
              "</div>\n",
              "      <button class=\"colab-df-convert\" onclick=\"convertToInteractive('df-09f68e14-63e6-4c6a-8568-9275a7590f79')\"\n",
              "              title=\"Convert this dataframe to an interactive table.\"\n",
              "              style=\"display:none;\">\n",
              "        \n",
              "  <svg xmlns=\"http://www.w3.org/2000/svg\" height=\"24px\"viewBox=\"0 0 24 24\"\n",
              "       width=\"24px\">\n",
              "    <path d=\"M0 0h24v24H0V0z\" fill=\"none\"/>\n",
              "    <path d=\"M18.56 5.44l.94 2.06.94-2.06 2.06-.94-2.06-.94-.94-2.06-.94 2.06-2.06.94zm-11 1L8.5 8.5l.94-2.06 2.06-.94-2.06-.94L8.5 2.5l-.94 2.06-2.06.94zm10 10l.94 2.06.94-2.06 2.06-.94-2.06-.94-.94-2.06-.94 2.06-2.06.94z\"/><path d=\"M17.41 7.96l-1.37-1.37c-.4-.4-.92-.59-1.43-.59-.52 0-1.04.2-1.43.59L10.3 9.45l-7.72 7.72c-.78.78-.78 2.05 0 2.83L4 21.41c.39.39.9.59 1.41.59.51 0 1.02-.2 1.41-.59l7.78-7.78 2.81-2.81c.8-.78.8-2.07 0-2.86zM5.41 20L4 18.59l7.72-7.72 1.47 1.35L5.41 20z\"/>\n",
              "  </svg>\n",
              "      </button>\n",
              "      \n",
              "  <style>\n",
              "    .colab-df-container {\n",
              "      display:flex;\n",
              "      flex-wrap:wrap;\n",
              "      gap: 12px;\n",
              "    }\n",
              "\n",
              "    .colab-df-convert {\n",
              "      background-color: #E8F0FE;\n",
              "      border: none;\n",
              "      border-radius: 50%;\n",
              "      cursor: pointer;\n",
              "      display: none;\n",
              "      fill: #1967D2;\n",
              "      height: 32px;\n",
              "      padding: 0 0 0 0;\n",
              "      width: 32px;\n",
              "    }\n",
              "\n",
              "    .colab-df-convert:hover {\n",
              "      background-color: #E2EBFA;\n",
              "      box-shadow: 0px 1px 2px rgba(60, 64, 67, 0.3), 0px 1px 3px 1px rgba(60, 64, 67, 0.15);\n",
              "      fill: #174EA6;\n",
              "    }\n",
              "\n",
              "    [theme=dark] .colab-df-convert {\n",
              "      background-color: #3B4455;\n",
              "      fill: #D2E3FC;\n",
              "    }\n",
              "\n",
              "    [theme=dark] .colab-df-convert:hover {\n",
              "      background-color: #434B5C;\n",
              "      box-shadow: 0px 1px 3px 1px rgba(0, 0, 0, 0.15);\n",
              "      filter: drop-shadow(0px 1px 2px rgba(0, 0, 0, 0.3));\n",
              "      fill: #FFFFFF;\n",
              "    }\n",
              "  </style>\n",
              "\n",
              "      <script>\n",
              "        const buttonEl =\n",
              "          document.querySelector('#df-09f68e14-63e6-4c6a-8568-9275a7590f79 button.colab-df-convert');\n",
              "        buttonEl.style.display =\n",
              "          google.colab.kernel.accessAllowed ? 'block' : 'none';\n",
              "\n",
              "        async function convertToInteractive(key) {\n",
              "          const element = document.querySelector('#df-09f68e14-63e6-4c6a-8568-9275a7590f79');\n",
              "          const dataTable =\n",
              "            await google.colab.kernel.invokeFunction('convertToInteractive',\n",
              "                                                     [key], {});\n",
              "          if (!dataTable) return;\n",
              "\n",
              "          const docLinkHtml = 'Like what you see? Visit the ' +\n",
              "            '<a target=\"_blank\" href=https://colab.research.google.com/notebooks/data_table.ipynb>data table notebook</a>'\n",
              "            + ' to learn more about interactive tables.';\n",
              "          element.innerHTML = '';\n",
              "          dataTable['output_type'] = 'display_data';\n",
              "          await google.colab.output.renderOutput(dataTable, element);\n",
              "          const docLink = document.createElement('div');\n",
              "          docLink.innerHTML = docLinkHtml;\n",
              "          element.appendChild(docLink);\n",
              "        }\n",
              "      </script>\n",
              "    </div>\n",
              "  </div>\n",
              "  "
            ]
          },
          "metadata": {},
          "execution_count": 39
        }
      ]
    },
    {
      "cell_type": "code",
      "source": [
        "# Coloumn Installs \n",
        "playstore_df['Installs']\n",
        "# It consists of ',' and '+' symbol "
      ],
      "metadata": {
        "id": "3EUgmeayFcyB",
        "colab": {
          "base_uri": "https://localhost:8080/"
        },
        "outputId": "8bf951a4-8706-4313-e0b4-b7bf0c7e3fac"
      },
      "execution_count": 40,
      "outputs": [
        {
          "output_type": "execute_result",
          "data": {
            "text/plain": [
              "0            10,000+\n",
              "1           500,000+\n",
              "2         5,000,000+\n",
              "3        50,000,000+\n",
              "4           100,000+\n",
              "            ...     \n",
              "10834           500+\n",
              "10836         5,000+\n",
              "10837           100+\n",
              "10839         1,000+\n",
              "10840    10,000,000+\n",
              "Name: Installs, Length: 8289, dtype: object"
            ]
          },
          "metadata": {},
          "execution_count": 40
        }
      ]
    },
    {
      "cell_type": "code",
      "source": [
        "#lets remove ',' and '+' symbol from Installs and convert it to int\n",
        "playstore_df['Installs']=playstore_df['Installs'].apply(lambda x: str(x).replace('+','') if '+' in str(x) else x)\n",
        "playstore_df['Installs']=playstore_df['Installs'].apply(lambda x: str(x).replace(',','') if ',' in str(x) else x)\n",
        "playstore_df['Installs']=playstore_df['Installs'].astype(int)"
      ],
      "metadata": {
        "id": "ddBqlN3dF7Y_"
      },
      "execution_count": 41,
      "outputs": []
    },
    {
      "cell_type": "code",
      "source": [
        "# app column \n",
        "# converting apps to string\n",
        "playstore_df['App']=playstore_df['App'].astype(str)"
      ],
      "metadata": {
        "id": "RG9KWBB-IPyu"
      },
      "execution_count": 42,
      "outputs": []
    },
    {
      "cell_type": "code",
      "source": [
        "playstore_df['Installs'].value_counts() # diff no of installs in mb"
      ],
      "metadata": {
        "id": "ALIxgZG1H5U4",
        "colab": {
          "base_uri": "https://localhost:8080/"
        },
        "outputId": "5f7235bc-99c6-4b93-a343-1ebb5e1464c2"
      },
      "execution_count": 43,
      "outputs": [
        {
          "output_type": "execute_result",
          "data": {
            "text/plain": [
              "1000000       1428\n",
              "100000        1098\n",
              "10000          988\n",
              "10000000       963\n",
              "1000           698\n",
              "5000000        621\n",
              "500000         509\n",
              "50000          457\n",
              "5000           425\n",
              "100            303\n",
              "50000000       211\n",
              "100000000      204\n",
              "500            199\n",
              "10              69\n",
              "50              56\n",
              "500000000       27\n",
              "1000000000      21\n",
              "5                9\n",
              "1                3\n",
              "Name: Installs, dtype: int64"
            ]
          },
          "metadata": {},
          "execution_count": 43
        }
      ]
    },
    {
      "cell_type": "code",
      "source": [
        "# now lets see how are dataframe looks\n",
        "playstore_df.info()"
      ],
      "metadata": {
        "id": "OJAJmAvnZGh2",
        "colab": {
          "base_uri": "https://localhost:8080/"
        },
        "outputId": "84d476ba-93bd-420f-f560-24adf2b0d130"
      },
      "execution_count": 44,
      "outputs": [
        {
          "output_type": "stream",
          "name": "stdout",
          "text": [
            "<class 'pandas.core.frame.DataFrame'>\n",
            "Int64Index: 8289 entries, 0 to 10840\n",
            "Data columns (total 11 columns):\n",
            " #   Column          Non-Null Count  Dtype         \n",
            "---  ------          --------------  -----         \n",
            " 0   App             8289 non-null   object        \n",
            " 1   Category        8289 non-null   object        \n",
            " 2   Rating          8289 non-null   float64       \n",
            " 3   Reviews         8289 non-null   int64         \n",
            " 4   Size            8289 non-null   float64       \n",
            " 5   Installs        8289 non-null   int64         \n",
            " 6   Type            8289 non-null   object        \n",
            " 7   Price           8289 non-null   float64       \n",
            " 8   Content Rating  8289 non-null   object        \n",
            " 9   Genres          8289 non-null   object        \n",
            " 10  Last Updated    8289 non-null   datetime64[ns]\n",
            "dtypes: datetime64[ns](1), float64(3), int64(2), object(5)\n",
            "memory usage: 777.1+ KB\n"
          ]
        }
      ]
    },
    {
      "cell_type": "markdown",
      "source": [
        "updated dataframe has 8213 rows and 11 columns"
      ],
      "metadata": {
        "id": "nXxWvOsPT9qu"
      }
    },
    {
      "cell_type": "markdown",
      "source": [
        "**Cleaning 2nd dataframe (review_df)**"
      ],
      "metadata": {
        "id": "J58jKaybI6AO"
      }
    },
    {
      "cell_type": "code",
      "source": [
        "# first see if there are any duplicates\n",
        "review_df.duplicated(keep='last').sum()"
      ],
      "metadata": {
        "id": "dD-1Hc0AJD1F",
        "colab": {
          "base_uri": "https://localhost:8080/"
        },
        "outputId": "1510e083-9532-443b-963d-39f9b3df6d40"
      },
      "execution_count": 45,
      "outputs": [
        {
          "output_type": "execute_result",
          "data": {
            "text/plain": [
              "33616"
            ]
          },
          "metadata": {},
          "execution_count": 45
        }
      ]
    },
    {
      "cell_type": "code",
      "source": [
        "# we have seen while exploring this columns (Sentiment,Sentiment_polarity,Sentiment_subjectivity) have many null values lets remove them \n",
        "review_df.drop(review_df[review_df['Sentiment'].isna()].index, inplace=True)"
      ],
      "metadata": {
        "id": "09ygBmjrMHkl"
      },
      "execution_count": 46,
      "outputs": []
    },
    {
      "cell_type": "code",
      "source": [
        "review_df.info()\n",
        "# so we have removed all the null values"
      ],
      "metadata": {
        "id": "Ugu0AncSM-of",
        "colab": {
          "base_uri": "https://localhost:8080/"
        },
        "outputId": "a5cfb01f-254d-4f4b-a2fb-69c7aeb243f4"
      },
      "execution_count": 47,
      "outputs": [
        {
          "output_type": "stream",
          "name": "stdout",
          "text": [
            "<class 'pandas.core.frame.DataFrame'>\n",
            "Int64Index: 37432 entries, 0 to 64230\n",
            "Data columns (total 5 columns):\n",
            " #   Column                  Non-Null Count  Dtype  \n",
            "---  ------                  --------------  -----  \n",
            " 0   App                     37432 non-null  object \n",
            " 1   Translated_Review       37427 non-null  object \n",
            " 2   Sentiment               37432 non-null  object \n",
            " 3   Sentiment_Polarity      37432 non-null  float64\n",
            " 4   Sentiment_Subjectivity  37432 non-null  float64\n",
            "dtypes: float64(2), object(3)\n",
            "memory usage: 1.7+ MB\n"
          ]
        }
      ]
    },
    {
      "cell_type": "code",
      "source": [
        "#Lets check how much percentage of Postive Sentiments we have in data set.\n",
        "df_review=review_df.groupby(['Sentiment']).count()"
      ],
      "metadata": {
        "id": "mjbIo62_PAb8"
      },
      "execution_count": 48,
      "outputs": []
    },
    {
      "cell_type": "code",
      "source": [
        "#Plot the percentage of sentiments on the pie chart in entire data set\n",
        "df_review.plot.pie(y='App', figsize=(5,6),autopct='%1.2f%%')"
      ],
      "metadata": {
        "id": "MpMXRWPzPTdu",
        "colab": {
          "base_uri": "https://localhost:8080/",
          "height": 327
        },
        "outputId": "ba78194e-a6ba-4012-caaa-3f5644820f48"
      },
      "execution_count": 49,
      "outputs": [
        {
          "output_type": "execute_result",
          "data": {
            "text/plain": [
              "<matplotlib.axes._subplots.AxesSubplot at 0x7feb7d903990>"
            ]
          },
          "metadata": {},
          "execution_count": 49
        },
        {
          "output_type": "display_data",
          "data": {
            "text/plain": [
              "<Figure size 360x432 with 1 Axes>"
            ],
            "image/png": "[encoded data removed]"
          },
          "metadata": {}
        }
      ]
    },
    {
      "cell_type": "markdown",
      "source": [
        "Now we have to check average ratings of the categories so that we can see which category is have more engagement."
      ],
      "metadata": {
        "id": "LkXV_SmDP-BK"
      }
    },
    {
      "cell_type": "code",
      "source": [
        "playstore_df['Rating'].hist(grid=False)"
      ],
      "metadata": {
        "id": "OJtVQslrQTax",
        "colab": {
          "base_uri": "https://localhost:8080/",
          "height": 282
        },
        "outputId": "54c13110-cc40-4640-9422-77f8bd933024"
      },
      "execution_count": 50,
      "outputs": [
        {
          "output_type": "execute_result",
          "data": {
            "text/plain": [
              "<matplotlib.axes._subplots.AxesSubplot at 0x7feb7d8fe310>"
            ]
          },
          "metadata": {},
          "execution_count": 50
        },
        {
          "output_type": "display_data",
          "data": {
            "text/plain": [
              "<Figure size 432x288 with 1 Axes>"
            ],
            "image/png": "[encoded data removed]"
          },
          "metadata": {
            "needs_background": "light"
          }
        }
      ]
    },
    {
      "cell_type": "markdown",
      "source": [
        "After Analyzing the above graph we can see that maximum applications we do have with ratings more then 4.0, rating is between 4.0 to 5.0."
      ],
      "metadata": {
        "id": "TvY4GnbiVPkL"
      }
    },
    {
      "cell_type": "code",
      "source": [
        "playstore_df.boxplot(by ='Category', column =['Rating'], grid = False, figsize=(50,8),rot=70)"
      ],
      "metadata": {
        "id": "ziPpExjP77A2",
        "colab": {
          "base_uri": "https://localhost:8080/",
          "height": 397
        },
        "outputId": "294281e5-4621-4c15-c2fe-576745fb6df0"
      },
      "execution_count": 51,
      "outputs": [
        {
          "output_type": "stream",
          "name": "stderr",
          "text": [
            "/usr/local/lib/python3.7/dist-packages/matplotlib/cbook/__init__.py:1376: VisibleDeprecationWarning: Creating an ndarray from ragged nested sequences (which is a list-or-tuple of lists-or-tuples-or ndarrays with different lengths or shapes) is deprecated. If you meant to do this, you must specify 'dtype=object' when creating the ndarray.\n",
            "  X = np.atleast_1d(X.T if isinstance(X, np.ndarray) else np.asarray(X))\n"
          ]
        },
        {
          "output_type": "execute_result",
          "data": {
            "text/plain": [
              "<matplotlib.axes._subplots.AxesSubplot at 0x7feb7d984ed0>"
            ]
          },
          "metadata": {},
          "execution_count": 51
        },
        {
          "output_type": "display_data",
          "data": {
            "text/plain": [
              "<Figure size 3600x576 with 1 Axes>"
            ],
            "image/png": "[encoded data removed]"
          },
          "metadata": {
            "needs_background": "light"
          }
        }
      ]
    },
    {
      "cell_type": "markdown",
      "source": [
        "In above data set we can see that maximum Ratings we have with above 4.0 although we do have some outliers with rating below 4.0.\n",
        "\n",
        "Now let’s see the top installed apps in the playstore.\n"
      ],
      "metadata": {
        "id": "dt_Ww9Em_utM"
      }
    },
    {
      "cell_type": "code",
      "source": [
        "#Find unique values in the installs \n",
        "playstore_df.Installs.unique()"
      ],
      "metadata": {
        "id": "22pA7eBx8tby",
        "colab": {
          "base_uri": "https://localhost:8080/"
        },
        "outputId": "50d6f4c4-8175-434a-f82b-5cb4f79007fd"
      },
      "execution_count": 52,
      "outputs": [
        {
          "output_type": "execute_result",
          "data": {
            "text/plain": [
              "array([     10000,     500000,    5000000,   50000000,     100000,\n",
              "            50000,    1000000,   10000000,       5000, 1000000000,\n",
              "        100000000,       1000,        100,        500,         10,\n",
              "        500000000,          5,         50,          1])"
            ]
          },
          "metadata": {},
          "execution_count": 52
        }
      ]
    },
    {
      "cell_type": "markdown",
      "source": [
        "### In this dataset there are many such apps ,which have low installs (less then and equal to 100) and good rating (like: 5) . due to this outliers the data visualization is not clear ,so we have taken the decision that we will drop these outliers"
      ],
      "metadata": {
        "id": "egbKnm27cv6u"
      }
    },
    {
      "cell_type": "code",
      "source": [
        "#To know no of Installs less than 100\n",
        "playstore_df[playstore_df['Installs'] <=100]"
      ],
      "metadata": {
        "id": "W1O9lXLpHmCH",
        "colab": {
          "base_uri": "https://localhost:8080/",
          "height": 424
        },
        "outputId": "b39c6406-99c6-4cf6-b2e8-f54b84c8e341"
      },
      "execution_count": 53,
      "outputs": [
        {
          "output_type": "execute_result",
          "data": {
            "text/plain": [
              "                                                     App   Category  Rating  \\\n",
              "481    AMBW Dating App: Asian Men Black Women Interra...     DATING     3.5   \n",
              "615                                         Awake Dating     DATING     5.0   \n",
              "619                       Random Chat App with Strangers     DATING     3.0   \n",
              "625                              House party - live chat     DATING     1.0   \n",
              "636           Girls Live Talk - Free Text and Video Chat     DATING     5.0   \n",
              "...                                                  ...        ...     ...   \n",
              "10721                                  Mad Dash Fo' Cash       GAME     5.0   \n",
              "10776                                   Monster Ride Pro       GAME     5.0   \n",
              "10805                                      Scoreboard FR  LIFESTYLE     4.3   \n",
              "10810                                  Fr Lupupa Sermons   BUSINESS     4.8   \n",
              "10837                   Fr. Mike Schmitz Audio Teachings     FAMILY     5.0   \n",
              "\n",
              "       Reviews  Size  Installs  Type  Price Content Rating     Genres  \\\n",
              "481          2  17.0       100  Paid   7.99     Mature 17+     Dating   \n",
              "615          2  70.0       100  Free   0.00     Mature 17+     Dating   \n",
              "619          2  16.0       100  Free   0.00     Mature 17+     Dating   \n",
              "625          1   9.2        10  Free   0.00     Mature 17+     Dating   \n",
              "636          6   5.0       100  Free   0.00     Mature 17+     Dating   \n",
              "...        ...   ...       ...   ...    ...            ...        ...   \n",
              "10721       14  16.0       100  Free   0.00       Everyone     Arcade   \n",
              "10776        1  24.0        10  Free   0.00       Everyone     Racing   \n",
              "10805        3  15.0       100  Free   0.00       Everyone  Lifestyle   \n",
              "10810       19  21.0       100  Free   0.00       Everyone   Business   \n",
              "10837        4   3.6       100  Free   0.00       Everyone  Education   \n",
              "\n",
              "      Last Updated  \n",
              "481     2017-01-21  \n",
              "615     2018-07-24  \n",
              "619     2018-07-17  \n",
              "625     2018-07-31  \n",
              "636     2018-08-01  \n",
              "...            ...  \n",
              "10721   2017-06-19  \n",
              "10776   2018-03-05  \n",
              "10805   2018-08-07  \n",
              "10810   2018-06-12  \n",
              "10837   2018-07-06  \n",
              "\n",
              "[440 rows x 11 columns]"
            ],
            "text/html": [
              "\n",
              "  <div id=\"df-674de18e-0c8a-4dd7-a793-f177ca9cf159\">\n",
              "    <div class=\"colab-df-container\">\n",
              "      <div>\n",
              "<style scoped>\n",
              "    .dataframe tbody tr th:only-of-type {\n",
              "        vertical-align: middle;\n",
              "    }\n",
              "\n",
              "    .dataframe tbody tr th {\n",
              "        vertical-align: top;\n",
              "    }\n",
              "\n",
              "    .dataframe thead th {\n",
              "        text-align: right;\n",
              "    }\n",
              "</style>\n",
              "<table border=\"1\" class=\"dataframe\">\n",
              "  <thead>\n",
              "    <tr style=\"text-align: right;\">\n",
              "      <th></th>\n",
              "      <th>App</th>\n",
              "      <th>Category</th>\n",
              "      <th>Rating</th>\n",
              "      <th>Reviews</th>\n",
              "      <th>Size</th>\n",
              "      <th>Installs</th>\n",
              "      <th>Type</th>\n",
              "      <th>Price</th>\n",
              "      <th>Content Rating</th>\n",
              "      <th>Genres</th>\n",
              "      <th>Last Updated</th>\n",
              "    </tr>\n",
              "  </thead>\n",
              "  <tbody>\n",
              "    <tr>\n",
              "      <th>481</th>\n",
              "      <td>AMBW Dating App: Asian Men Black Women Interra...</td>\n",
              "      <td>DATING</td>\n",
              "      <td>3.5</td>\n",
              "      <td>2</td>\n",
              "      <td>17.0</td>\n",
              "      <td>100</td>\n",
              "      <td>Paid</td>\n",
              "      <td>7.99</td>\n",
              "      <td>Mature 17+</td>\n",
              "      <td>Dating</td>\n",
              "      <td>2017-01-21</td>\n",
              "    </tr>\n",
              "    <tr>\n",
              "      <th>615</th>\n",
              "      <td>Awake Dating</td>\n",
              "      <td>DATING</td>\n",
              "      <td>5.0</td>\n",
              "      <td>2</td>\n",
              "      <td>70.0</td>\n",
              "      <td>100</td>\n",
              "      <td>Free</td>\n",
              "      <td>0.00</td>\n",
              "      <td>Mature 17+</td>\n",
              "      <td>Dating</td>\n",
              "      <td>2018-07-24</td>\n",
              "    </tr>\n",
              "    <tr>\n",
              "      <th>619</th>\n",
              "      <td>Random Chat App with Strangers</td>\n",
              "      <td>DATING</td>\n",
              "      <td>3.0</td>\n",
              "      <td>2</td>\n",
              "      <td>16.0</td>\n",
              "      <td>100</td>\n",
              "      <td>Free</td>\n",
              "      <td>0.00</td>\n",
              "      <td>Mature 17+</td>\n",
              "      <td>Dating</td>\n",
              "      <td>2018-07-17</td>\n",
              "    </tr>\n",
              "    <tr>\n",
              "      <th>625</th>\n",
              "      <td>House party - live chat</td>\n",
              "      <td>DATING</td>\n",
              "      <td>1.0</td>\n",
              "      <td>1</td>\n",
              "      <td>9.2</td>\n",
              "      <td>10</td>\n",
              "      <td>Free</td>\n",
              "      <td>0.00</td>\n",
              "      <td>Mature 17+</td>\n",
              "      <td>Dating</td>\n",
              "      <td>2018-07-31</td>\n",
              "    </tr>\n",
              "    <tr>\n",
              "      <th>636</th>\n",
              "      <td>Girls Live Talk - Free Text and Video Chat</td>\n",
              "      <td>DATING</td>\n",
              "      <td>5.0</td>\n",
              "      <td>6</td>\n",
              "      <td>5.0</td>\n",
              "      <td>100</td>\n",
              "      <td>Free</td>\n",
              "      <td>0.00</td>\n",
              "      <td>Mature 17+</td>\n",
              "      <td>Dating</td>\n",
              "      <td>2018-08-01</td>\n",
              "    </tr>\n",
              "    <tr>\n",
              "      <th>...</th>\n",
              "      <td>...</td>\n",
              "      <td>...</td>\n",
              "      <td>...</td>\n",
              "      <td>...</td>\n",
              "      <td>...</td>\n",
              "      <td>...</td>\n",
              "      <td>...</td>\n",
              "      <td>...</td>\n",
              "      <td>...</td>\n",
              "      <td>...</td>\n",
              "      <td>...</td>\n",
              "    </tr>\n",
              "    <tr>\n",
              "      <th>10721</th>\n",
              "      <td>Mad Dash Fo' Cash</td>\n",
              "      <td>GAME</td>\n",
              "      <td>5.0</td>\n",
              "      <td>14</td>\n",
              "      <td>16.0</td>\n",
              "      <td>100</td>\n",
              "      <td>Free</td>\n",
              "      <td>0.00</td>\n",
              "      <td>Everyone</td>\n",
              "      <td>Arcade</td>\n",
              "      <td>2017-06-19</td>\n",
              "    </tr>\n",
              "    <tr>\n",
              "      <th>10776</th>\n",
              "      <td>Monster Ride Pro</td>\n",
              "      <td>GAME</td>\n",
              "      <td>5.0</td>\n",
              "      <td>1</td>\n",
              "      <td>24.0</td>\n",
              "      <td>10</td>\n",
              "      <td>Free</td>\n",
              "      <td>0.00</td>\n",
              "      <td>Everyone</td>\n",
              "      <td>Racing</td>\n",
              "      <td>2018-03-05</td>\n",
              "    </tr>\n",
              "    <tr>\n",
              "      <th>10805</th>\n",
              "      <td>Scoreboard FR</td>\n",
              "      <td>LIFESTYLE</td>\n",
              "      <td>4.3</td>\n",
              "      <td>3</td>\n",
              "      <td>15.0</td>\n",
              "      <td>100</td>\n",
              "      <td>Free</td>\n",
              "      <td>0.00</td>\n",
              "      <td>Everyone</td>\n",
              "      <td>Lifestyle</td>\n",
              "      <td>2018-08-07</td>\n",
              "    </tr>\n",
              "    <tr>\n",
              "      <th>10810</th>\n",
              "      <td>Fr Lupupa Sermons</td>\n",
              "      <td>BUSINESS</td>\n",
              "      <td>4.8</td>\n",
              "      <td>19</td>\n",
              "      <td>21.0</td>\n",
              "      <td>100</td>\n",
              "      <td>Free</td>\n",
              "      <td>0.00</td>\n",
              "      <td>Everyone</td>\n",
              "      <td>Business</td>\n",
              "      <td>2018-06-12</td>\n",
              "    </tr>\n",
              "    <tr>\n",
              "      <th>10837</th>\n",
              "      <td>Fr. Mike Schmitz Audio Teachings</td>\n",
              "      <td>FAMILY</td>\n",
              "      <td>5.0</td>\n",
              "      <td>4</td>\n",
              "      <td>3.6</td>\n",
              "      <td>100</td>\n",
              "      <td>Free</td>\n",
              "      <td>0.00</td>\n",
              "      <td>Everyone</td>\n",
              "      <td>Education</td>\n",
              "      <td>2018-07-06</td>\n",
              "    </tr>\n",
              "  </tbody>\n",
              "</table>\n",
              "<p>440 rows × 11 columns</p>\n",
              "</div>\n",
              "      <button class=\"colab-df-convert\" onclick=\"convertToInteractive('df-674de18e-0c8a-4dd7-a793-f177ca9cf159')\"\n",
              "              title=\"Convert this dataframe to an interactive table.\"\n",
              "              style=\"display:none;\">\n",
              "        \n",
              "  <svg xmlns=\"http://www.w3.org/2000/svg\" height=\"24px\"viewBox=\"0 0 24 24\"\n",
              "       width=\"24px\">\n",
              "    <path d=\"M0 0h24v24H0V0z\" fill=\"none\"/>\n",
              "    <path d=\"M18.56 5.44l.94 2.06.94-2.06 2.06-.94-2.06-.94-.94-2.06-.94 2.06-2.06.94zm-11 1L8.5 8.5l.94-2.06 2.06-.94-2.06-.94L8.5 2.5l-.94 2.06-2.06.94zm10 10l.94 2.06.94-2.06 2.06-.94-2.06-.94-.94-2.06-.94 2.06-2.06.94z\"/><path d=\"M17.41 7.96l-1.37-1.37c-.4-.4-.92-.59-1.43-.59-.52 0-1.04.2-1.43.59L10.3 9.45l-7.72 7.72c-.78.78-.78 2.05 0 2.83L4 21.41c.39.39.9.59 1.41.59.51 0 1.02-.2 1.41-.59l7.78-7.78 2.81-2.81c.8-.78.8-2.07 0-2.86zM5.41 20L4 18.59l7.72-7.72 1.47 1.35L5.41 20z\"/>\n",
              "  </svg>\n",
              "      </button>\n",
              "      \n",
              "  <style>\n",
              "    .colab-df-container {\n",
              "      display:flex;\n",
              "      flex-wrap:wrap;\n",
              "      gap: 12px;\n",
              "    }\n",
              "\n",
              "    .colab-df-convert {\n",
              "      background-color: #E8F0FE;\n",
              "      border: none;\n",
              "      border-radius: 50%;\n",
              "      cursor: pointer;\n",
              "      display: none;\n",
              "      fill: #1967D2;\n",
              "      height: 32px;\n",
              "      padding: 0 0 0 0;\n",
              "      width: 32px;\n",
              "    }\n",
              "\n",
              "    .colab-df-convert:hover {\n",
              "      background-color: #E2EBFA;\n",
              "      box-shadow: 0px 1px 2px rgba(60, 64, 67, 0.3), 0px 1px 3px 1px rgba(60, 64, 67, 0.15);\n",
              "      fill: #174EA6;\n",
              "    }\n",
              "\n",
              "    [theme=dark] .colab-df-convert {\n",
              "      background-color: #3B4455;\n",
              "      fill: #D2E3FC;\n",
              "    }\n",
              "\n",
              "    [theme=dark] .colab-df-convert:hover {\n",
              "      background-color: #434B5C;\n",
              "      box-shadow: 0px 1px 3px 1px rgba(0, 0, 0, 0.15);\n",
              "      filter: drop-shadow(0px 1px 2px rgba(0, 0, 0, 0.3));\n",
              "      fill: #FFFFFF;\n",
              "    }\n",
              "  </style>\n",
              "\n",
              "      <script>\n",
              "        const buttonEl =\n",
              "          document.querySelector('#df-674de18e-0c8a-4dd7-a793-f177ca9cf159 button.colab-df-convert');\n",
              "        buttonEl.style.display =\n",
              "          google.colab.kernel.accessAllowed ? 'block' : 'none';\n",
              "\n",
              "        async function convertToInteractive(key) {\n",
              "          const element = document.querySelector('#df-674de18e-0c8a-4dd7-a793-f177ca9cf159');\n",
              "          const dataTable =\n",
              "            await google.colab.kernel.invokeFunction('convertToInteractive',\n",
              "                                                     [key], {});\n",
              "          if (!dataTable) return;\n",
              "\n",
              "          const docLinkHtml = 'Like what you see? Visit the ' +\n",
              "            '<a target=\"_blank\" href=https://colab.research.google.com/notebooks/data_table.ipynb>data table notebook</a>'\n",
              "            + ' to learn more about interactive tables.';\n",
              "          element.innerHTML = '';\n",
              "          dataTable['output_type'] = 'display_data';\n",
              "          await google.colab.output.renderOutput(dataTable, element);\n",
              "          const docLink = document.createElement('div');\n",
              "          docLink.innerHTML = docLinkHtml;\n",
              "          element.appendChild(docLink);\n",
              "        }\n",
              "      </script>\n",
              "    </div>\n",
              "  </div>\n",
              "  "
            ]
          },
          "metadata": {},
          "execution_count": 53
        }
      ]
    },
    {
      "cell_type": "code",
      "source": [
        "#  drop all rows that are less than and equal to 100\n",
        "playstore_df.drop(playstore_df[playstore_df.Installs <= 100].index, inplace = True)"
      ],
      "metadata": {
        "id": "XsenIZxGdpED"
      },
      "execution_count": 54,
      "outputs": []
    },
    {
      "cell_type": "code",
      "source": [
        "# get the number of apps for each category\n",
        "sns.set_style('darkgrid')\n",
        "plt.figure(figsize=(15, 7))\n",
        "sns.countplot(x='Category', data=playstore_df)\n",
        "plt.title('Number of Apps Per Category')\n",
        "plt.xticks(rotation=90)\n",
        "plt.ylabel('Number of Apps')\n",
        "plt.show()"
      ],
      "metadata": {
        "colab": {
          "base_uri": "https://localhost:8080/",
          "height": 574
        },
        "id": "fUthmIUad7pA",
        "outputId": "057e0e75-dff6-42e5-a3e0-1977c8fed7d6"
      },
      "execution_count": 55,
      "outputs": [
        {
          "output_type": "display_data",
          "data": {
            "text/plain": [
              "<Figure size 1080x504 with 1 Axes>"
            ],
            "image/png": "[encoded data removed]"
          },
          "metadata": {}
        }
      ]
    },
    {
      "cell_type": "markdown",
      "source": [
        "From this ploting we know that most of the app in play store by categories are form 'Family' , 'Game' and 'Tools'"
      ],
      "metadata": {
        "id": "N6V94QykdUrv"
      }
    },
    {
      "cell_type": "code",
      "source": [
        "fig, ax = plt.subplots(figsize=(20,5))\n",
        "sns.barplot(x='Category', y='Installs', data=playstore_df,ax=ax);\n",
        "plt.xticks(rotation=90);"
      ],
      "metadata": {
        "id": "eCS2CO4VkQMV",
        "colab": {
          "base_uri": "https://localhost:8080/",
          "height": 461
        },
        "outputId": "2160c6da-a519-4f8b-90ea-793b8641f7e8"
      },
      "execution_count": 56,
      "outputs": [
        {
          "output_type": "display_data",
          "data": {
            "text/plain": [
              "<Figure size 1440x360 with 1 Axes>"
            ],
            "image/png": "[encoded data removed]"
          },
          "metadata": {}
        }
      ]
    },
    {
      "cell_type": "markdown",
      "source": [
        "From here it is seen that applications of the category 'BOOKS_AND_REFERENCE', 'COMMUNICATIONS', 'ENTERTAINMENT','GAME', 'FAMILY', 'SOCIAL', 'PHOTOGRAPHY', 'TRAVEL_AND_LOCAL', 'TOOL', 'PRODUCTIVITY', 'VIDEOO_PLAYERS' and 'NEWS_AND_MAGAZINES' are installed the most(1billion+ times). Alongwith these, 'HEALTH_AND_FITNESS' is also installed approximately 4.5milliion+ times."
      ],
      "metadata": {
        "id": "aHjExq5ck_Za"
      }
    },
    {
      "cell_type": "code",
      "source": [
        "#Lets check the percentage of free and paid apps in Dataset.\n",
        "type_pie=playstore_df.groupby('Type').count()\n",
        "type_pie.plot.pie(y='App', figsize=(5,6),autopct='%1.2f%%')"
      ],
      "metadata": {
        "colab": {
          "base_uri": "https://localhost:8080/",
          "height": 327
        },
        "id": "uE43Ht3HkQu0",
        "outputId": "33c0f859-5c5b-41d4-cd4c-9cf4c0101a0f"
      },
      "execution_count": 57,
      "outputs": [
        {
          "output_type": "execute_result",
          "data": {
            "text/plain": [
              "<matplotlib.axes._subplots.AxesSubplot at 0x7feb7adf99d0>"
            ]
          },
          "metadata": {},
          "execution_count": 57
        },
        {
          "output_type": "display_data",
          "data": {
            "text/plain": [
              "<Figure size 360x432 with 1 Axes>"
            ],
            "image/png": "[encoded data removed]"
          },
          "metadata": {}
        }
      ]
    },
    {
      "cell_type": "markdown",
      "source": [
        "In above pie chart we can see, Free apps are installed more than paid apps.\\"
      ],
      "metadata": {
        "id": "drL58RjFpfBY"
      }
    },
    {
      "cell_type": "code",
      "source": [
        "sns.catplot(y='Content Rating', x='Installs', data=playstore_df,kind='bar', orient='h');"
      ],
      "metadata": {
        "id": "2aoWbNT5l-EV",
        "colab": {
          "base_uri": "https://localhost:8080/",
          "height": 369
        },
        "outputId": "2e9c78f4-96b4-4654-929a-83a620affcdd"
      },
      "execution_count": 58,
      "outputs": [
        {
          "output_type": "display_data",
          "data": {
            "text/plain": [
              "<Figure size 360x360 with 1 Axes>"
            ],
            "image/png": "[encoded data removed]"
          },
          "metadata": {}
        }
      ]
    },
    {
      "cell_type": "markdown",
      "source": [
        "Apps targeted at any age groups other than those labelled 'Adults only 18+' and 'Unrated' are installed. It can however be seen that apps labelled 'Teen' and 'Everyone 10+' are installed 30 million+ times.\n",
        "\n"
      ],
      "metadata": {
        "id": "Yu2gmsz_sdYw"
      }
    },
    {
      "cell_type": "code",
      "source": [
        "sns.lineplot(data = playstore_df, x='Size', y='Installs')"
      ],
      "metadata": {
        "colab": {
          "base_uri": "https://localhost:8080/",
          "height": 307
        },
        "id": "4f9hITIbMfMZ",
        "outputId": "02812493-f051-4fe3-b176-0399af1ad528"
      },
      "execution_count": 59,
      "outputs": [
        {
          "output_type": "execute_result",
          "data": {
            "text/plain": [
              "<matplotlib.axes._subplots.AxesSubplot at 0x7feb7d8f0b50>"
            ]
          },
          "metadata": {},
          "execution_count": 59
        },
        {
          "output_type": "display_data",
          "data": {
            "text/plain": [
              "<Figure size 432x288 with 1 Axes>"
            ],
            "image/png": "[encoded data removed]"
          },
          "metadata": {}
        }
      ]
    },
    {
      "cell_type": "markdown",
      "source": [
        " From above chart, we can say that the applications whose sizes are from 15-20 having maximum number of installs.\n",
        "\n"
      ],
      "metadata": {
        "id": "bo_3vqSeM5TJ"
      }
    },
    {
      "cell_type": "markdown",
      "source": [
        "**Now we will merge the dataframes**"
      ],
      "metadata": {
        "id": "y2nuVNuDq-y6"
      }
    },
    {
      "cell_type": "code",
      "source": [
        "# merging and storing in 'merged_df'\n",
        "merged_df=playstore_df.merge(review_df,how='inner',left_on='App',right_on='App')"
      ],
      "metadata": {
        "id": "_6opP1fYrkx0"
      },
      "execution_count": 60,
      "outputs": []
    },
    {
      "cell_type": "code",
      "source": [
        "# let us see the shape\n",
        "merged_df.shape"
      ],
      "metadata": {
        "id": "QhgSvC4Srrs9",
        "colab": {
          "base_uri": "https://localhost:8080/"
        },
        "outputId": "63c08a2f-8265-4b46-b764-a37d720eedfe"
      },
      "execution_count": 61,
      "outputs": [
        {
          "output_type": "execute_result",
          "data": {
            "text/plain": [
              "(38574, 15)"
            ]
          },
          "metadata": {},
          "execution_count": 61
        }
      ]
    },
    {
      "cell_type": "code",
      "source": [
        "merged_df.head()"
      ],
      "metadata": {
        "id": "TuEZl1b2ruV-",
        "colab": {
          "base_uri": "https://localhost:8080/",
          "height": 441
        },
        "outputId": "63703eb0-c177-4d41-8a4a-d25d13b9f3b1"
      },
      "execution_count": 62,
      "outputs": [
        {
          "output_type": "execute_result",
          "data": {
            "text/plain": [
              "                   App        Category  Rating  Reviews  Size  Installs  Type  \\\n",
              "0  Coloring book moana  ART_AND_DESIGN     3.9      967  14.0    500000  Free   \n",
              "1  Coloring book moana  ART_AND_DESIGN     3.9      967  14.0    500000  Free   \n",
              "2  Coloring book moana  ART_AND_DESIGN     3.9      967  14.0    500000  Free   \n",
              "3  Coloring book moana  ART_AND_DESIGN     3.9      967  14.0    500000  Free   \n",
              "4  Coloring book moana  ART_AND_DESIGN     3.9      967  14.0    500000  Free   \n",
              "\n",
              "   Price Content Rating                     Genres Last Updated  \\\n",
              "0    0.0       Everyone  Art & Design;Pretend Play   2018-01-15   \n",
              "1    0.0       Everyone  Art & Design;Pretend Play   2018-01-15   \n",
              "2    0.0       Everyone  Art & Design;Pretend Play   2018-01-15   \n",
              "3    0.0       Everyone  Art & Design;Pretend Play   2018-01-15   \n",
              "4    0.0       Everyone  Art & Design;Pretend Play   2018-01-15   \n",
              "\n",
              "                                   Translated_Review Sentiment  \\\n",
              "0  A kid's excessive ads. The types ads allowed a...  Negative   \n",
              "1                                         It bad >:(  Negative   \n",
              "2                                               like   Neutral   \n",
              "3                           I love colors inspyering  Positive   \n",
              "4                                             I hate  Negative   \n",
              "\n",
              "   Sentiment_Polarity  Sentiment_Subjectivity  \n",
              "0              -0.250                1.000000  \n",
              "1              -0.725                0.833333  \n",
              "2               0.000                0.000000  \n",
              "3               0.500                0.600000  \n",
              "4              -0.800                0.900000  "
            ],
            "text/html": [
              "\n",
              "  <div id=\"df-d32b4059-b38f-40e7-a3d8-b207b99a1608\">\n",
              "    <div class=\"colab-df-container\">\n",
              "      <div>\n",
              "<style scoped>\n",
              "    .dataframe tbody tr th:only-of-type {\n",
              "        vertical-align: middle;\n",
              "    }\n",
              "\n",
              "    .dataframe tbody tr th {\n",
              "        vertical-align: top;\n",
              "    }\n",
              "\n",
              "    .dataframe thead th {\n",
              "        text-align: right;\n",
              "    }\n",
              "</style>\n",
              "<table border=\"1\" class=\"dataframe\">\n",
              "  <thead>\n",
              "    <tr style=\"text-align: right;\">\n",
              "      <th></th>\n",
              "      <th>App</th>\n",
              "      <th>Category</th>\n",
              "      <th>Rating</th>\n",
              "      <th>Reviews</th>\n",
              "      <th>Size</th>\n",
              "      <th>Installs</th>\n",
              "      <th>Type</th>\n",
              "      <th>Price</th>\n",
              "      <th>Content Rating</th>\n",
              "      <th>Genres</th>\n",
              "      <th>Last Updated</th>\n",
              "      <th>Translated_Review</th>\n",
              "      <th>Sentiment</th>\n",
              "      <th>Sentiment_Polarity</th>\n",
              "      <th>Sentiment_Subjectivity</th>\n",
              "    </tr>\n",
              "  </thead>\n",
              "  <tbody>\n",
              "    <tr>\n",
              "      <th>0</th>\n",
              "      <td>Coloring book moana</td>\n",
              "      <td>ART_AND_DESIGN</td>\n",
              "      <td>3.9</td>\n",
              "      <td>967</td>\n",
              "      <td>14.0</td>\n",
              "      <td>500000</td>\n",
              "      <td>Free</td>\n",
              "      <td>0.0</td>\n",
              "      <td>Everyone</td>\n",
              "      <td>Art &amp; Design;Pretend Play</td>\n",
              "      <td>2018-01-15</td>\n",
              "      <td>A kid's excessive ads. The types ads allowed a...</td>\n",
              "      <td>Negative</td>\n",
              "      <td>-0.250</td>\n",
              "      <td>1.000000</td>\n",
              "    </tr>\n",
              "    <tr>\n",
              "      <th>1</th>\n",
              "      <td>Coloring book moana</td>\n",
              "      <td>ART_AND_DESIGN</td>\n",
              "      <td>3.9</td>\n",
              "      <td>967</td>\n",
              "      <td>14.0</td>\n",
              "      <td>500000</td>\n",
              "      <td>Free</td>\n",
              "      <td>0.0</td>\n",
              "      <td>Everyone</td>\n",
              "      <td>Art &amp; Design;Pretend Play</td>\n",
              "      <td>2018-01-15</td>\n",
              "      <td>It bad &gt;:(</td>\n",
              "      <td>Negative</td>\n",
              "      <td>-0.725</td>\n",
              "      <td>0.833333</td>\n",
              "    </tr>\n",
              "    <tr>\n",
              "      <th>2</th>\n",
              "      <td>Coloring book moana</td>\n",
              "      <td>ART_AND_DESIGN</td>\n",
              "      <td>3.9</td>\n",
              "      <td>967</td>\n",
              "      <td>14.0</td>\n",
              "      <td>500000</td>\n",
              "      <td>Free</td>\n",
              "      <td>0.0</td>\n",
              "      <td>Everyone</td>\n",
              "      <td>Art &amp; Design;Pretend Play</td>\n",
              "      <td>2018-01-15</td>\n",
              "      <td>like</td>\n",
              "      <td>Neutral</td>\n",
              "      <td>0.000</td>\n",
              "      <td>0.000000</td>\n",
              "    </tr>\n",
              "    <tr>\n",
              "      <th>3</th>\n",
              "      <td>Coloring book moana</td>\n",
              "      <td>ART_AND_DESIGN</td>\n",
              "      <td>3.9</td>\n",
              "      <td>967</td>\n",
              "      <td>14.0</td>\n",
              "      <td>500000</td>\n",
              "      <td>Free</td>\n",
              "      <td>0.0</td>\n",
              "      <td>Everyone</td>\n",
              "      <td>Art &amp; Design;Pretend Play</td>\n",
              "      <td>2018-01-15</td>\n",
              "      <td>I love colors inspyering</td>\n",
              "      <td>Positive</td>\n",
              "      <td>0.500</td>\n",
              "      <td>0.600000</td>\n",
              "    </tr>\n",
              "    <tr>\n",
              "      <th>4</th>\n",
              "      <td>Coloring book moana</td>\n",
              "      <td>ART_AND_DESIGN</td>\n",
              "      <td>3.9</td>\n",
              "      <td>967</td>\n",
              "      <td>14.0</td>\n",
              "      <td>500000</td>\n",
              "      <td>Free</td>\n",
              "      <td>0.0</td>\n",
              "      <td>Everyone</td>\n",
              "      <td>Art &amp; Design;Pretend Play</td>\n",
              "      <td>2018-01-15</td>\n",
              "      <td>I hate</td>\n",
              "      <td>Negative</td>\n",
              "      <td>-0.800</td>\n",
              "      <td>0.900000</td>\n",
              "    </tr>\n",
              "  </tbody>\n",
              "</table>\n",
              "</div>\n",
              "      <button class=\"colab-df-convert\" onclick=\"convertToInteractive('df-d32b4059-b38f-40e7-a3d8-b207b99a1608')\"\n",
              "              title=\"Convert this dataframe to an interactive table.\"\n",
              "              style=\"display:none;\">\n",
              "        \n",
              "  <svg xmlns=\"http://www.w3.org/2000/svg\" height=\"24px\"viewBox=\"0 0 24 24\"\n",
              "       width=\"24px\">\n",
              "    <path d=\"M0 0h24v24H0V0z\" fill=\"none\"/>\n",
              "    <path d=\"M18.56 5.44l.94 2.06.94-2.06 2.06-.94-2.06-.94-.94-2.06-.94 2.06-2.06.94zm-11 1L8.5 8.5l.94-2.06 2.06-.94-2.06-.94L8.5 2.5l-.94 2.06-2.06.94zm10 10l.94 2.06.94-2.06 2.06-.94-2.06-.94-.94-2.06-.94 2.06-2.06.94z\"/><path d=\"M17.41 7.96l-1.37-1.37c-.4-.4-.92-.59-1.43-.59-.52 0-1.04.2-1.43.59L10.3 9.45l-7.72 7.72c-.78.78-.78 2.05 0 2.83L4 21.41c.39.39.9.59 1.41.59.51 0 1.02-.2 1.41-.59l7.78-7.78 2.81-2.81c.8-.78.8-2.07 0-2.86zM5.41 20L4 18.59l7.72-7.72 1.47 1.35L5.41 20z\"/>\n",
              "  </svg>\n",
              "      </button>\n",
              "      \n",
              "  <style>\n",
              "    .colab-df-container {\n",
              "      display:flex;\n",
              "      flex-wrap:wrap;\n",
              "      gap: 12px;\n",
              "    }\n",
              "\n",
              "    .colab-df-convert {\n",
              "      background-color: #E8F0FE;\n",
              "      border: none;\n",
              "      border-radius: 50%;\n",
              "      cursor: pointer;\n",
              "      display: none;\n",
              "      fill: #1967D2;\n",
              "      height: 32px;\n",
              "      padding: 0 0 0 0;\n",
              "      width: 32px;\n",
              "    }\n",
              "\n",
              "    .colab-df-convert:hover {\n",
              "      background-color: #E2EBFA;\n",
              "      box-shadow: 0px 1px 2px rgba(60, 64, 67, 0.3), 0px 1px 3px 1px rgba(60, 64, 67, 0.15);\n",
              "      fill: #174EA6;\n",
              "    }\n",
              "\n",
              "    [theme=dark] .colab-df-convert {\n",
              "      background-color: #3B4455;\n",
              "      fill: #D2E3FC;\n",
              "    }\n",
              "\n",
              "    [theme=dark] .colab-df-convert:hover {\n",
              "      background-color: #434B5C;\n",
              "      box-shadow: 0px 1px 3px 1px rgba(0, 0, 0, 0.15);\n",
              "      filter: drop-shadow(0px 1px 2px rgba(0, 0, 0, 0.3));\n",
              "      fill: #FFFFFF;\n",
              "    }\n",
              "  </style>\n",
              "\n",
              "      <script>\n",
              "        const buttonEl =\n",
              "          document.querySelector('#df-d32b4059-b38f-40e7-a3d8-b207b99a1608 button.colab-df-convert');\n",
              "        buttonEl.style.display =\n",
              "          google.colab.kernel.accessAllowed ? 'block' : 'none';\n",
              "\n",
              "        async function convertToInteractive(key) {\n",
              "          const element = document.querySelector('#df-d32b4059-b38f-40e7-a3d8-b207b99a1608');\n",
              "          const dataTable =\n",
              "            await google.colab.kernel.invokeFunction('convertToInteractive',\n",
              "                                                     [key], {});\n",
              "          if (!dataTable) return;\n",
              "\n",
              "          const docLinkHtml = 'Like what you see? Visit the ' +\n",
              "            '<a target=\"_blank\" href=https://colab.research.google.com/notebooks/data_table.ipynb>data table notebook</a>'\n",
              "            + ' to learn more about interactive tables.';\n",
              "          element.innerHTML = '';\n",
              "          dataTable['output_type'] = 'display_data';\n",
              "          await google.colab.output.renderOutput(dataTable, element);\n",
              "          const docLink = document.createElement('div');\n",
              "          docLink.innerHTML = docLinkHtml;\n",
              "          element.appendChild(docLink);\n",
              "        }\n",
              "      </script>\n",
              "    </div>\n",
              "  </div>\n",
              "  "
            ]
          },
          "metadata": {},
          "execution_count": 62
        }
      ]
    },
    {
      "cell_type": "code",
      "source": [
        "# mean of sentiment_polarity category wise\n",
        "merged_df.groupby('Category')['Sentiment_Polarity'].mean().plot(kind='bar',color='green',figsize=(30,10))"
      ],
      "metadata": {
        "id": "9DGJBCA3rxO1",
        "colab": {
          "base_uri": "https://localhost:8080/",
          "height": 617
        },
        "outputId": "6c9f4478-1ce6-459b-f05e-ad37b0e5d5cd"
      },
      "execution_count": 63,
      "outputs": [
        {
          "output_type": "execute_result",
          "data": {
            "text/plain": [
              "<matplotlib.axes._subplots.AxesSubplot at 0x7feb7c87af50>"
            ]
          },
          "metadata": {},
          "execution_count": 63
        },
        {
          "output_type": "display_data",
          "data": {
            "text/plain": [
              "<Figure size 2160x720 with 1 Axes>"
            ],
            "image/png": "[encoded data removed]"
          },
          "metadata": {}
        }
      ]
    }
  ]
}